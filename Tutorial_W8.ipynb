{
 "cells": [
  {
   "cell_type": "markdown",
   "metadata": {},
   "source": [
    "# Practical 8: Association Mining\n",
    "\n",
    "### In this practical\n",
    "1. [Performing association mining](#apriori)\n",
    "2. [Running and understanding results of association mining](#assoc)\n",
    "\n",
    "---\n",
    "**Written by Richi Nayak (r.nayak@qut.edu.au). All rights reserved.**\n",
    "\n",
    "This practical introduces you to association rules mining using Python. You will learn how to preprocess data for association, building apriori model and evaluate/understanding the results. Different from the algorithms/models introduced in the first half of the semester, the dataset used for association rules mining is **transactional**. This dataset do not have the label information that is mandatory in predictive data mining. "
   ]
  },
  {
   "cell_type": "markdown",
   "metadata": {},
   "source": [
    "## 1. Performing Association Mining<a name = \"apriori\"></a>\n",
    "\n",
    "A bank’s Marketing department is interested in examining associations between\n",
    "various retail banking services used by its customers. Marketing would like to\n",
    "determine both typical and atypical service combinations. The dataset is in\n",
    "provided in the file `bank.csv`.\n",
    "\n",
    "These requirements suggest association mining, a market basket analysis. The\n",
    "data for this problem is usually consists of two variables: a transaction ID and an item. For each transaction, there is a list of items. For the banking\n",
    "dataset, a transaction is an individual customer account, and items are products bought by the customer. An association rule is a statement of the form (item set A) => (item set B).\n",
    "\n",
    "Recall from the lecture that the most common association rule mining algorith is **Apriori algorithm**. Unfortunately, `sklearn` does not provide any\n",
    "implementation of Apriori algorithm. Therefore, we will install and use a\n",
    "library called `apyori` for this task.\n",
    "\n",
    "Open your Anaconda prompt and install the library using this command:"
   ]
  },
  {
   "cell_type": "markdown",
   "metadata": {},
   "source": [
    "```bash\n",
    "pip install apyori\n",
    "```"
   ]
  },
  {
   "cell_type": "markdown",
   "metadata": {
    "collapsed": true
   },
   "source": [
    "Once the library is installed, we need to perform some data preprocessing on the `bank` dataset. Firstly, load the data set using pandas."
   ]
  },
  {
   "cell_type": "code",
   "execution_count": 1,
   "metadata": {},
   "outputs": [
    {
     "name": "stdout",
     "output_type": "stream",
     "text": [
      "<class 'pandas.core.frame.DataFrame'>\n",
      "RangeIndex: 32367 entries, 0 to 32366\n",
      "Data columns (total 3 columns):\n",
      " #   Column   Non-Null Count  Dtype \n",
      "---  ------   --------------  ----- \n",
      " 0   ACCOUNT  32367 non-null  int64 \n",
      " 1   SERVICE  32367 non-null  object\n",
      " 2   VISIT    32367 non-null  int64 \n",
      "dtypes: int64(2), object(1)\n",
      "memory usage: 758.7+ KB\n",
      "None\n",
      "   ACCOUNT SERVICE  VISIT\n",
      "0   500026   CKING      1\n",
      "1   500026     SVG      2\n",
      "2   500026     ATM      3\n",
      "3   500026     ATM      4\n",
      "4   500075   CKING      1\n",
      "5   500075    MMDA      2\n",
      "6   500075     SVG      3\n",
      "7   500075     ATM      4\n",
      "8   500075   TRUST      5\n",
      "9   500075   TRUST      6\n"
     ]
    }
   ],
   "source": [
    "import pandas as pd\n",
    "\n",
    "# load the bank transaction dataset\n",
    "df = pd.read_csv('bank.csv')\n",
    "\n",
    "# info and the first 10 transactions\n",
    "print(df.info())\n",
    "print(df.head(10))"
   ]
  },
  {
   "cell_type": "markdown",
   "metadata": {},
   "source": [
    "The BANK data set contains service information for nearly 8,000 customers. There are three variables in the data set:\n",
    "1. ACCOUNT: Account number, nominal\n",
    "2. SERVICE: Type of service, nominal\n",
    "3. VISIT: Order of product purchased, ordinal\n",
    "\n",
    "The BANK data set has over 32,000 rows. Each row of the data set represents a customer-service combination. Therefore, a single customer can have multiple rows in the data set, and each row represents one of the products he or she owns. The median number of products per customer is three. The 13 products are represented in the data set using the following abbreviations:\n",
    "* ATM - automated teller machine debit card\n",
    "* AUTO automobile installment loan\n",
    "* CCRD credit card\n",
    "* CD certificate of deposit\n",
    "* CKCRD check/debit card\n",
    "* CKING checking account\n",
    "* HMEQLC home equity line of credit\n",
    "* IRA individual retirement account\n",
    "* MMDA money market deposit account\n",
    "* MTG mortgage\n",
    "* PLOAN personal/consumer installment loan\n",
    "* SVG saving account\n",
    "* TRUST personal trust account\n",
    "\n",
    "As we are looking to generate association rules from items purchased by each account holder, we need to group our accounts and then generate list of all services purchased."
   ]
  },
  {
   "cell_type": "code",
   "execution_count": 2,
   "metadata": {},
   "outputs": [
    {
     "name": "stdout",
     "output_type": "stream",
     "text": [
      "ACCOUNT\n",
      "500026                   [CKING, SVG, ATM, ATM]\n",
      "500075    [CKING, MMDA, SVG, ATM, TRUST, TRUST]\n",
      "500129              [CKING, SVG, IRA, ATM, ATM]\n",
      "500256               [CKING, SVG, CKCRD, CKCRD]\n",
      "500341               [CKING, SVG, CKCRD, CKCRD]\n",
      "Name: SERVICE, dtype: object\n"
     ]
    }
   ],
   "source": [
    "# group by account, then list all services\n",
    "transactions = df.groupby(['ACCOUNT'])['SERVICE'].apply(list)\n",
    "\n",
    "print(transactions.head(5))"
   ]
  },
  {
   "cell_type": "markdown",
   "metadata": {},
   "source": [
    "## 2. Running and understanding results of association mining <a name = \"assoc\"></a>"
   ]
  },
  {
   "cell_type": "markdown",
   "metadata": {},
   "source": [
    "Once the `transactions` table contains all services purchased by each account number, we are ready to generate association rules. The `apyori`'s `apriori` function accepts a number of parameters, mainly:\n",
    "1. `transactions`: list of list of items in transactions (eg. [['A', 'B'], ['B', 'C']]).\n",
    "2. `min_support`: Minimum support of relations in float percentage. It specifies a minimum level of support to claim that items are associated (i.e. they occur together in the dataset). Default 0.1.\n",
    "3. `min_confidence`: Minimum confidence of relations in float percentage. Default 0.0.\n",
    "4. `min_lift`: Minimum lift of relations in float percentage. Default 0.0.\n",
    "5. `max_length`: Max length of the relations. Default None.\n",
    "\n",
    "Note: The min_support and min_confidence controls the numbers and types of rules generated. If you are interested in associations that involve fairly rare products, you should consider reducing the min_support. If you obtain too many rules to be practically useful, you should consider raising min_suport and min_confidence as a possible solution\n",
    "\n",
    "We will run the `apyori` model with the pre-processed transactions and min_support of 0.05."
   ]
  },
  {
   "cell_type": "code",
   "execution_count": 3,
   "metadata": {},
   "outputs": [
    {
     "name": "stdout",
     "output_type": "stream",
     "text": [
      "[RelationRecord(items=frozenset({'ATM'}), support=0.3845576273307471, ordered_statistics=[OrderedStatistic(items_base=frozenset(), items_add=frozenset({'ATM'}), confidence=0.3845576273307471, lift=1.0)]), RelationRecord(items=frozenset({'AUTO'}), support=0.09285446126892755, ordered_statistics=[OrderedStatistic(items_base=frozenset(), items_add=frozenset({'AUTO'}), confidence=0.09285446126892755, lift=1.0)]), RelationRecord(items=frozenset({'CCRD'}), support=0.154799149042673, ordered_statistics=[OrderedStatistic(items_base=frozenset(), items_add=frozenset({'CCRD'}), confidence=0.154799149042673, lift=1.0)]), RelationRecord(items=frozenset({'CD'}), support=0.24527593542735576, ordered_statistics=[OrderedStatistic(items_base=frozenset(), items_add=frozenset({'CD'}), confidence=0.24527593542735576, lift=1.0)]), RelationRecord(items=frozenset({'CKCRD'}), support=0.11300212739331748, ordered_statistics=[OrderedStatistic(items_base=frozenset(), items_add=frozenset({'CKCRD'}), confidence=0.11300212739331748, lift=1.0)])]\n"
     ]
    }
   ],
   "source": [
    "from apyori import apriori\n",
    "\n",
    "# type cast the transactions from pandas into normal list format and run apriori\n",
    "transaction_list = list(transactions)\n",
    "results = list(apriori(transaction_list, min_support=0.05))\n",
    "\n",
    "# print first 5 rules\n",
    "print(results[:5])"
   ]
  },
  {
   "cell_type": "markdown",
   "metadata": {},
   "source": [
    "The output might look very cluttered. The following function can be used printing them neatly. We will not go deeper to explain how it works and it is not essential for your learning objective, but we have included some comments to help you out."
   ]
  },
  {
   "cell_type": "code",
   "execution_count": 4,
   "metadata": {},
   "outputs": [
    {
     "name": "stdout",
     "output_type": "stream",
     "text": [
      "   Left_side  Right_side   Support  Confidence      Lift\n",
      "0                    ATM  0.384558    0.384558  1.000000\n",
      "1                   AUTO  0.092854    0.092854  1.000000\n",
      "2                   CCRD  0.154799    0.154799  1.000000\n",
      "3                     CD  0.245276    0.245276  1.000000\n",
      "4                  CKCRD  0.113002    0.113002  1.000000\n",
      "5                  CKING  0.857840    0.857840  1.000000\n",
      "6                 HMEQLC  0.164685    0.164685  1.000000\n",
      "7                    IRA  0.108372    0.108372  1.000000\n",
      "8                   MMDA  0.174446    0.174446  1.000000\n",
      "9                    MTG  0.074334    0.074334  1.000000\n",
      "10                   SVG  0.618696    0.618696  1.000000\n",
      "11                ATM,CD  0.071581    0.071581  1.000000\n",
      "12       ATM          CD  0.071581    0.186137  0.758889\n",
      "13        CD         ATM  0.071581    0.291837  0.758889\n",
      "14             ATM,CKING  0.361907    0.361907  1.000000\n",
      "15       ATM       CKING  0.361907    0.941100  1.097058\n",
      "16     CKING         ATM  0.361907    0.421882  1.097058\n",
      "17            ATM,HMEQLC  0.085346    0.085346  1.000000\n",
      "18       ATM      HMEQLC  0.085346    0.221933  1.347619\n",
      "19    HMEQLC         ATM  0.085346    0.518237  1.347619\n"
     ]
    }
   ],
   "source": [
    "def convert_apriori_results_to_pandas_df(results):\n",
    "    rules = []\n",
    "    \n",
    "    for rule_set in results:\n",
    "        for rule in rule_set.ordered_statistics:\n",
    "            # items_base = left side of rules, items_add = right side\n",
    "            # support, confidence and lift for respective rules\n",
    "            rules.append([','.join(rule.items_base), ','.join(rule.items_add),\n",
    "                         rule_set.support, rule.confidence, rule.lift]) \n",
    "    \n",
    "    # typecast it to pandas df\n",
    "    return pd.DataFrame(rules, columns=['Left_side', 'Right_side', 'Support', 'Confidence', 'Lift']) \n",
    "\n",
    "result_df = convert_apriori_results_to_pandas_df(results)\n",
    "\n",
    "print(result_df.head(20))"
   ]
  },
  {
   "cell_type": "markdown",
   "metadata": {},
   "source": [
    "The table contains statistics of support, confidence and lift for each of the rules.\n",
    "\n",
    "Consider the rule A ⇒ B. Recall the following concepts from lecture:\n",
    "* Support of A ⇒ B is the probability that a customer has both A and B.\n",
    "* Confidence of A ⇒ B is the probability that a customer has B given that the customer has A.\n",
    "* Expected confidence (not shown here) of A ⇒ B is the probability that a customer has B.\n",
    "* Lift of A ⇒ B is a measure of strength of the association. The Lift=2 for the rule A=>B indicates that a customer having A is twice as likely to have B than a customer chosen at random.\n",
    "\n",
    "In a typical setting, we would like to view the rules by lift value. Sort the rules using code below:"
   ]
  },
  {
   "cell_type": "code",
   "execution_count": 5,
   "metadata": {},
   "outputs": [
    {
     "name": "stdout",
     "output_type": "stream",
     "text": [
      "         Left_side     Right_side   Support  Confidence      Lift\n",
      "131          CKCRD     CKING,CCRD  0.055813    0.493909  3.325045\n",
      "134     CKING,CCRD          CKCRD  0.055813    0.375737  3.325045\n",
      "33            CCRD          CKCRD  0.055813    0.360550  3.190645\n",
      "130           CCRD    CKING,CKCRD  0.055813    0.360550  3.190645\n",
      "135    CKING,CKCRD           CCRD  0.055813    0.493909  3.190645\n",
      "34           CKCRD           CCRD  0.055813    0.493909  3.190645\n",
      "203     HMEQLC,SVG      ATM,CKING  0.060944    0.546577  1.510268\n",
      "198      ATM,CKING     HMEQLC,SVG  0.060944    0.168396  1.510268\n",
      "196         HMEQLC  ATM,CKING,SVG  0.060944    0.370061  1.489001\n",
      "205  ATM,CKING,SVG         HMEQLC  0.060944    0.245217  1.489001\n"
     ]
    }
   ],
   "source": [
    "# sort all acquired rules descending by lift\n",
    "result_df = result_df.sort_values(by='Lift', ascending=False)\n",
    "print(result_df.head(10))"
   ]
  },
  {
   "cell_type": "markdown",
   "metadata": {},
   "source": [
    "The highest lift rule is *checking*, and *credit card* implies *check card*. This is not surprising given that many check cards include credit card logos."
   ]
  },
  {
   "cell_type": "markdown",
   "metadata": {},
   "source": [
    "## End Notes\n",
    "\n",
    "In these notes, we learned to build association mining model using `apyori` library and explored the rules produced by it. Market basket analysis, association rule mining, infers rules from a transaction data set. The value of the generated rules is gauged by lift, confidence and support."
   ]
  }
 ],
 "metadata": {
  "kernelspec": {
   "display_name": "Python 3",
   "language": "python",
   "name": "python3"
  },
  "language_info": {
   "codemirror_mode": {
    "name": "ipython",
    "version": 3
   },
   "file_extension": ".py",
   "mimetype": "text/x-python",
   "name": "python",
   "nbconvert_exporter": "python",
   "pygments_lexer": "ipython3",
   "version": "3.7.6"
  }
 },
 "nbformat": 4,
 "nbformat_minor": 2
}

{
 "cells": [
  {
   "cell_type": "markdown",
   "metadata": {},
   "source": [
    "# Question 3c, idk"
   ]
  },
  {
   "cell_type": "markdown",
   "metadata": {},
   "source": [
    "# Question 2"
   ]
  },
  {
   "cell_type": "code",
   "execution_count": 4,
   "metadata": {},
   "outputs": [],
   "source": [
    "import pandas as pd\n",
    "import numpy as np\n",
    "# from apyori import "
   ]
  },
  {
   "cell_type": "markdown",
   "metadata": {},
   "source": [
    "### Loading in the data"
   ]
  },
  {
   "cell_type": "code",
   "execution_count": 5,
   "metadata": {},
   "outputs": [
    {
     "name": "stdout",
     "output_type": "stream",
     "text": [
      "<class 'pandas.core.frame.DataFrame'>\n",
      "RangeIndex: 459223 entries, 0 to 459222\n",
      "Data columns (total 5 columns):\n",
      " #   Column      Non-Null Count   Dtype \n",
      "---  ------      --------------   ----- \n",
      " 0   LOC         459223 non-null  int64 \n",
      " 1   TRANS_ID    459223 non-null  int64 \n",
      " 2   TRANS_DATE  459223 non-null  object\n",
      " 3   PRODUCT     459223 non-null  object\n",
      " 4   QUANTITY    459223 non-null  int64 \n",
      "dtypes: int64(3), object(2)\n",
      "memory usage: 17.5+ MB\n",
      "None\n",
      "   LOC  TRANS_ID  TRANS_DATE PRODUCT  QUANTITY\n",
      "0    6     12572  12/23/2018     Tea         1\n",
      "1    6     12572  12/23/2018     Tea         1\n",
      "2    6     12572  12/23/2018     Tea         1\n",
      "3    4     12575  12/23/2018     Tea         1\n",
      "4   10     12578  12/23/2018     Egg         1\n",
      "5    3     12587  12/23/2018     Tea         1\n",
      "6    3     12587  12/23/2018     Tea         1\n",
      "7    3     12620  12/23/2018  Cereal         1\n",
      "8    3     12620  12/23/2018   Bread         1\n",
      "9    3     12620  12/23/2018   Bread         1\n"
     ]
    }
   ],
   "source": [
    "# load the bank transaction dataset\n",
    "df = pd.read_csv('retail_row.csv')\n",
    "\n",
    "# info and the first 10 transactions\n",
    "print(df.info())\n",
    "print(df.head(10))"
   ]
  },
  {
   "cell_type": "markdown",
   "metadata": {},
   "source": [
    "### Combining the transactions into a list for association mining"
   ]
  },
  {
   "cell_type": "code",
   "execution_count": 6,
   "metadata": {},
   "outputs": [
    {
     "name": "stdout",
     "output_type": "stream",
     "text": [
      "TRANS_ID\n",
      "12572              {Tea}\n",
      "12575              {Tea}\n",
      "12578              {Egg}\n",
      "12587              {Tea}\n",
      "12620    {Cereal, Bread}\n",
      "Name: PRODUCT, dtype: object\n"
     ]
    }
   ],
   "source": [
    "# group by transaction ID then list all the products. Note that the set function was used instead of list to remove duplicates.\n",
    "transactions = df.groupby(['TRANS_ID'])['PRODUCT'].apply(set)#.apply(list)\n",
    "\n",
    "print(transactions.head(5))"
   ]
  },
  {
   "cell_type": "markdown",
   "metadata": {},
   "source": [
    "### Running the rule finding"
   ]
  },
  {
   "cell_type": "code",
   "execution_count": 7,
   "metadata": {},
   "outputs": [
    {
     "name": "stdout",
     "output_type": "stream",
     "text": [
      "[RelationRecord(items=frozenset({'Bread'}), support=0.05464464479480756, ordered_statistics=[OrderedStatistic(items_base=frozenset(), items_add=frozenset({'Bread'}), confidence=0.05464464479480756, lift=1.0)]), RelationRecord(items=frozenset({'Butter'}), support=0.06735572523664511, ordered_statistics=[OrderedStatistic(items_base=frozenset(), items_add=frozenset({'Butter'}), confidence=0.06735572523664511, lift=1.0)]), RelationRecord(items=frozenset({'Cereal'}), support=0.05847997079751779, ordered_statistics=[OrderedStatistic(items_base=frozenset(), items_add=frozenset({'Cereal'}), confidence=0.05847997079751779, lift=1.0)]), RelationRecord(items=frozenset({'Cheese'}), support=0.014506233029807533, ordered_statistics=[OrderedStatistic(items_base=frozenset(), items_add=frozenset({'Cheese'}), confidence=0.014506233029807533, lift=1.0)]), RelationRecord(items=frozenset({'Coffee'}), support=0.04302865743588205, ordered_statistics=[OrderedStatistic(items_base=frozenset(), items_add=frozenset({'Coffee'}), confidence=0.04302865743588205, lift=1.0)])]\n"
     ]
    }
   ],
   "source": [
    "from apyori import apriori\n",
    "\n",
    "# type cast the transactions from pandas into normal list format and run apriori\n",
    "transaction_list = list(transactions)\n",
    "results = list(apriori(transaction_list, min_support=0.005))\n",
    "\n",
    "# print first 5 rules\n",
    "print(results[:5])"
   ]
  },
  {
   "cell_type": "code",
   "execution_count": 8,
   "metadata": {},
   "outputs": [
    {
     "data": {
      "text/plain": [
       "199983"
      ]
     },
     "execution_count": 8,
     "metadata": {},
     "output_type": "execute_result"
    }
   ],
   "source": [
    "# Total number of transactions\n",
    "len(transactions)"
   ]
  },
  {
   "cell_type": "code",
   "execution_count": 9,
   "metadata": {},
   "outputs": [
    {
     "data": {
      "text/plain": [
       "999.9150000000001"
      ]
     },
     "execution_count": 9,
     "metadata": {},
     "output_type": "execute_result"
    }
   ],
   "source": [
    "# If we choose a minimum support of 0.005, this is how many transactions the rule would need to be present in.\n",
    "len(transactions) * 0.005"
   ]
  },
  {
   "cell_type": "code",
   "execution_count": 10,
   "metadata": {},
   "outputs": [],
   "source": [
    "def convert_apriori_results_to_pandas_df(results):\n",
    "    rules = []\n",
    "    \n",
    "    for rule_set in results:\n",
    "        for rule in rule_set.ordered_statistics:\n",
    "            # items_base = left side of rules, items_add = right side\n",
    "            # support, confidence and lift for respective rules\n",
    "            rules.append([','.join(rule.items_base), ','.join(rule.items_add),\n",
    "                         rule_set.support, rule.confidence, rule.lift]) \n",
    "    \n",
    "    # typecast it to pandas df\n",
    "    return pd.DataFrame(rules, columns=['Left_side', 'Right_side', 'Support', 'Confidence', 'Lift']) \n",
    "\n",
    "result_df = convert_apriori_results_to_pandas_df(results)"
   ]
  },
  {
   "cell_type": "code",
   "execution_count": 11,
   "metadata": {},
   "outputs": [
    {
     "name": "stdout",
     "output_type": "stream",
     "text": [
      "           Left_side       Right_side   Support  Confidence      Lift\n",
      "52             Sugar           Cheese  0.006076    0.119141  8.213091\n",
      "51            Cheese            Sugar  0.006076    0.418821  8.213091\n",
      "131  Conditioner,Tea           Butter  0.006491    0.377545  5.605241\n",
      "126           Butter  Conditioner,Tea  0.006491    0.096362  5.605241\n",
      "127      Conditioner       Butter,Tea  0.006491    0.072143  5.475297\n",
      "130       Butter,Tea      Conditioner  0.006491    0.492600  5.475297\n",
      "214      Egg,Shampoo      Yoghurt,Tea  0.005820    0.181421  4.476398\n",
      "219      Yoghurt,Tea      Egg,Shampoo  0.005820    0.143615  4.476398\n",
      "217      Shampoo,Tea      Egg,Yoghurt  0.005820    0.183799  4.209908\n",
      "216      Egg,Yoghurt      Shampoo,Tea  0.005820    0.133318  4.209908\n"
     ]
    }
   ],
   "source": [
    "# sort all acquired rules descending by lift\n",
    "result_df = result_df.sort_values(by='Lift', ascending=False)\n",
    "print(result_df.head(10))"
   ]
  },
  {
   "cell_type": "markdown",
   "metadata": {},
   "source": [
    "# Assignment questions"
   ]
  },
  {
   "cell_type": "markdown",
   "metadata": {},
   "source": [
    "### Question 1. Can you identify data quality issues in this dataset for performing association analysis?\n",
    "The quantity variable is all equal to 1. Instead of having the quantity increase for multiple purchases of an item, they just add the same item as a transaction with the quantity of 1. "
   ]
  },
  {
   "cell_type": "code",
   "execution_count": 12,
   "metadata": {},
   "outputs": [
    {
     "data": {
      "text/html": [
       "<div>\n",
       "<style scoped>\n",
       "    .dataframe tbody tr th:only-of-type {\n",
       "        vertical-align: middle;\n",
       "    }\n",
       "\n",
       "    .dataframe tbody tr th {\n",
       "        vertical-align: top;\n",
       "    }\n",
       "\n",
       "    .dataframe thead th {\n",
       "        text-align: right;\n",
       "    }\n",
       "</style>\n",
       "<table border=\"1\" class=\"dataframe\">\n",
       "  <thead>\n",
       "    <tr style=\"text-align: right;\">\n",
       "      <th></th>\n",
       "      <th>LOC</th>\n",
       "      <th>TRANS_ID</th>\n",
       "      <th>QUANTITY</th>\n",
       "    </tr>\n",
       "  </thead>\n",
       "  <tbody>\n",
       "    <tr>\n",
       "      <th>count</th>\n",
       "      <td>459223.000000</td>\n",
       "      <td>4.592230e+05</td>\n",
       "      <td>459223.0</td>\n",
       "    </tr>\n",
       "    <tr>\n",
       "      <th>mean</th>\n",
       "      <td>5.490999</td>\n",
       "      <td>6.180346e+05</td>\n",
       "      <td>1.0</td>\n",
       "    </tr>\n",
       "    <tr>\n",
       "      <th>std</th>\n",
       "      <td>2.867294</td>\n",
       "      <td>3.511314e+05</td>\n",
       "      <td>0.0</td>\n",
       "    </tr>\n",
       "    <tr>\n",
       "      <th>min</th>\n",
       "      <td>1.000000</td>\n",
       "      <td>1.257200e+04</td>\n",
       "      <td>1.0</td>\n",
       "    </tr>\n",
       "    <tr>\n",
       "      <th>25%</th>\n",
       "      <td>3.000000</td>\n",
       "      <td>3.125300e+05</td>\n",
       "      <td>1.0</td>\n",
       "    </tr>\n",
       "    <tr>\n",
       "      <th>50%</th>\n",
       "      <td>5.000000</td>\n",
       "      <td>6.168770e+05</td>\n",
       "      <td>1.0</td>\n",
       "    </tr>\n",
       "    <tr>\n",
       "      <th>75%</th>\n",
       "      <td>8.000000</td>\n",
       "      <td>9.254480e+05</td>\n",
       "      <td>1.0</td>\n",
       "    </tr>\n",
       "    <tr>\n",
       "      <th>max</th>\n",
       "      <td>10.000000</td>\n",
       "      <td>1.221866e+06</td>\n",
       "      <td>1.0</td>\n",
       "    </tr>\n",
       "  </tbody>\n",
       "</table>\n",
       "</div>"
      ],
      "text/plain": [
       "                 LOC      TRANS_ID  QUANTITY\n",
       "count  459223.000000  4.592230e+05  459223.0\n",
       "mean        5.490999  6.180346e+05       1.0\n",
       "std         2.867294  3.511314e+05       0.0\n",
       "min         1.000000  1.257200e+04       1.0\n",
       "25%         3.000000  3.125300e+05       1.0\n",
       "50%         5.000000  6.168770e+05       1.0\n",
       "75%         8.000000  9.254480e+05       1.0\n",
       "max        10.000000  1.221866e+06       1.0"
      ]
     },
     "execution_count": 12,
     "metadata": {},
     "output_type": "execute_result"
    }
   ],
   "source": [
    "df.describe()"
   ]
  },
  {
   "cell_type": "markdown",
   "metadata": {},
   "source": [
    "### Question 2. What variables did you include in the analysis and what were their roles and measurement level set? Justify your choice.\n",
    "The variables used were trans ID and product. The products were grouped together by their transaction ID to create the \"transactions\". Then each transaction (the list of all of the products in each transaction) was converted into a set to remove duplicate values. As we understand association mining, we mainly care about if someone buys at least 1 of x, then what is the probability of them buying at least 1 of y. Adding in each transaction where people are buying multiple of products could lead to many more associations with very few occurences because of the rarity. As a result, converting the lists to a set was chosen."
   ]
  },
  {
   "cell_type": "markdown",
   "metadata": {},
   "source": [
    "### Question 3. Conduct association mining and answer the following:\n",
    "#### a) What is the highest lift value for the resulting rules? Which rule has this value?\n",
    "\n",
    "People that buy sugar also buy cheese. This has a lift of 8.213091"
   ]
  },
  {
   "cell_type": "code",
   "execution_count": 13,
   "metadata": {},
   "outputs": [
    {
     "name": "stdout",
     "output_type": "stream",
     "text": [
      "           Left_side       Right_side   Support  Confidence      Lift\n",
      "52             Sugar           Cheese  0.006076    0.119141  8.213091\n",
      "51            Cheese            Sugar  0.006076    0.418821  8.213091\n",
      "131  Conditioner,Tea           Butter  0.006491    0.377545  5.605241\n",
      "126           Butter  Conditioner,Tea  0.006491    0.096362  5.605241\n",
      "127      Conditioner       Butter,Tea  0.006491    0.072143  5.475297\n",
      "130       Butter,Tea      Conditioner  0.006491    0.492600  5.475297\n",
      "214      Egg,Shampoo      Yoghurt,Tea  0.005820    0.181421  4.476398\n",
      "219      Yoghurt,Tea      Egg,Shampoo  0.005820    0.143615  4.476398\n",
      "216      Egg,Yoghurt      Shampoo,Tea  0.005820    0.133318  4.209908\n",
      "217      Shampoo,Tea      Egg,Yoghurt  0.005820    0.183799  4.209908\n"
     ]
    }
   ],
   "source": [
    "# sort all acquired rules descending by lift\n",
    "result_df = result_df.sort_values(by='Lift', ascending=False)\n",
    "print(result_df.head(10))"
   ]
  },
  {
   "cell_type": "markdown",
   "metadata": {},
   "source": [
    "#### b) What is the highest confidence value for the resulting rules? Which rule has this value?\n",
    "People that buy butter and tea, also buy conditioner. This has a confidence of 0.4296"
   ]
  },
  {
   "cell_type": "code",
   "execution_count": 14,
   "metadata": {},
   "outputs": [
    {
     "name": "stdout",
     "output_type": "stream",
     "text": [
      "                 Left_side   Right_side   Support  Confidence      Lift\n",
      "130             Butter,Tea  Conditioner  0.006491    0.492600  5.475297\n",
      "220        Egg,Shampoo,Tea      Yoghurt  0.005820    0.487233  2.849408\n",
      "164        Cordial,Shampoo      Yoghurt  0.011391    0.463762  2.712146\n",
      "192                Egg,Tea      Yoghurt  0.016661    0.458574  2.681806\n",
      "221    Egg,Yoghurt,Shampoo          Tea  0.005820    0.441746  1.830611\n",
      "206            Shampoo,Tea      Yoghurt  0.013721    0.433286  2.533917\n",
      "223    Yoghurt,Shampoo,Tea          Egg  0.005820    0.424198  2.887913\n",
      "51                  Cheese        Sugar  0.006076    0.418821  8.213091\n",
      "200  Peanut butter,Yoghurt          Tea  0.005110    0.416633  1.726542\n",
      "194            Yoghurt,Tea          Egg  0.016661    0.411104  2.798770\n"
     ]
    }
   ],
   "source": [
    "# sort all acquired rules descending by lift\n",
    "result_df = result_df.sort_values(by='Confidence', ascending=False)\n",
    "print(result_df.head(10))"
   ]
  },
  {
   "cell_type": "markdown",
   "metadata": {},
   "source": [
    "#### c) Plot the confidence, lift, and support of the resulting rules. Interpret them to discuss the rule-set obtained."
   ]
  },
  {
   "cell_type": "code",
   "execution_count": 27,
   "metadata": {},
   "outputs": [
    {
     "data": {
      "text/plain": [
       "<AxesSubplot:xlabel='Support', ylabel='Lift'>"
      ]
     },
     "execution_count": 27,
     "metadata": {},
     "output_type": "execute_result"
    },
    {
     "data": {
      "image/png": "[encoded data removed]",
      "text/plain": [
       "<Figure size 432x288 with 1 Axes>"
      ]
     },
     "metadata": {
      "needs_background": "light"
     },
     "output_type": "display_data"
    }
   ],
   "source": [
    "import matplotlib.pylab as plt\n",
    "import seaborn as sns\n",
    "# plt.scatter(result_df.Support, result_df.Confidence, c=result_df.Lift)\n",
    "sns.scatterplot(x=\"Support\", y=\"Lift\", data=result_df, hue=\"Confidence\", palette=\"YlOrBr\")"
   ]
  },
  {
   "cell_type": "markdown",
   "metadata": {},
   "source": [
    "### 4. The store is particularly interested in products that individuals purchase when they buy “Yoghurt”.\n",
    "#### a) How many rules are in the subset? \n",
    "There are 15 rules in this subset"
   ]
  },
  {
   "cell_type": "code",
   "execution_count": 16,
   "metadata": {},
   "outputs": [
    {
     "data": {
      "text/plain": [
       "15"
      ]
     },
     "execution_count": 16,
     "metadata": {},
     "output_type": "execute_result"
    }
   ],
   "source": [
    "# Rules in the dataset\n",
    "yog_df = result_df.loc[result_df['Left_side'] == 'Yoghurt'].sort_values(by='Lift', ascending=False)\n",
    "yog_df.shape[0]"
   ]
  },
  {
   "cell_type": "markdown",
   "metadata": {},
   "source": [
    "#### b) Based on the rules, what are the other products these individuals are most likely to purchase?\n",
    "Egg, tea, shampoo and cordial."
   ]
  },
  {
   "cell_type": "code",
   "execution_count": 17,
   "metadata": {},
   "outputs": [
    {
     "data": {
      "text/html": [
       "<div>\n",
       "<style scoped>\n",
       "    .dataframe tbody tr th:only-of-type {\n",
       "        vertical-align: middle;\n",
       "    }\n",
       "\n",
       "    .dataframe tbody tr th {\n",
       "        vertical-align: top;\n",
       "    }\n",
       "\n",
       "    .dataframe thead th {\n",
       "        text-align: right;\n",
       "    }\n",
       "</style>\n",
       "<table border=\"1\" class=\"dataframe\">\n",
       "  <thead>\n",
       "    <tr style=\"text-align: right;\">\n",
       "      <th></th>\n",
       "      <th>Left_side</th>\n",
       "      <th>Right_side</th>\n",
       "      <th>Support</th>\n",
       "      <th>Confidence</th>\n",
       "      <th>Lift</th>\n",
       "    </tr>\n",
       "  </thead>\n",
       "  <tbody>\n",
       "    <tr>\n",
       "      <th>213</th>\n",
       "      <td>Yoghurt</td>\n",
       "      <td>Egg,Shampoo,Tea</td>\n",
       "      <td>0.005820</td>\n",
       "      <td>0.034039</td>\n",
       "      <td>2.849408</td>\n",
       "    </tr>\n",
       "    <tr>\n",
       "      <th>163</th>\n",
       "      <td>Yoghurt</td>\n",
       "      <td>Cordial,Shampoo</td>\n",
       "      <td>0.011391</td>\n",
       "      <td>0.066616</td>\n",
       "      <td>2.712146</td>\n",
       "    </tr>\n",
       "    <tr>\n",
       "      <th>191</th>\n",
       "      <td>Yoghurt</td>\n",
       "      <td>Egg,Tea</td>\n",
       "      <td>0.016661</td>\n",
       "      <td>0.097438</td>\n",
       "      <td>2.681806</td>\n",
       "    </tr>\n",
       "    <tr>\n",
       "      <th>205</th>\n",
       "      <td>Yoghurt</td>\n",
       "      <td>Shampoo,Tea</td>\n",
       "      <td>0.013721</td>\n",
       "      <td>0.080243</td>\n",
       "      <td>2.533917</td>\n",
       "    </tr>\n",
       "    <tr>\n",
       "      <th>184</th>\n",
       "      <td>Yoghurt</td>\n",
       "      <td>Egg,Shampoo</td>\n",
       "      <td>0.013176</td>\n",
       "      <td>0.077056</td>\n",
       "      <td>2.401784</td>\n",
       "    </tr>\n",
       "    <tr>\n",
       "      <th>170</th>\n",
       "      <td>Yoghurt</td>\n",
       "      <td>Cordial,Tea</td>\n",
       "      <td>0.012001</td>\n",
       "      <td>0.070184</td>\n",
       "      <td>2.219057</td>\n",
       "    </tr>\n",
       "    <tr>\n",
       "      <th>97</th>\n",
       "      <td>Yoghurt</td>\n",
       "      <td>Egg</td>\n",
       "      <td>0.043659</td>\n",
       "      <td>0.255322</td>\n",
       "      <td>1.738217</td>\n",
       "    </tr>\n",
       "    <tr>\n",
       "      <th>149</th>\n",
       "      <td>Yoghurt</td>\n",
       "      <td>Egg,Cordial</td>\n",
       "      <td>0.008096</td>\n",
       "      <td>0.047345</td>\n",
       "      <td>1.619039</td>\n",
       "    </tr>\n",
       "    <tr>\n",
       "      <th>118</th>\n",
       "      <td>Yoghurt</td>\n",
       "      <td>Shampoo</td>\n",
       "      <td>0.039783</td>\n",
       "      <td>0.232659</td>\n",
       "      <td>1.450232</td>\n",
       "    </tr>\n",
       "    <tr>\n",
       "      <th>85</th>\n",
       "      <td>Yoghurt</td>\n",
       "      <td>Cordial</td>\n",
       "      <td>0.033013</td>\n",
       "      <td>0.193064</td>\n",
       "      <td>1.430826</td>\n",
       "    </tr>\n",
       "    <tr>\n",
       "      <th>198</th>\n",
       "      <td>Yoghurt</td>\n",
       "      <td>Peanut butter,Tea</td>\n",
       "      <td>0.005110</td>\n",
       "      <td>0.029887</td>\n",
       "      <td>1.412955</td>\n",
       "    </tr>\n",
       "    <tr>\n",
       "      <th>124</th>\n",
       "      <td>Yoghurt</td>\n",
       "      <td>Tea</td>\n",
       "      <td>0.040528</td>\n",
       "      <td>0.237016</td>\n",
       "      <td>0.982203</td>\n",
       "    </tr>\n",
       "    <tr>\n",
       "      <th>49</th>\n",
       "      <td>Yoghurt</td>\n",
       "      <td>Cereal</td>\n",
       "      <td>0.006546</td>\n",
       "      <td>0.038279</td>\n",
       "      <td>0.654572</td>\n",
       "    </tr>\n",
       "    <tr>\n",
       "      <th>109</th>\n",
       "      <td>Yoghurt</td>\n",
       "      <td>Peanut butter</td>\n",
       "      <td>0.012266</td>\n",
       "      <td>0.071734</td>\n",
       "      <td>0.499599</td>\n",
       "    </tr>\n",
       "    <tr>\n",
       "      <th>70</th>\n",
       "      <td>Yoghurt</td>\n",
       "      <td>Conditioner</td>\n",
       "      <td>0.007286</td>\n",
       "      <td>0.042607</td>\n",
       "      <td>0.473585</td>\n",
       "    </tr>\n",
       "  </tbody>\n",
       "</table>\n",
       "</div>"
      ],
      "text/plain": [
       "    Left_side         Right_side   Support  Confidence      Lift\n",
       "213   Yoghurt    Egg,Shampoo,Tea  0.005820    0.034039  2.849408\n",
       "163   Yoghurt    Cordial,Shampoo  0.011391    0.066616  2.712146\n",
       "191   Yoghurt            Egg,Tea  0.016661    0.097438  2.681806\n",
       "205   Yoghurt        Shampoo,Tea  0.013721    0.080243  2.533917\n",
       "184   Yoghurt        Egg,Shampoo  0.013176    0.077056  2.401784\n",
       "170   Yoghurt        Cordial,Tea  0.012001    0.070184  2.219057\n",
       "97    Yoghurt                Egg  0.043659    0.255322  1.738217\n",
       "149   Yoghurt        Egg,Cordial  0.008096    0.047345  1.619039\n",
       "118   Yoghurt            Shampoo  0.039783    0.232659  1.450232\n",
       "85    Yoghurt            Cordial  0.033013    0.193064  1.430826\n",
       "198   Yoghurt  Peanut butter,Tea  0.005110    0.029887  1.412955\n",
       "124   Yoghurt                Tea  0.040528    0.237016  0.982203\n",
       "49    Yoghurt             Cereal  0.006546    0.038279  0.654572\n",
       "109   Yoghurt      Peanut butter  0.012266    0.071734  0.499599\n",
       "70    Yoghurt        Conditioner  0.007286    0.042607  0.473585"
      ]
     },
     "execution_count": 17,
     "metadata": {},
     "output_type": "execute_result"
    }
   ],
   "source": [
    "yog_df.sort_values(by='Lift', ascending=False)"
   ]
  },
  {
   "cell_type": "markdown",
   "metadata": {},
   "source": [
    "### 5. How the outcome of this study can be used by decision makers?\n",
    "1. Put them closer together in the store.\n",
    "2. Package the items together.\n",
    "3. Package the items together with another poorly selling item.\n",
    "4. Raising the price on one then lower the price on another.\n",
    "5. Don't advertise these items together."
   ]
  },
  {
   "cell_type": "markdown",
   "metadata": {},
   "source": []
  }
 ],
 "metadata": {
  "interpreter": {
   "hash": "e3ea0e4d3c501299bcd86a3c7f9ae72c65cd8a24dc7e7fcbd1d10980e4f47bdb"
  },
  "kernelspec": {
   "display_name": "Python 3.8.8 64-bit ('base': conda)",
   "name": "python3"
  },
  "language_info": {
   "codemirror_mode": {
    "name": "ipython",
    "version": 3
   },
   "file_extension": ".py",
   "mimetype": "text/x-python",
   "name": "python",
   "nbconvert_exporter": "python",
   "pygments_lexer": "ipython3",
   "version": "3.8.8"
  },
  "orig_nbformat": 4
 },
 "nbformat": 4,
 "nbformat_minor": 2
}

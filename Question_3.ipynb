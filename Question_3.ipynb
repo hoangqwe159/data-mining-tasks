{
 "cells": [
  {
   "cell_type": "markdown",
   "metadata": {},
   "source": [
    "# Only thing remaining is Q7 and measurement levels for Q1"
   ]
  },
  {
   "cell_type": "markdown",
   "metadata": {},
   "source": [
    "# Question 3"
   ]
  },
  {
   "cell_type": "code",
   "execution_count": 36,
   "metadata": {},
   "outputs": [
    {
     "name": "stderr",
     "output_type": "stream",
     "text": [
      "[nltk_data] Downloading package stopwords to\n",
      "[nltk_data]     C:\\Users\\n10329935\\AppData\\Roaming\\nltk_data...\n",
      "[nltk_data]   Package stopwords is already up-to-date!\n",
      "[nltk_data] Downloading package punkt to\n",
      "[nltk_data]     C:\\Users\\n10329935\\AppData\\Roaming\\nltk_data...\n",
      "[nltk_data]   Package punkt is already up-to-date!\n",
      "[nltk_data] Downloading package averaged_perceptron_tagger to\n",
      "[nltk_data]     C:\\Users\\n10329935\\AppData\\Roaming\\nltk_data...\n",
      "[nltk_data]   Package averaged_perceptron_tagger is already up-to-\n",
      "[nltk_data]       date!\n"
     ]
    },
    {
     "data": {
      "text/plain": [
       "True"
      ]
     },
     "execution_count": 36,
     "metadata": {},
     "output_type": "execute_result"
    }
   ],
   "source": [
    "import numpy as np\n",
    "import pandas as pd\n",
    "from sklearn.cluster import KMeans\n",
    "from sklearn.feature_extraction.text import TfidfVectorizer\n",
    "import string\n",
    "from nltk.corpus import stopwords as sw\n",
    "from nltk.corpus import wordnet as wn\n",
    "from nltk import wordpunct_tokenize\n",
    "from nltk import WordNetLemmatizer\n",
    "from nltk import sent_tokenize\n",
    "from nltk import pos_tag\n",
    "import nltk\n",
    "nltk.download('stopwords')\n",
    "nltk.download('punkt')\n",
    "nltk.download('averaged_perceptron_tagger')"
   ]
  },
  {
   "cell_type": "code",
   "execution_count": 37,
   "metadata": {},
   "outputs": [
    {
     "name": "stdout",
     "output_type": "stream",
     "text": [
      "<class 'pandas.core.frame.DataFrame'>\n",
      "RangeIndex: 3107 entries, 0 to 3106\n",
      "Data columns (total 6 columns):\n",
      " #   Column          Non-Null Count  Dtype \n",
      "---  ------          --------------  ----- \n",
      " 0   Unnamed: 0      3107 non-null   int64 \n",
      " 1   urlDrugName     3107 non-null   object\n",
      " 2   rating          3107 non-null   int64 \n",
      " 3   effectiveness   3107 non-null   object\n",
      " 4   sideEffects     3107 non-null   object\n",
      " 5   benefitsReview  3107 non-null   object\n",
      "dtypes: int64(2), object(4)\n",
      "memory usage: 145.8+ KB\n"
     ]
    }
   ],
   "source": [
    "# Loading in dataset\n",
    "df = pd.read_csv(\"drugReview.csv\")\n",
    "\n",
    "# as usual, explore the dataset\n",
    "df.info()"
   ]
  },
  {
   "cell_type": "code",
   "execution_count": 38,
   "metadata": {},
   "outputs": [
    {
     "data": {
      "text/html": [
       "<div>\n",
       "<style scoped>\n",
       "    .dataframe tbody tr th:only-of-type {\n",
       "        vertical-align: middle;\n",
       "    }\n",
       "\n",
       "    .dataframe tbody tr th {\n",
       "        vertical-align: top;\n",
       "    }\n",
       "\n",
       "    .dataframe thead th {\n",
       "        text-align: right;\n",
       "    }\n",
       "</style>\n",
       "<table border=\"1\" class=\"dataframe\">\n",
       "  <thead>\n",
       "    <tr style=\"text-align: right;\">\n",
       "      <th></th>\n",
       "      <th>Unnamed: 0</th>\n",
       "      <th>urlDrugName</th>\n",
       "      <th>rating</th>\n",
       "      <th>effectiveness</th>\n",
       "      <th>sideEffects</th>\n",
       "      <th>benefitsReview</th>\n",
       "    </tr>\n",
       "  </thead>\n",
       "  <tbody>\n",
       "    <tr>\n",
       "      <th>0</th>\n",
       "      <td>0</td>\n",
       "      <td>enalapril</td>\n",
       "      <td>4</td>\n",
       "      <td>Highly Effective</td>\n",
       "      <td>Mild Side Effects</td>\n",
       "      <td>slowed the progression of left ventricular dys...</td>\n",
       "    </tr>\n",
       "    <tr>\n",
       "      <th>1</th>\n",
       "      <td>1</td>\n",
       "      <td>ortho-tri-cyclen</td>\n",
       "      <td>1</td>\n",
       "      <td>Highly Effective</td>\n",
       "      <td>Severe Side Effects</td>\n",
       "      <td>Although this type of birth control has more c...</td>\n",
       "    </tr>\n",
       "    <tr>\n",
       "      <th>2</th>\n",
       "      <td>2</td>\n",
       "      <td>ponstel</td>\n",
       "      <td>10</td>\n",
       "      <td>Highly Effective</td>\n",
       "      <td>No Side Effects</td>\n",
       "      <td>I was used to having cramps so badly that they...</td>\n",
       "    </tr>\n",
       "    <tr>\n",
       "      <th>3</th>\n",
       "      <td>3</td>\n",
       "      <td>prilosec</td>\n",
       "      <td>3</td>\n",
       "      <td>Marginally Effective</td>\n",
       "      <td>Mild Side Effects</td>\n",
       "      <td>The acid reflux went away for a few months aft...</td>\n",
       "    </tr>\n",
       "    <tr>\n",
       "      <th>4</th>\n",
       "      <td>4</td>\n",
       "      <td>lyrica</td>\n",
       "      <td>2</td>\n",
       "      <td>Marginally Effective</td>\n",
       "      <td>Severe Side Effects</td>\n",
       "      <td>I think that the Lyrica was starting to help w...</td>\n",
       "    </tr>\n",
       "  </tbody>\n",
       "</table>\n",
       "</div>"
      ],
      "text/plain": [
       "   Unnamed: 0       urlDrugName  rating         effectiveness  \\\n",
       "0           0         enalapril       4      Highly Effective   \n",
       "1           1  ortho-tri-cyclen       1      Highly Effective   \n",
       "2           2           ponstel      10      Highly Effective   \n",
       "3           3          prilosec       3  Marginally Effective   \n",
       "4           4            lyrica       2  Marginally Effective   \n",
       "\n",
       "           sideEffects                                     benefitsReview  \n",
       "0    Mild Side Effects  slowed the progression of left ventricular dys...  \n",
       "1  Severe Side Effects  Although this type of birth control has more c...  \n",
       "2      No Side Effects  I was used to having cramps so badly that they...  \n",
       "3    Mild Side Effects  The acid reflux went away for a few months aft...  \n",
       "4  Severe Side Effects  I think that the Lyrica was starting to help w...  "
      ]
     },
     "execution_count": 38,
     "metadata": {},
     "output_type": "execute_result"
    }
   ],
   "source": [
    "df.head()"
   ]
  },
  {
   "cell_type": "markdown",
   "metadata": {},
   "source": [
    "# Functions"
   ]
  },
  {
   "cell_type": "code",
   "execution_count": null,
   "metadata": {},
   "outputs": [],
   "source": []
  },
  {
   "cell_type": "code",
   "execution_count": 39,
   "metadata": {},
   "outputs": [],
   "source": [
    "# initialise WordNet lemmatizer and punctuation filter\n",
    "lemmatizer = WordNetLemmatizer()\n",
    "punct = set(string.punctuation)\n",
    "nums = set(string.digits)\n",
    "\n",
    "# # load the provided stopwords\n",
    "# df_stop = pd.read_json('Federaliststop.json')\n",
    "\n",
    "stopwords = sw.words('english')\n",
    "stopwords = set(['feel', 'good', 'bad', 'stop', 'day'\n",
    ", 'much', 'like', 'get', 'take', 'go'\n",
    ", 'able', 'use', 'work', 'hour', 'would',' drug', 'yet', 'week', \n",
    "'month', 'start', 'time', 'none', 'start', 'month', 'within', 'help', 'benefit',\n",
    "'increase', 'well', 'level', 'less', 'medication', 'symptom', 'first', 'one']).union(set(stopwords))\n",
    "\n",
    "def lemmatize(token, tag):\n",
    "    tag = {\n",
    "        'N': wn.NOUN,\n",
    "        'V': wn.VERB,\n",
    "        'R': wn.ADV,\n",
    "        'J': wn.ADJ\n",
    "    }.get(tag[0], wn.NOUN)\n",
    "\n",
    "    return lemmatizer.lemmatize(token, tag)"
   ]
  },
  {
   "cell_type": "code",
   "execution_count": 40,
   "metadata": {},
   "outputs": [],
   "source": [
    "def cab_tokenizer(document):\n",
    "    # initialize token list\n",
    "    tokens = []\n",
    "    \n",
    "    # split the document into sentences\n",
    "    for sent in sent_tokenize(document):\n",
    "        # split the document into tokens and then create part of speech tag for each token\n",
    "        for token, tag in pos_tag(wordpunct_tokenize(sent)):\n",
    "            # preprocess and remove unnecessary characters\n",
    "            token = token.lower()\n",
    "            token = token.strip()\n",
    "            token = token.strip('_')\n",
    "            token = token.strip('*')\n",
    "\n",
    "            # If stopword, ignore token and continue\n",
    "            if token in stopwords:\n",
    "                continue\n",
    "\n",
    "            # If punctuation, ignore token and continue\n",
    "            if all(char in punct for char in token):\n",
    "                continue\n",
    "            \n",
    "            # If a number, ignore token and continue\n",
    "            if all(char in nums for char in token):\n",
    "                continue\n",
    "\n",
    "\n",
    "            # Lemmatize the token and add back to the tokens list\n",
    "            lemma = lemmatize(token, tag)\n",
    "            tokens.append(lemma)\n",
    "    \n",
    "    return tokens"
   ]
  },
  {
   "cell_type": "code",
   "execution_count": 41,
   "metadata": {},
   "outputs": [],
   "source": [
    "import seaborn as sns\n",
    "import matplotlib.pyplot as plt\n",
    "\n",
    "# creating tf-idf terms - a bit slow, do it occasionaly\n",
    "def calculate_tf_idf_terms(document_col):\n",
    "    # Param - document_col: collection of raw document text that you want to analyse\n",
    "    from sklearn.feature_extraction.text import CountVectorizer\n",
    "\n",
    "    # use count vectorizer to find TF and DF of each term\n",
    "    count_vec = CountVectorizer(tokenizer=cab_tokenizer, ngram_range=(1,2))\n",
    "    X_count = count_vec.fit_transform(df['benefitsReview'])\n",
    "    \n",
    "    # create list of terms and their tf and df\n",
    "    terms = [{'term': t, 'idx': count_vec.vocabulary_[t],\n",
    "              'tf': X_count[:, count_vec.vocabulary_[t]].sum(),\n",
    "              'df': X_count[:, count_vec.vocabulary_[t]].count_nonzero()}\n",
    "             for t in count_vec.vocabulary_]\n",
    "    \n",
    "    return terms\n",
    "    \n",
    "terms = calculate_tf_idf_terms(df['benefitsReview'])"
   ]
  },
  {
   "cell_type": "code",
   "execution_count": 42,
   "metadata": {},
   "outputs": [],
   "source": [
    "# visualisation of ZIPF law\n",
    "def visualise_zipf(terms, itr_step = 50):\n",
    "    from scipy.spatial.distance import euclidean\n",
    "    from math import sqrt\n",
    "    \n",
    "    # --- Param ---\n",
    "    # terms: collection of terms dictionary from calculate_tf_idf_terms function\n",
    "    # itr_step: used to control how many terms that you want to plot. Num of terms to plot = N terms / itr_step\n",
    "    \n",
    "    # sort terms by its frequency\n",
    "    terms.sort(key=lambda x: (x['tf'], x['df']), reverse=True)\n",
    "    \n",
    "    # select a few of the terms for plotting purpose\n",
    "    sel_terms = [terms[i] for i in range(0, len(terms), itr_step)]\n",
    "    labels = [term['term'] for term in sel_terms]\n",
    "    \n",
    "    # plot term frequency ranking vs its DF\n",
    "    plt.plot(range(len(sel_terms)), [x['df'] for x in sel_terms])\n",
    "    plt.xlabel('Term frequency ranking')\n",
    "    plt.ylabel('Document frequency')\n",
    "    \n",
    "    max_x = len(sel_terms)\n",
    "    max_y = max([x['df'] for x in sel_terms])\n",
    "    \n",
    "    # annotate the points\n",
    "    prev_x, prev_y = 0, 0\n",
    "    for label, x, y in zip(labels,range(len(sel_terms)), [x['df'] for x in sel_terms]):\n",
    "        # calculate the relative distance between labels to increase visibility\n",
    "        x_dist = (abs(x - prev_x) / float(max_x)) ** 2\n",
    "        y_dist = (abs(y - prev_y) / float(max_y)) ** 2\n",
    "        scaled_dist = sqrt(x_dist + y_dist)\n",
    "        \n",
    "        if (scaled_dist > 0.1):\n",
    "            plt.text(x+2, y+2, label, {'ha': 'left', 'va': 'bottom'}, rotation=30)\n",
    "            prev_x, prev_y = x, y\n",
    "    \n",
    "    plt.show()"
   ]
  },
  {
   "cell_type": "code",
   "execution_count": 43,
   "metadata": {},
   "outputs": [],
   "source": [
    "# function to visualise text cluster. Useful for the assignment too :)\n",
    "def visualise_text_cluster(n_clusters, cluster_centers, terms, num_word = 5):\n",
    "    # -- Params --\n",
    "    # cluster_centers: cluster centers of fitted/trained KMeans/other centroid-based clustering\n",
    "    # terms: terms used for clustering\n",
    "    # num_word: number of terms to show per cluster. Change as you please.\n",
    "    \n",
    "    # find features/terms closest to centroids\n",
    "    ordered_centroids = cluster_centers.argsort()[:, ::-1]\n",
    "\n",
    "    words = []\n",
    "    \n",
    "    for cluster in range(n_clusters):\n",
    "        print(\"Top terms for cluster {}:\".format(cluster), end=\" \")\n",
    "        for term_idx in ordered_centroids[cluster, :num_word]:\n",
    "            print(terms[term_idx], end=', ')\n",
    "            words.append(terms[term_idx])\n",
    "        print()\n",
    "    # print(f\"Number of duplicate words in the top list: {len(words) - len(set(words))}\")\n",
    "    seen = set()\n",
    "    uniq = [x for x in words if x in seen or seen.add(x)]    \n",
    "    print(f\"List of repeated words: {uniq}\")"
   ]
  },
  {
   "cell_type": "markdown",
   "metadata": {},
   "source": [
    "## Clustering"
   ]
  },
  {
   "cell_type": "code",
   "execution_count": 56,
   "metadata": {},
   "outputs": [
    {
     "name": "stderr",
     "output_type": "stream",
     "text": [
      "C:\\Users\\n10329935\\Anaconda3\\lib\\site-packages\\sklearn\\cluster\\_kmeans.py:792: FutureWarning: 'n_jobs' was deprecated in version 0.23 and will be removed in 1.0 (renaming of 0.25).\n",
      "  warnings.warn(\"'n_jobs' was deprecated in version 0.23 and will be\"\n",
      "C:\\Users\\n10329935\\Anaconda3\\lib\\site-packages\\sklearn\\cluster\\_kmeans.py:792: FutureWarning: 'n_jobs' was deprecated in version 0.23 and will be removed in 1.0 (renaming of 0.25).\n",
      "  warnings.warn(\"'n_jobs' was deprecated in version 0.23 and will be\"\n",
      "C:\\Users\\n10329935\\Anaconda3\\lib\\site-packages\\sklearn\\cluster\\_kmeans.py:792: FutureWarning: 'n_jobs' was deprecated in version 0.23 and will be removed in 1.0 (renaming of 0.25).\n",
      "  warnings.warn(\"'n_jobs' was deprecated in version 0.23 and will be\"\n",
      "C:\\Users\\n10329935\\Anaconda3\\lib\\site-packages\\sklearn\\cluster\\_kmeans.py:792: FutureWarning: 'n_jobs' was deprecated in version 0.23 and will be removed in 1.0 (renaming of 0.25).\n",
      "  warnings.warn(\"'n_jobs' was deprecated in version 0.23 and will be\"\n",
      "C:\\Users\\n10329935\\Anaconda3\\lib\\site-packages\\sklearn\\cluster\\_kmeans.py:792: FutureWarning: 'n_jobs' was deprecated in version 0.23 and will be removed in 1.0 (renaming of 0.25).\n",
      "  warnings.warn(\"'n_jobs' was deprecated in version 0.23 and will be\"\n",
      "C:\\Users\\n10329935\\Anaconda3\\lib\\site-packages\\sklearn\\cluster\\_kmeans.py:792: FutureWarning: 'n_jobs' was deprecated in version 0.23 and will be removed in 1.0 (renaming of 0.25).\n",
      "  warnings.warn(\"'n_jobs' was deprecated in version 0.23 and will be\"\n",
      "C:\\Users\\n10329935\\Anaconda3\\lib\\site-packages\\sklearn\\cluster\\_kmeans.py:792: FutureWarning: 'n_jobs' was deprecated in version 0.23 and will be removed in 1.0 (renaming of 0.25).\n",
      "  warnings.warn(\"'n_jobs' was deprecated in version 0.23 and will be\"\n",
      "C:\\Users\\n10329935\\Anaconda3\\lib\\site-packages\\sklearn\\cluster\\_kmeans.py:792: FutureWarning: 'n_jobs' was deprecated in version 0.23 and will be removed in 1.0 (renaming of 0.25).\n",
      "  warnings.warn(\"'n_jobs' was deprecated in version 0.23 and will be\"\n",
      "C:\\Users\\n10329935\\Anaconda3\\lib\\site-packages\\sklearn\\cluster\\_kmeans.py:792: FutureWarning: 'n_jobs' was deprecated in version 0.23 and will be removed in 1.0 (renaming of 0.25).\n",
      "  warnings.warn(\"'n_jobs' was deprecated in version 0.23 and will be\"\n"
     ]
    },
    {
     "data": {
      "image/png": "[encoded data removed]",
      "text/plain": [
       "<Figure size 432x288 with 1 Axes>"
      ]
     },
     "metadata": {},
     "output_type": "display_data"
    },
    {
     "data": {
      "image/png": "[encoded data removed]",
      "text/plain": [
       "<Figure size 432x288 with 1 Axes>"
      ]
     },
     "metadata": {},
     "output_type": "display_data"
    }
   ],
   "source": [
    "from sklearn.metrics import silhouette_score\n",
    "\n",
    "stopwords = sw.words('english')\n",
    "stopwords = set(['feel', 'good', 'bad', 'stop', 'day', 'much', 'like', 'get', 'take', 'go', 'able', 'use', 'work', 'hour', 'would',' drug', 'yet', 'week', 'month', 'start', 'time', 'none', 'start', 'month', 'within', 'help', 'benefit',\n",
    "'increase', 'well', 'level', 'less', 'medication', 'symptom', 'first', 'one']).union(set(stopwords))\n",
    "\n",
    "tfidf_vec = TfidfVectorizer(tokenizer=cab_tokenizer, ngram_range=(1,2), min_df=2, max_df=0.8)\n",
    "X = tfidf_vec.fit_transform(df['benefitsReview'])\n",
    "\n",
    "rs=42\n",
    "# Set the random state. different random state seeds might result in different centroids locations\n",
    "rs = 42\n",
    "\n",
    "# list to save the clusters and cost\n",
    "clusters = []\n",
    "inertia_vals = []\n",
    "silhouette_coefficients = []\n",
    "\n",
    "\n",
    "# this whole process should take a while\n",
    "for k in range(2, 11):\n",
    "    # train clustering with the specified K\n",
    "    model = KMeans(n_clusters=k, random_state=rs, n_jobs=10)\n",
    "    model.fit(X)\n",
    "    score = silhouette_score(X, model.labels_)\n",
    "    silhouette_coefficients.append(score)\n",
    "    \n",
    "    # append model to cluster list\n",
    "    clusters.append(model)\n",
    "    inertia_vals.append(model.inertia_)\n",
    "\n",
    "plt.plot(range(2, 11), inertia_vals, marker='*')\n",
    "plt.xticks(range(2, 11))\n",
    "plt.xlabel(\"Number of Clusters\")\n",
    "plt.ylabel(\"Inertia Value\")\n",
    "plt.show()\n",
    "\n",
    "\n",
    "\n",
    "# A list holds the silhouette coefficients for each k  \n",
    "plt.style.use(\"fivethirtyeight\")\n",
    "plt.plot(range(2, 11), silhouette_coefficients)\n",
    "plt.xticks(range(2, 11))\n",
    "plt.xlabel(\"Number of Clusters\")\n",
    "plt.ylabel(\"Silhouette Coefficient\")\n",
    "plt.show()\n"
   ]
  },
  {
   "cell_type": "code",
   "execution_count": 58,
   "metadata": {},
   "outputs": [
    {
     "name": "stdout",
     "output_type": "stream",
     "text": [
      "35\n"
     ]
    }
   ],
   "source": [
    "l = len(['feel', 'good', 'bad', 'stop', 'day', 'much', 'like', 'get', 'take', 'go', 'able', 'use', 'work', 'hour', 'would',' drug', 'yet', 'week', 'month', 'start', 'time', 'none', 'start', 'month', 'within', 'help', 'benefit',\n",
    "'increase', 'well', 'level', 'less', 'medication', 'symptom', 'first', 'one'])\n",
    "print(l)"
   ]
  },
  {
   "cell_type": "markdown",
   "metadata": {},
   "source": [
    "## Answering questions"
   ]
  },
  {
   "cell_type": "markdown",
   "metadata": {},
   "source": [
    "1. What variables did you include in the analysis and what were their roles and measurement level set? Justify your choice  \n",
    "Clustering done purely with the `benefitsReview` variable. The variable `urlDrugName` can be used for recovering what drugs are in each of the clusters.\n",
    "2. Based on the ZIPF plot, list the top 10 terms that will be least useful for clustering purpose.\n",
    "Terms that are too common: `Take`, `Long`, `significantly`, `awesome`, `copd`, `bad shortly`, Terms that are too uncommon: `expose lead`, `active thyroid`, `timeliness`, `derivative`"
   ]
  },
  {
   "cell_type": "markdown",
   "metadata": {},
   "source": [
    "Zipf plot"
   ]
  },
  {
   "cell_type": "code",
   "execution_count": 51,
   "metadata": {},
   "outputs": [
    {
     "data": {
      "image/png": "[encoded data removed]",
      "text/plain": [
       "<Figure size 432x288 with 1 Axes>"
      ]
     },
     "metadata": {
      "needs_background": "light"
     },
     "output_type": "display_data"
    }
   ],
   "source": [
    "visualise_zipf(terms)\n"
   ]
  },
  {
   "cell_type": "markdown",
   "metadata": {},
   "source": [
    "3. Did you disregard any frequent terms? Justify their selection.\n",
    "When fitting some example clusterings and looking at the top terms in each cluster, it was identified that some terms were being combined into clusters that had no clear meaning behind their combination. To limit these clusters from being created, a list of words were added to the nltk stopwords. The nltk stopwords were used in the beginning because they are generally useful terms that don't differentiate any of the benefits that we were looking for. Also, some clusters had numbers in them. Numbers were not a benefit or side effect, so they were removed (the removal is in the cab_tokenizer function were it passes on numeric characters). The full list of terms that were added to the stopwords can be seen below.\n",
    "\n",
    "List of terms that were dropped out"
   ]
  },
  {
   "cell_type": "code",
   "execution_count": 46,
   "metadata": {},
   "outputs": [],
   "source": [
    "removed_words = ['feel', 'good', 'bad', 'stop', 'day', 'much', 'like', 'get', 'take', 'go', 'able', 'use', 'work', 'hour', 'would',' drug', 'yet', 'week', 'month', 'start', 'time', 'none', 'start', 'month', 'within', 'help', 'benefit',\n",
    "'increase', 'well', 'level', 'less', 'medication', 'symptom', 'first', 'one']"
   ]
  },
  {
   "cell_type": "markdown",
   "metadata": {},
   "source": [
    "4. Justify the term weighting option selected.\n",
    "tf-idf was used because if a word was very frequent in a particular document, we would want it to have a higher weight for that document. But, if the word is present in a bunch of other documents, it is probabaly just a common word so we want to reduce the weighting. This helps find more relevent clusters.\n",
    "5. What is the number of input features available to execute clustering?\n",
    "7952 features were used. A feature selection algorithm (svd) was tested for performance, but the clusters produced from svd didn't have clear meanings to each cluster. That is why just the raw vector-space representation of the words was used. The reduction in size for the vector-space representation mostly came from adding in extra stopwords.\n",
    "\n",
    "Number of features"
   ]
  },
  {
   "cell_type": "code",
   "execution_count": 47,
   "metadata": {},
   "outputs": [
    {
     "data": {
      "text/plain": [
       "7952"
      ]
     },
     "execution_count": 47,
     "metadata": {},
     "output_type": "execute_result"
    }
   ],
   "source": [
    "X.shape[1]"
   ]
  },
  {
   "cell_type": "markdown",
   "metadata": {},
   "source": [
    "6. State how many clusters are generated? Name each cluster meaningfully according to the terms that appear in the clusters?\n",
    "10 Clusters were fitted because it was found that with 10 clusters, every cluster had a meaning. When adding more clusters, some of the clusters seemed to have no clear meaning (in terms of a side effect or benefit). \n",
    "\n",
    "As for the meaning of each cluster:  \n",
    "Cluster 1 - Hair related things (loss or growth)  \n",
    "Cluster 2 - Mental health (depression, anxiety, mood)  \n",
    "Cluster 3 - Infection and cholesterol  \n",
    "Cluster 4 - Skin related things like acne  \n",
    "Cluster 5 - Sleep related things like falling asleep or waking up  \n",
    "Cluster 6 - Digestive things like acid reflux or heartburn  \n",
    "Cluster 7 - Headaches and migraines  \n",
    "Cluster 8 - Side effects like depression  \n",
    "Cluster 9 - Pain relief  "
   ]
  },
  {
   "cell_type": "code",
   "execution_count": 57,
   "metadata": {},
   "outputs": [
    {
     "name": "stdout",
     "output_type": "stream",
     "text": [
      "Top terms for cluster 0: sleep, anxiety, night, depression, help, asleep, take, hot, attack, flash, \n",
      "Top terms for cluster 1: take, drug, symptom, treatment, benefit, year, reduce, control, headache, hair, \n",
      "Top terms for cluster 2: weight, energy, increase, loss, weight loss, lose, appetite, gain, depression, increase energy, \n",
      "Top terms for cluster 3: infection, clear, sinus, sinus infection, infection clear, day, antibiotic, yeast, yeast infection, treatment, \n",
      "Top terms for cluster 4: blood, blood pressure, pressure, lower blood, lower, low, low blood, reduce blood, high, high blood, \n",
      "Top terms for cluster 5: effect, side effect, side, take, drug, benefit, depression, treatment, without, seem, \n",
      "Top terms for cluster 6: skin, acne, clear, reduce, face, use, look, treatment, breakout, pimple, \n",
      "Top terms for cluster 7: pain, relief, reduce, take, pain relief, relieve, joint, reduce pain, help, drug, \n",
      "List of repeated words: ['take', 'depression', 'treatment', 'take', 'drug', 'benefit', 'depression', 'treatment', 'clear', 'reduce', 'treatment', 'reduce', 'take', 'help', 'drug']\n"
     ]
    }
   ],
   "source": [
    "kmeans = KMeans(n_clusters=8, random_state=rs).fit(X)\n",
    "\n",
    "visualise_text_cluster(kmeans.n_clusters, kmeans.cluster_centers_, tfidf_vec.get_feature_names(), 10)"
   ]
  },
  {
   "cell_type": "markdown",
   "metadata": {},
   "source": [
    "7. Identify the first six high frequent terms (that are not stop words) in the start list?\n",
    "Don't know how to do this yet\n",
    "8. Describe how these clusters can be useful in the online service for recommending drugs based on their actual benefits to patients.\n",
    "For each cluster, it can be determined what drug reviews are most represented in each cluster, then they can have the related terms assigned to them. For example below we show how to get the most common drugs in the second cluster (mental health). So these could be recommended as mental health drugs.  \n",
    "\n",
    "Demonstrating finding out what drugs are in what cluster."
   ]
  },
  {
   "cell_type": "code",
   "execution_count": 49,
   "metadata": {},
   "outputs": [
    {
     "data": {
      "text/plain": [
       "lexapro          48\n",
       "prozac           39\n",
       "zoloft           33\n",
       "paxil            30\n",
       "effexor          21\n",
       "                 ..\n",
       "xanax-xr          1\n",
       "symbicort         1\n",
       "vioxx             1\n",
       "advair-diskus     1\n",
       "fosamax           1\n",
       "Name: drug, Length: 151, dtype: int64"
      ]
     },
     "execution_count": 49,
     "metadata": {},
     "output_type": "execute_result"
    }
   ],
   "source": [
    "cluster_map = pd.DataFrame()\n",
    "cluster_map['drug'] = df['urlDrugName']\n",
    "cluster_map['cluster'] = kmeans.labels_\n",
    "\n",
    "cluster_map[cluster_map['cluster'] == 1]['drug'].value_counts()"
   ]
  },
  {
   "cell_type": "markdown",
   "metadata": {},
   "source": [
    "## "
   ]
  }
 ],
 "metadata": {
  "interpreter": {
   "hash": "e3ea0e4d3c501299bcd86a3c7f9ae72c65cd8a24dc7e7fcbd1d10980e4f47bdb"
  },
  "kernelspec": {
   "display_name": "Python 3.8.8 64-bit ('base': conda)",
   "name": "python3"
  },
  "language_info": {
   "codemirror_mode": {
    "name": "ipython",
    "version": 3
   },
   "file_extension": ".py",
   "mimetype": "text/x-python",
   "name": "python",
   "nbconvert_exporter": "python",
   "pygments_lexer": "ipython3",
   "version": "3.8.8"
  },
  "orig_nbformat": 4
 },
 "nbformat": 4,
 "nbformat_minor": 2
}

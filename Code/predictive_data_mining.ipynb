{
 "cells": [
  {
   "cell_type": "markdown",
   "source": [
    "# Case Study 1: Predictive Data Analytics\r\n",
    "## Churn Prediction: “Will a customer continue their services with the bank?”\r\n",
    "\r\n",
    "### Table of content\r\n",
    "1. [Data Selection and Distribution](#dataprep)\r\n",
    "2. [Predictive Modeling Using Decision Trees](#dtree)\r\n",
    "3. [Predictive Modeling Using Regression](#regress)\r\n",
    "4. [Predictive Modeling Using Neural Networks](#neural)\r\n",
    "5. [Comparing Predictive Models](#compair)"
   ],
   "metadata": {}
  },
  {
   "cell_type": "code",
   "execution_count": 1,
   "source": [
    "%matplotlib inline\n",
    "# Import library\n",
    "import pandas as pd\n",
    "import matplotlib.pyplot as plt\n",
    "import seaborn as sns\n",
    "from sklearn.model_selection import train_test_split\n",
    "from sklearn.tree import DecisionTreeClassifier\n",
    "from sklearn.metrics import classification_report, accuracy_score\n",
    "import pydot\n",
    "from io import StringIO\n",
    "from sklearn.tree import export_graphviz\n",
    "import warnings\n",
    "from dm_tools import analyse_feature_importance, visualize_decision_tree\n",
    "from sklearn.linear_model import LogisticRegression\n",
    "from sklearn.preprocessing import StandardScaler\n",
    "from sklearn.feature_selection import RFECV\n",
    "from sklearn.model_selection import GridSearchCV\n",
    "import numpy as np\n",
    "from sklearn.neural_network import MLPClassifier"
   ],
   "outputs": [],
   "metadata": {}
  },
  {
   "cell_type": "markdown",
   "source": [
    "# Task 1. Data Selection and Distribution<a name=\"dataprep\"></a>\n",
    "\n",
    "\n",
    "## 1.1 What is the proportion of customers who exited and stopped using the banking services?\n",
    "The percentage of customers who exited and stopped using the banking services is 20.37%"
   ],
   "metadata": {}
  },
  {
   "cell_type": "code",
   "execution_count": 2,
   "source": [
    "df = pd.read_csv('churn.csv')\n",
    "print(df['Exited'].value_counts(normalize=True))"
   ],
   "outputs": [
    {
     "output_type": "stream",
     "name": "stdout",
     "text": [
      "No     0.7963\n",
      "Yes    0.2037\n",
      "Name: Exited, dtype: float64\n"
     ]
    }
   ],
   "metadata": {}
  },
  {
   "cell_type": "markdown",
   "source": [
    "## 1.2. The dataset may include irrelevant and redundant variables. What variables did you include in the analysis and what were their roles and measurement level set? Justify your choice. \n",
    "\n",
    "- `Exited` is selected as the dependent variable since the purpose of the analysis is to study if the customer has ended their engagement with the bank or not. `RowNumber`, `CustomerID`, and `Surname` are the columns that need to be dropped since they are not necessary for `sklearn` modeling algorithm to construct the model. The `Sex` column is also dropped because it contains the duplicate data as column `Gender`. We also dropped the `Geography` column because it is specific to each customer. Constructing a model on specific countries could lead to an overfitting problem. The `ComplaintsLodged` column is not included because it is a false predictor. Most customers who have lodged a complaint previously tend to stop using the bank service.\n",
    "\n",
    "- `Age` is one of the variables that are considered to have an impact on customer churn. The elderly tend to have a more stable economy and established good relationships with their bank. Therefore, the exited rate of older people is expected to be lower. The measurement level of `Age` is the ratio scale.\n",
    "\n",
    "- `IsActiveMember`, `CreditScore`, `HasCrCard` and `CurrentWorkingStatus` are the variables of interest. It is expected that customers who are active and own credit cards are more likely to stay using bank services. It is also believed that customers who have a steady job tend to use bank services to manage their finance. The measurement level of those variables is the nominal scale.\n",
    "\n",
    "- `Balance`, `Tenure`, and `NumOfProducts` variables are included. The customers who have a low account balance, low credit score, short duration of active relationship with the banks, and few products are more likely to have pre-existing relations with another bank. It would increase the rate of customer churn. The measurement level of those variables is the ratio scale.\n",
    "\n",
    "- `Gender` is the last variable of interest. In some families, there is only one member who tends to be a male who opens the bank account to facilitate financial management. The measurement level of Gender is a nominal scale.\n"
   ],
   "metadata": {}
  },
  {
   "cell_type": "markdown",
   "source": [
    "## 1.3. Did you have to fix any data quality problems? Detail them.\n",
    "- Drop unused target variables such that `RowNumber`, `CustomerId`, `Surname`, `Geography`, `Sex`, and `ComplaintsLodged`.\n",
    "- Change `Exited` into binary 0/1 variable\n",
    "- `Age` column contains some invalid data (Age < 1). Denote erroneous values in `Age` as NaN.\n",
    "- Drop the rows that contain too much NaN data.\n",
    "- Change `EstimatedSalary` into a numeric variable\n",
    "- Impute missing values in `Age` with its mean\n",
    "- Impute missing values in `NumOfProducts` using mean\n",
    "- Impute missing values in `EstimatedSalary` with its mean\n",
    "- Format `Gender` variable with one-hot encoding"
   ],
   "metadata": {}
  },
  {
   "cell_type": "code",
   "execution_count": 3,
   "source": [
    "def preprocess_data(df):\n",
    "   # Drop unused target variables\n",
    "   df.drop(['RowNumber', 'CustomerId', 'Surname', 'Geography', 'Sex', 'ComplaintsLodged'], axis=1, inplace=True)\n",
    "\n",
    "   # Change Exited into binary 0/1 variable\n",
    "   exited_map = {'No':0, 'Yes': 1}\n",
    "   df['Exited'] = df['Exited'].map(exited_map)   \n",
    "\n",
    "   # Denote errorneous values in Age\n",
    "   mask = df['Age'] < 1\n",
    "   df.loc[mask, 'Age'] = np.nan\n",
    "\n",
    "   # Drop the rows that contain too many NaN data\n",
    "   df = df.dropna(subset=['Age', 'Balance', 'Gender', 'CurrentWorkingStatus', 'Tenure','HasCrCard', 'IsActiveMember', 'CreditScore'])\n",
    "\n",
    "   # Impute missing values in NumOfProducts using mean\n",
    "   df['NumOfProducts'].fillna(round(df['NumOfProducts'].mean()), inplace=True)\n",
    "\n",
    "   # Impute missing values in Age with its mean\n",
    "   df['Age'].fillna(round(df['Age'].mean()), inplace=True)\n",
    "\n",
    "   # Change EstimatedSalary into numeric variable\n",
    "   df['EstimatedSalary'] = pd.to_numeric( df['EstimatedSalary'], errors='coerce')\n",
    "\n",
    "   # Impute missing values in EstimatedSalary with its mean   \n",
    "   df['EstimatedSalary'].fillna(df['EstimatedSalary'].mean(), inplace=True)\n",
    "\n",
    "   # Format Gender variable with one-hot encoding\n",
    "   df = pd.get_dummies(df)\n",
    "   return df"
   ],
   "outputs": [],
   "metadata": {}
  },
  {
   "cell_type": "markdown",
   "source": [
    "## 1.4. Report the proportion of values of the target variable for the dataset after the above-mentioned pre-processing.\n",
    "After pre-processing, 43 rows were removed. So, the updated distribution of the target variable is 20.3776% exited and 79.6224% remained."
   ],
   "metadata": {}
  },
  {
   "cell_type": "code",
   "execution_count": 4,
   "source": [
    "# Ignore Warning\n",
    "pd.options.mode.chained_assignment = None  # default='warn'\n",
    "\n",
    "df = pd.read_csv('churn.csv')\n",
    "df = preprocess_data(df)\n",
    "df['Exited'].value_counts(normalize=True)"
   ],
   "outputs": [
    {
     "output_type": "execute_result",
     "data": {
      "text/plain": [
       "0    0.796224\n",
       "1    0.203776\n",
       "Name: Exited, dtype: float64"
      ]
     },
     "metadata": {},
     "execution_count": 4
    }
   ],
   "metadata": {}
  },
  {
   "cell_type": "markdown",
   "source": [
    "## 1.5. What distribution split between training and test datasets have you used?\n",
    "The data is separated into 70% training dataset and 30% test data using the `.train_test_split()`."
   ],
   "metadata": {}
  },
  {
   "cell_type": "code",
   "execution_count": 5,
   "source": [
    "rs = 10\n",
    "\n",
    "# target/input split\n",
    "y = df['Exited']\n",
    "X = df.drop(['Exited'], axis=1)\n",
    "X_mat = X.values\n",
    "X_train, X_test, y_train, y_test = train_test_split(X_mat, y, \n",
    "                                                    test_size=0.3, \n",
    "                                                    stratify=y, \n",
    "                                                    random_state=rs)"
   ],
   "outputs": [],
   "metadata": {}
  },
  {
   "cell_type": "markdown",
   "source": [
    "# Task 2. Predictive Modeling Using Decision Trees<a name=\"dtree\"></a>\n",
    "\n",
    "## 2.1. Constructing the default decision tree"
   ],
   "metadata": {}
  },
  {
   "cell_type": "code",
   "execution_count": 6,
   "source": [
    "# simple decision tree training\n",
    "model_tree_default = DecisionTreeClassifier(random_state=rs)\n",
    "model_tree_default.fit(X_train, y_train)"
   ],
   "outputs": [
    {
     "output_type": "execute_result",
     "data": {
      "text/plain": [
       "DecisionTreeClassifier(ccp_alpha=0.0, class_weight=None, criterion='gini',\n",
       "                       max_depth=None, max_features=None, max_leaf_nodes=None,\n",
       "                       min_impurity_decrease=0.0, min_impurity_split=None,\n",
       "                       min_samples_leaf=1, min_samples_split=2,\n",
       "                       min_weight_fraction_leaf=0.0, presort='deprecated',\n",
       "                       random_state=10, splitter='best')"
      ]
     },
     "metadata": {},
     "execution_count": 6
    }
   ],
   "metadata": {}
  },
  {
   "cell_type": "markdown",
   "source": [
    "### 2.1.a What parameters have been used in building the tree? Detail them.\n",
    "The input parameter used in building the default decision tree is random state, which would ensure consistent results in using the decision tree model.\n",
    "\n",
    "Other default parameters are:"
   ],
   "metadata": {}
  },
  {
   "cell_type": "code",
   "execution_count": 7,
   "source": [
    "print(model_tree_default.get_params(True))"
   ],
   "outputs": [
    {
     "output_type": "stream",
     "name": "stdout",
     "text": [
      "{'ccp_alpha': 0.0, 'class_weight': None, 'criterion': 'gini', 'max_depth': None, 'max_features': None, 'max_leaf_nodes': None, 'min_impurity_decrease': 0.0, 'min_impurity_split': None, 'min_samples_leaf': 1, 'min_samples_split': 2, 'min_weight_fraction_leaf': 0.0, 'presort': 'deprecated', 'random_state': 10, 'splitter': 'best'}\n"
     ]
    }
   ],
   "metadata": {}
  },
  {
   "cell_type": "markdown",
   "source": [
    "### 2.1.c What is the size of the tree (number of nodes and rules)?\n",
    "The tree has 2149 nodes and 1075 leaf nodes. So the number of rules would be 2149 - 1075 = 1074 rules."
   ],
   "metadata": {}
  },
  {
   "cell_type": "code",
   "execution_count": 8,
   "source": [
    "print(\"Number of nodes: \", model_tree_default.tree_.node_count)\n",
    "print(\"Number of leaves: \", model_tree_default.tree_.n_leaves)"
   ],
   "outputs": [
    {
     "output_type": "stream",
     "name": "stdout",
     "text": [
      "Number of nodes:  2149\n",
      "Number of leaves:  1075\n"
     ]
    }
   ],
   "metadata": {}
  },
  {
   "cell_type": "markdown",
   "source": [
    "### 2.1.b What is classification accuracy on training and test datasets?\n",
    "The training accuracy of the model is 100%, while the accuracy on the test dataset is 78.58%."
   ],
   "metadata": {}
  },
  {
   "cell_type": "code",
   "execution_count": 9,
   "source": [
    "print(\"Train accuracy:\", model_tree_default.score(X_train, y_train))\n",
    "print(\"Test accuracy:\", model_tree_default.score(X_test, y_test))\n",
    "y_pred = model_tree_default.predict(X_test)\n",
    "print(classification_report(y_test, y_pred))"
   ],
   "outputs": [
    {
     "output_type": "stream",
     "name": "stdout",
     "text": [
      "Train accuracy: 1.0\n",
      "Test accuracy: 0.785809906291834\n",
      "              precision    recall  f1-score   support\n",
      "\n",
      "           0       0.87      0.85      0.86      2379\n",
      "           1       0.48      0.52      0.50       609\n",
      "\n",
      "    accuracy                           0.79      2988\n",
      "   macro avg       0.67      0.69      0.68      2988\n",
      "weighted avg       0.79      0.79      0.79      2988\n",
      "\n"
     ]
    }
   ],
   "metadata": {}
  },
  {
   "cell_type": "markdown",
   "source": [
    "### 2.1.d Which variable is used for the first split? What are the variables that are used for the second split?\n",
    "Looking at the visualization of the decision tree, the variable is used for the first split is `Age`, the variables are used for the second split are `NumOfProducts` and `IsActiveMember`."
   ],
   "metadata": {}
  },
  {
   "cell_type": "code",
   "execution_count": 10,
   "source": [
    "# visualize\n",
    "visualize_decision_tree(model_tree_default, X.columns, \"default_tree.png\")"
   ],
   "outputs": [],
   "metadata": {}
  },
  {
   "cell_type": "markdown",
   "source": [
    "### 2.1.e What are the 5 important variables in building the tree? \n",
    "The 5 important variables in building the tree are `Age`, `EstimatedSalary`, `CreditScore`, `Balance`, and `NumOfProducts`."
   ],
   "metadata": {}
  },
  {
   "cell_type": "code",
   "execution_count": 11,
   "source": [
    "# grab feature importances from the tree \n",
    "# and feature name from the original X\n",
    "importances = model_tree_default.feature_importances_\n",
    "feature_names = X.columns\n",
    "\n",
    "# sort them out in descending order\n",
    "indices = np.argsort(importances)\n",
    "indices = np.flip(indices, axis=0)\n",
    "\n",
    "# limit to 5 features\n",
    "indices = indices[:5]\n",
    "\n",
    "for i in indices:\n",
    "    print(feature_names[i], ':', importances[i])"
   ],
   "outputs": [
    {
     "output_type": "stream",
     "name": "stdout",
     "text": [
      "Age : 0.23250862966777697\n",
      "EstimatedSalary : 0.16587022381215832\n",
      "CreditScore : 0.1583342302974943\n",
      "Balance : 0.1511189332891133\n",
      "NumOfProducts : 0.11654360828180964\n"
     ]
    }
   ],
   "metadata": {}
  },
  {
   "cell_type": "markdown",
   "source": [
    "### 2.1.f Report if you see any evidence of model overfitting\n",
    "It can be seen that the model could predict the training data with 100% accuracy. However, there is a significant difference between the prediction of the test dataset and the training dataset. It indicates that this model overfits the training data."
   ],
   "metadata": {}
  },
  {
   "cell_type": "markdown",
   "source": [
    "## 2.2 Build another decision tree tuned with GridSearchCV"
   ],
   "metadata": {}
  },
  {
   "cell_type": "code",
   "execution_count": 12,
   "source": [
    "# Building the tree with grid search CV\n",
    "params = {'criterion': ['gini', 'entropy'],\n",
    "          'max_depth': range(2, 7),\n",
    "          'min_samples_leaf': range(20, 60, 10)}\n",
    "\n",
    "model_tree_cv = GridSearchCV(param_grid=params, estimator= \n",
    "                  DecisionTreeClassifier(random_state=rs), cv=10)\n",
    "model_tree_cv.fit(X_train, y_train)"
   ],
   "outputs": [
    {
     "output_type": "execute_result",
     "data": {
      "text/plain": [
       "GridSearchCV(cv=10, error_score=nan,\n",
       "             estimator=DecisionTreeClassifier(ccp_alpha=0.0, class_weight=None,\n",
       "                                              criterion='gini', max_depth=None,\n",
       "                                              max_features=None,\n",
       "                                              max_leaf_nodes=None,\n",
       "                                              min_impurity_decrease=0.0,\n",
       "                                              min_impurity_split=None,\n",
       "                                              min_samples_leaf=1,\n",
       "                                              min_samples_split=2,\n",
       "                                              min_weight_fraction_leaf=0.0,\n",
       "                                              presort='deprecated',\n",
       "                                              random_state=10,\n",
       "                                              splitter='best'),\n",
       "             iid='deprecated', n_jobs=None,\n",
       "             param_grid={'criterion': ['gini', 'entropy'],\n",
       "                         'max_depth': range(2, 7),\n",
       "                         'min_samples_leaf': range(20, 60, 10)},\n",
       "             pre_dispatch='2*n_jobs', refit=True, return_train_score=False,\n",
       "             scoring=None, verbose=0)"
      ]
     },
     "metadata": {},
     "execution_count": 12
    }
   ],
   "metadata": {}
  },
  {
   "cell_type": "markdown",
   "source": [
    "### 2.2.a What are the optimal parameters for this decision tree?\r\n",
    "The optimal parameters for this decision tree are  {'criterion': 'gini', 'max_depth': 5, 'min_samples_leaf': 20}"
   ],
   "metadata": {}
  },
  {
   "cell_type": "code",
   "execution_count": 13,
   "source": [
    "# print parameters of the best model\n",
    "print(model_tree_cv.best_params_)"
   ],
   "outputs": [
    {
     "output_type": "stream",
     "name": "stdout",
     "text": [
      "{'criterion': 'gini', 'max_depth': 5, 'min_samples_leaf': 20}\n"
     ]
    }
   ],
   "metadata": {}
  },
  {
   "cell_type": "markdown",
   "source": [
    "### 2.2.b What is classification accuracy on training and test datasets?\r\n",
    "The train accuracy is 85.64% and the test accuracy is 85.71%."
   ],
   "metadata": {}
  },
  {
   "cell_type": "code",
   "execution_count": 14,
   "source": [
    "print(\"Train accuracy:\", model_tree_cv.score(X_train, y_train))\n",
    "print(\"Test accuracy:\", model_tree_cv.score(X_test, y_test))\n",
    "\n",
    "# test the best model\n",
    "y_pred = model_tree_cv.predict(X_test)\n",
    "print(classification_report(y_test, y_pred))"
   ],
   "outputs": [
    {
     "output_type": "stream",
     "name": "stdout",
     "text": [
      "Train accuracy: 0.8563638972592912\n",
      "Test accuracy: 0.857095046854083\n",
      "              precision    recall  f1-score   support\n",
      "\n",
      "           0       0.86      0.97      0.92      2379\n",
      "           1       0.80      0.40      0.53       609\n",
      "\n",
      "    accuracy                           0.86      2988\n",
      "   macro avg       0.83      0.69      0.72      2988\n",
      "weighted avg       0.85      0.86      0.84      2988\n",
      "\n"
     ]
    }
   ],
   "metadata": {}
  },
  {
   "cell_type": "markdown",
   "source": [
    "### 2.2.c What is the size of the chosen tree (number of nodes and rules)?\n",
    "There are 51 nodes and 26 leaves in the decision tree tuned with `GridSearchCV`. As there are 26 leaf nodes, there would be 51-26 = 25 rules in the tree."
   ],
   "metadata": {}
  },
  {
   "cell_type": "code",
   "execution_count": 15,
   "source": [
    "print(\"Number of nodes: \", model_tree_cv.best_estimator_.tree_.node_count)\n",
    "print(\"Number of leaves: \", model_tree_cv.best_estimator_.tree_.n_leaves)"
   ],
   "outputs": [
    {
     "output_type": "stream",
     "name": "stdout",
     "text": [
      "Number of nodes:  51\n",
      "Number of leaves:  26\n"
     ]
    }
   ],
   "metadata": {}
  },
  {
   "cell_type": "markdown",
   "source": [
    "### 2.2.d Which variable is used for the first split? What are the variables that are used for the second split?\n",
    "The variable used for the first split is `Age`. The variables used for the second split are `NumOfProducts` and `IsActiveMember`."
   ],
   "metadata": {}
  },
  {
   "cell_type": "code",
   "execution_count": 16,
   "source": [
    "# do the visualization analysis on GridSearchCV's best model\n",
    "visualize_decision_tree(model_tree_cv.best_estimator_, X.columns, \"optimal_tree.png\")"
   ],
   "outputs": [],
   "metadata": {}
  },
  {
   "cell_type": "markdown",
   "source": [
    "### 2.2.e What are the 5 important variables in building the tree? \n",
    "The 5 important variables in building the tree are `Age`, `NumOfProducts`, `IsActiveMember`, `Balance`, and `EstimatedSalary`."
   ],
   "metadata": {}
  },
  {
   "cell_type": "code",
   "execution_count": 17,
   "source": [
    "analyse_feature_importance(model_tree_cv.best_estimator_, X.columns, 5)"
   ],
   "outputs": [
    {
     "output_type": "stream",
     "name": "stdout",
     "text": [
      "Age : 0.45015311369024563\n",
      "NumOfProducts : 0.343256206857896\n",
      "IsActiveMember : 0.17103041909453676\n",
      "Balance : 0.028501520577066796\n",
      "EstimatedSalary : 0.006036677839659389\n"
     ]
    }
   ],
   "metadata": {}
  },
  {
   "cell_type": "markdown",
   "source": [
    "### 2.2.f Report if you see any evidence of model overfitting. \r\n",
    "Minor difference can be seen between performance on training data vs test data. It indicates that the model generalises better and is not overfitting."
   ],
   "metadata": {}
  },
  {
   "cell_type": "markdown",
   "source": [
    "## 2.3 What is the significant difference do you see between these two decision tree models – default (Task 2.1) and using GridSearchCV (Task 2.2)? How do they compare performance-wise? Explain why those changes may have happened.\n",
    "It is noticed that the test accuracy of the decision tree using `GridSearchCV` is greatly improved over the default tree. However, the `GridSearchCV` method takes longer to train the model since it has to try different combinations of hyperparameter, validate them in k-fold CV fashion and evaluate the average performance values to determine the optimal combination. Using different combinations of hyperparameters can optimize the model because each hyperparameter could have an impact on the output model in different ways."
   ],
   "metadata": {}
  },
  {
   "cell_type": "code",
   "execution_count": 18,
   "source": [
    "best_tree = model_tree_cv.best_estimator_"
   ],
   "outputs": [],
   "metadata": {}
  },
  {
   "cell_type": "markdown",
   "source": [
    "## 2.4. From the better model, can you provide a descriptive summary of customers that most likely exit and stop using the banking services?\r\n",
    "From the optimal decision tree, we can see that older customers and the customers with 3 or 4 products are more likely to churn."
   ],
   "metadata": {}
  },
  {
   "cell_type": "markdown",
   "source": [
    "# Task 3. Predictive Modeling Using Regression<a name=\"regress\"></a>"
   ],
   "metadata": {}
  },
  {
   "cell_type": "markdown",
   "source": [
    "## 3.1. Describe what and why you will have to do additional preparation for variables to be used in regression modelling. List the variables that needed it with the processing detail.\n",
    " In regression modeling, standardization and data transformation should be added in the pre-processing phase. The standardization is necessary because it proves challenging for the model to compare data on different scales. Moreover, unstandardized data could negatively affect the gradient descent and model performance. Therefore, we implement standardization on all input variables to avoid this problem. The data transformation is also of importance. It helps the model avoid choosing input variables with greatly skewed or kurtotic distributions which could adversely affect model performance. However, data transformation makes it harder to understand the model. We implement the log transformation for 6 numeric columns, which are `CreditScore`, `Age`, `Tenure`, `Balance`, `NumOfProducts`, and `EstimatedSalary`."
   ],
   "metadata": {}
  },
  {
   "cell_type": "code",
   "execution_count": 45,
   "source": [
    "df = pd.read_csv('churn.csv')\n",
    "df = preprocess_data(df)\n",
    "rs = 10\n",
    "\n",
    "# list columns to be transformed\n",
    "columns_to_transform = ['CreditScore', 'Age', 'Tenure', 'Balance', 'NumOfProducts', 'EstimatedSalary']\n",
    "\n",
    "# copy the dataframe\n",
    "df_log = df.copy()\n",
    "\n",
    "# transform the columns with np.log\n",
    "for col in columns_to_transform:\n",
    "    df_log[col] = df_log[col].apply(lambda x: x+1)\n",
    "    df_log[col] = df_log[col].apply(np.log)\n",
    "    \n",
    "# create X, y and train test data partitions\n",
    "y_log = df_log['Exited']\n",
    "X_log = df_log.drop(['Exited'], axis=1)\n",
    "X_mat_log = X_log.values\n",
    "X_train_log, X_test_log, y_train_log, y_test_log = train_test_split(X_mat_log, \n",
    "                                                                    y_log, \n",
    "                                                                    test_size=0.3, \n",
    "                                                                    stratify=y_log, \n",
    "                                                                    random_state=rs)\n",
    "\n",
    "# standardise them again\n",
    "scaler_log = StandardScaler()\n",
    "X_train_log = scaler_log.fit_transform(X_train_log, y_train_log)\n",
    "X_test_log = scaler_log.transform(X_test_log)\n",
    "\n",
    "# target/input split\n",
    "y = df['Exited']\n",
    "X = df.drop(['Exited'], axis=1)\n",
    "X_mat = X.values\n",
    "\n",
    "\n",
    "\n",
    "X_train, X_test, y_train, y_test = train_test_split(X_mat, y, \n",
    "                                                    test_size=0.3, \n",
    "                                                    stratify=y, \n",
    "                                                    random_state=rs)\n",
    "\n",
    "scaler = StandardScaler()\n",
    "X_train = scaler.fit_transform(X_train, y_train)\n",
    "X_test = scaler.transform(X_test)"
   ],
   "outputs": [],
   "metadata": {}
  },
  {
   "cell_type": "markdown",
   "source": [
    "## 3.2. Building the regression model using the default regression method and GridSearchCV method"
   ],
   "metadata": {}
  },
  {
   "cell_type": "code",
   "execution_count": 20,
   "source": [
    "# Using the default settings ---\n",
    "\n",
    "model_lr = LogisticRegression(random_state=rs)\n",
    "\n",
    "# fit it to training data\n",
    "model_lr.fit(X_train_log, y_train_log)\n",
    "\n",
    "print(\"Train accuracy:\", model_lr.score(X_train_log, y_train_log))\n",
    "print(\"Test accuracy:\", model_lr.score(X_test_log, y_test_log))\n",
    "\n",
    "# classification report on test data\n",
    "y_pred = model_lr.predict(X_test_log)\n",
    "print(classification_report(y_test_log, y_pred))"
   ],
   "outputs": [
    {
     "output_type": "stream",
     "name": "stdout",
     "text": [
      "Train accuracy: 0.8130291289998565\n",
      "Test accuracy: 0.8135876840696118\n",
      "              precision    recall  f1-score   support\n",
      "\n",
      "           0       0.83      0.97      0.89      2379\n",
      "           1       0.63      0.21      0.31       609\n",
      "\n",
      "    accuracy                           0.81      2988\n",
      "   macro avg       0.73      0.59      0.60      2988\n",
      "weighted avg       0.79      0.81      0.77      2988\n",
      "\n"
     ]
    }
   ],
   "metadata": {}
  },
  {
   "cell_type": "code",
   "execution_count": 21,
   "source": [
    "# grab feature importances from the model and feature name from the original X\n",
    "coef = model_lr.coef_[0]\n",
    "feature_names = X.columns\n",
    "\n",
    "# sort them out in descending order\n",
    "indices = np.argsort(np.absolute(coef))\n",
    "indices = np.flip(indices, axis=0)\n",
    "\n",
    "# limit to 6 features\n",
    "indices = indices[:6]\n",
    "\n",
    "for i in indices:\n",
    "    print(feature_names[i], ':', coef[i])"
   ],
   "outputs": [
    {
     "output_type": "stream",
     "name": "stdout",
     "text": [
      "Age : 0.8481212436751061\n",
      "IsActiveMember : -0.49031798390767806\n",
      "Balance : 0.3050102703715496\n",
      "Gender_Male : -0.1420124744955866\n",
      "Gender_Female : 0.1420124744955866\n",
      "NumOfProducts : -0.13342935401214312\n"
     ]
    }
   ],
   "metadata": {}
  },
  {
   "cell_type": "code",
   "execution_count": 22,
   "source": [
    "## Using grid search ---\n",
    "\n",
    "# grid search CV\n",
    "params = {'C': [pow(10, x) for x in range(-6, 4)]}\n",
    "\n",
    "# use all cores to tune logistic regression with C parameter\n",
    "model_lr_cv = GridSearchCV(param_grid=params, estimator=\n",
    "                  LogisticRegression(random_state=rs), cv=10, n_jobs=-1)\n",
    "model_lr_cv.fit(X_train_log, y_train_log)\n",
    "\n",
    "# test the best model\n",
    "print(\"Train accuracy:\", model_lr_cv.score(X_train_log, y_train_log))\n",
    "print(\"Test accuracy:\", model_lr_cv.score(X_test_log, y_test_log))\n",
    "\n",
    "y_pred = model_lr_cv.predict(X_test_log)\n",
    "print(classification_report(y_test_log, y_pred))\n",
    "\n",
    "# print parameters of the best model\n",
    "print(model_lr_cv.best_params_)\n"
   ],
   "outputs": [
    {
     "output_type": "stream",
     "name": "stdout",
     "text": [
      "Train accuracy: 0.8130291289998565\n",
      "Test accuracy: 0.8135876840696118\n",
      "              precision    recall  f1-score   support\n",
      "\n",
      "           0       0.83      0.97      0.89      2379\n",
      "           1       0.63      0.21      0.31       609\n",
      "\n",
      "    accuracy                           0.81      2988\n",
      "   macro avg       0.73      0.59      0.60      2988\n",
      "weighted avg       0.79      0.81      0.77      2988\n",
      "\n",
      "{'C': 1}\n"
     ]
    }
   ],
   "metadata": {}
  },
  {
   "cell_type": "code",
   "execution_count": 23,
   "source": [
    "# grab feature importances from the model and feature name from the original X\n",
    "coef = model_lr_cv.best_estimator_.coef_[0]\n",
    "feature_names = X.columns\n",
    "\n",
    "# sort them out in descending order\n",
    "indices = np.argsort(np.absolute(coef))\n",
    "indices = np.flip(indices, axis=0)\n",
    "\n",
    "# limit to 6 features\n",
    "indices = indices[:20]\n",
    "\n",
    "for i in indices:\n",
    "    print(feature_names[i], ':', coef[i])"
   ],
   "outputs": [
    {
     "output_type": "stream",
     "name": "stdout",
     "text": [
      "Age : 0.8481212436751061\n",
      "IsActiveMember : -0.49031798390767806\n",
      "Balance : 0.3050102703715496\n",
      "Gender_Male : -0.1420124744955866\n",
      "Gender_Female : 0.1420124744955866\n",
      "NumOfProducts : -0.13342935401214312\n",
      "CreditScore : -0.08553932817961539\n",
      "Tenure : -0.043548144662232564\n",
      "HasCrCard : -0.04073019935633673\n",
      "EstimatedSalary : 0.0045855676573468\n",
      "CurrentWorkingStatus : -0.0017362307330830217\n"
     ]
    }
   ],
   "metadata": {}
  },
  {
   "cell_type": "markdown",
   "source": [
    "### 3.2.a Name the Regression function used.\n",
    "The Regression function used is Logistic Function because it is a method for the binary classification.\n",
    "\n",
    "### 3.2.b Report the variables that are included in the regression model.\n",
    "The variables included in the regression model are `Age`, `IsActiveMember`, `Balance`, `Gender`, `NumOfProducts`, `CreditScore`, `Tenure`, `HasCrCard`, `EstimatedSalary`, and `CurrentWorkingStatus`.\n",
    "\n",
    "### 3.2.c Report the top-5 important variables (in order) in the model.\n",
    "Top 5 important variables in the model are `Age`, `IsActiveMember`, `Balance`, `Gender`, and `NumOfProducts`.\n",
    "\n",
    "### 3.2.d What is classification accuracy on training and test datasets? Report any sign of overfitting.\n",
    "The model using default regression method and the model tuned by `GridSearchCV` both output the same accuracy on training and test datasets, 81.30% and 81.36% respectively. There is no major difference between the accuracy on training and test data, therefore, the model is not signicantly overfitting. "
   ],
   "metadata": {}
  },
  {
   "cell_type": "markdown",
   "source": [
    "## 3.3 Build the regression model using inputs selected by RFE"
   ],
   "metadata": {}
  },
  {
   "cell_type": "code",
   "execution_count": 24,
   "source": [
    "rfe = RFECV(estimator = LogisticRegression(random_state=rs), cv=10)\n",
    "rfe.fit(X_train_log, y_train_log) # run the RFECV\n",
    "\n",
    "# comparing how many variables before and after\n",
    "print(\"Original feature set\", X_train_log.shape[1])\n",
    "print(\"Number of features after elimination\", rfe.n_features_)\n",
    "\n",
    "X_train_sel = rfe.transform(X_train_log)\n",
    "X_test_sel = rfe.transform(X_test_log)\n",
    "\n",
    "# grid search CV\n",
    "params = {'C': [pow(10, x) for x in range(-6, 4)]}\n",
    "\n",
    "model_lr_rfe_cv = GridSearchCV(param_grid=params, estimator=\n",
    "                  LogisticRegression(random_state=rs), cv=10, n_jobs=-1)\n",
    "model_lr_rfe_cv.fit(X_train_sel, y_train_log)\n",
    "\n",
    "# test the best model\n",
    "print(\"Train accuracy:\", model_lr_rfe_cv.score(X_train_sel, y_train_log))\n",
    "print(\"Test accuracy:\", model_lr_rfe_cv.score(X_test_sel, y_test_log))\n",
    "\n",
    "y_pred = model_lr_rfe_cv.predict(X_test_sel)\n",
    "print(classification_report(y_test_log, y_pred))\n",
    "\n",
    "# print parameters of the best model\n",
    "print(model_lr_rfe_cv.best_params_)\n"
   ],
   "outputs": [
    {
     "output_type": "stream",
     "name": "stdout",
     "text": [
      "Original feature set 11\n",
      "Number of features after elimination 8\n",
      "Train accuracy: 0.8136030994403788\n",
      "Test accuracy: 0.8149263721552878\n",
      "              precision    recall  f1-score   support\n",
      "\n",
      "           0       0.83      0.97      0.89      2379\n",
      "           1       0.64      0.21      0.32       609\n",
      "\n",
      "    accuracy                           0.81      2988\n",
      "   macro avg       0.73      0.59      0.61      2988\n",
      "weighted avg       0.79      0.81      0.78      2988\n",
      "\n",
      "{'C': 1}\n"
     ]
    }
   ],
   "metadata": {}
  },
  {
   "cell_type": "markdown",
   "source": [
    "### 3.3.a Was the dimensionality reduction useful? \n",
    "Yes. We were able to improve the performance on the testing set using RFE (0.81493 with RFE vs 0.81359 with full feature set).  \n",
    "\n",
    "### 3.3.b Report the variables that are included in the regression model\n",
    "The variables used in the reduced model can be seen below in the two code cells. The dropped variables were `CurrentWorkingStatus`, `HasCrCard`, and `EstimatedSalary`. The variables that were kept in the model were `CreditScore`, `Age`, `Tenure`, `Balance`, `NumOfProducts`, `IsActiveMember`, and `Gender`.\n",
    "\n",
    "### 3.3.c What is classification accuracy on training and test datasets? Report any sign of overfitting.\n",
    "The training accuracy is 0.8136 while the testing accuracy is 0.8149. As the model performed better on the testing set than it did on the training set, there is no sign of overfitting."
   ],
   "metadata": {}
  },
  {
   "cell_type": "code",
   "execution_count": 25,
   "source": [
    "# The variables that were dropped from the RFE\n",
    "df.drop(\"Exited\", axis=1).columns[[not x for x in rfe.get_support()]]"
   ],
   "outputs": [
    {
     "output_type": "execute_result",
     "data": {
      "text/plain": [
       "Index(['CurrentWorkingStatus', 'HasCrCard', 'EstimatedSalary'], dtype='object')"
      ]
     },
     "metadata": {},
     "execution_count": 25
    }
   ],
   "metadata": {}
  },
  {
   "cell_type": "code",
   "execution_count": 26,
   "source": [
    "# The variables that remained in the model.\n",
    "df.drop(\"Exited\", axis=1).columns[rfe.get_support()]"
   ],
   "outputs": [
    {
     "output_type": "execute_result",
     "data": {
      "text/plain": [
       "Index(['CreditScore', 'Age', 'Tenure', 'Balance', 'NumOfProducts',\n",
       "       'IsActiveMember', 'Gender_Female', 'Gender_Male'],\n",
       "      dtype='object')"
      ]
     },
     "metadata": {},
     "execution_count": 26
    }
   ],
   "metadata": {}
  },
  {
   "cell_type": "markdown",
   "source": [
    "## 3.4 Using the comparison statistics, which of the regression models appears to be better? Explain why.\n",
    "The model with default parameters and the grid search got the same accuracy with 0.8136 on the testing set. With RFE, the model got an accuracy of 0.8149 on the testing set. From these results, it seems that the model with the reduced dimensionality got slightly better performance. This could be because that selecting only important features could enhance the model performance.\n",
    "\n",
    "## 3.5 From the better model, can you provide a descriptive summary of customers that most likely exit and stop using the banking services?\n",
    "Customers that were more likely to churn would be older, female customers with a higher balance and is not an active member. The most important variable was `Age`; older customers were much more likely to churn."
   ],
   "metadata": {}
  },
  {
   "cell_type": "code",
   "execution_count": 27,
   "source": [
    "# This was used to determine the descriptive summary of customers (along with the list of variables.)\n",
    "model_lr_rfe_cv.best_estimator_.coef_"
   ],
   "outputs": [
    {
     "output_type": "execute_result",
     "data": {
      "text/plain": [
       "array([[-0.08496303,  0.84865843, -0.04394154,  0.306019  , -0.13318601,\n",
       "        -0.48983716,  0.14196125, -0.14196125]])"
      ]
     },
     "metadata": {},
     "execution_count": 27
    }
   ],
   "metadata": {}
  },
  {
   "cell_type": "markdown",
   "source": [
    "# Task 4 - Using Neural Networks\r\n",
    "## 4.1 - Using default parameters"
   ],
   "metadata": {}
  },
  {
   "cell_type": "code",
   "execution_count": 28,
   "source": [
    "model_nn = MLPClassifier(random_state=rs, max_iter=500)\n",
    "model_nn.fit(X_train_log, y_train_log)"
   ],
   "outputs": [
    {
     "output_type": "execute_result",
     "data": {
      "text/plain": [
       "MLPClassifier(activation='relu', alpha=0.0001, batch_size='auto', beta_1=0.9,\n",
       "              beta_2=0.999, early_stopping=False, epsilon=1e-08,\n",
       "              hidden_layer_sizes=(100,), learning_rate='constant',\n",
       "              learning_rate_init=0.001, max_fun=15000, max_iter=500,\n",
       "              momentum=0.9, n_iter_no_change=10, nesterovs_momentum=True,\n",
       "              power_t=0.5, random_state=10, shuffle=True, solver='adam',\n",
       "              tol=0.0001, validation_fraction=0.1, verbose=False,\n",
       "              warm_start=False)"
      ]
     },
     "metadata": {},
     "execution_count": 28
    }
   ],
   "metadata": {}
  },
  {
   "cell_type": "markdown",
   "source": [
    "### 4.1.a What are the parameters used?\r\n",
    "The parameters used can be seen below:"
   ],
   "metadata": {}
  },
  {
   "cell_type": "code",
   "execution_count": 29,
   "source": [
    "print(model_nn.get_params(True))"
   ],
   "outputs": [
    {
     "output_type": "stream",
     "name": "stdout",
     "text": [
      "{'activation': 'relu', 'alpha': 0.0001, 'batch_size': 'auto', 'beta_1': 0.9, 'beta_2': 0.999, 'early_stopping': False, 'epsilon': 1e-08, 'hidden_layer_sizes': (100,), 'learning_rate': 'constant', 'learning_rate_init': 0.001, 'max_fun': 15000, 'max_iter': 500, 'momentum': 0.9, 'n_iter_no_change': 10, 'nesterovs_momentum': True, 'power_t': 0.5, 'random_state': 10, 'shuffle': True, 'solver': 'adam', 'tol': 0.0001, 'validation_fraction': 0.1, 'verbose': False, 'warm_start': False}\n"
     ]
    }
   ],
   "metadata": {}
  },
  {
   "cell_type": "markdown",
   "source": [
    "### 4.1.b What is the classification accuracy on training and test datasets?"
   ],
   "metadata": {}
  },
  {
   "cell_type": "code",
   "execution_count": 30,
   "source": [
    "print(\"Train accuracy:\", model_nn.score(X_train_log, y_train_log))\n",
    "print(\"Test accuracy:\", model_nn.score(X_test_log, y_test_log))\n",
    "y_pred = model_nn.predict(X_test_log)\n",
    "print(classification_report(y_test_log, y_pred))"
   ],
   "outputs": [
    {
     "output_type": "stream",
     "name": "stdout",
     "text": [
      "Train accuracy: 0.8715741139331324\n",
      "Test accuracy: 0.8547523427041499\n",
      "              precision    recall  f1-score   support\n",
      "\n",
      "           0       0.87      0.96      0.91      2379\n",
      "           1       0.75      0.44      0.55       609\n",
      "\n",
      "    accuracy                           0.85      2988\n",
      "   macro avg       0.81      0.70      0.73      2988\n",
      "weighted avg       0.84      0.85      0.84      2988\n",
      "\n"
     ]
    }
   ],
   "metadata": {}
  },
  {
   "cell_type": "markdown",
   "source": [
    "### 4.1.c Comments on the training process.\n",
    "\n",
    "The training accuracy is 0.871 while the testing accuracy is 0.854. On the default parameters, there is evidence that the model is overfitting to the data since the accuracy on the training set is moderately larger than the accuracy on the testing set."
   ],
   "metadata": {}
  },
  {
   "cell_type": "markdown",
   "source": [
    "## 4.2 Using GridSearchCV"
   ],
   "metadata": {}
  },
  {
   "cell_type": "code",
   "execution_count": 31,
   "source": [
    "params = {'hidden_layer_sizes': [(x,) for x in range(1, 11, 1)],\n",
    "'alpha': [0.01,0.001, 0.0001, 0.00001]}\n",
    "\n",
    "model_nn_cv = GridSearchCV(param_grid=params, estimator=MLPClassifier(random_state=rs, max_iter=500), cv=10, n_jobs=-1)\n",
    "\n",
    "model_nn_cv.fit(X_train_log, y_train_log)"
   ],
   "outputs": [
    {
     "output_type": "execute_result",
     "data": {
      "text/plain": [
       "GridSearchCV(cv=10, error_score=nan,\n",
       "             estimator=MLPClassifier(activation='relu', alpha=0.0001,\n",
       "                                     batch_size='auto', beta_1=0.9,\n",
       "                                     beta_2=0.999, early_stopping=False,\n",
       "                                     epsilon=1e-08, hidden_layer_sizes=(100,),\n",
       "                                     learning_rate='constant',\n",
       "                                     learning_rate_init=0.001, max_fun=15000,\n",
       "                                     max_iter=500, momentum=0.9,\n",
       "                                     n_iter_no_change=10,\n",
       "                                     nesterovs_momentum=True, power_t=0.5,\n",
       "                                     random_state=10, shuffle=True,\n",
       "                                     solver='adam', tol=0.0001,\n",
       "                                     validation_fraction=0.1, verbose=False,\n",
       "                                     warm_start=False),\n",
       "             iid='deprecated', n_jobs=-1,\n",
       "             param_grid={'alpha': [0.01, 0.001, 0.0001, 1e-05],\n",
       "                         'hidden_layer_sizes': [(1,), (2,), (3,), (4,), (5,),\n",
       "                                                (6,), (7,), (8,), (9,),\n",
       "                                                (10,)]},\n",
       "             pre_dispatch='2*n_jobs', refit=True, return_train_score=False,\n",
       "             scoring=None, verbose=0)"
      ]
     },
     "metadata": {},
     "execution_count": 31
    }
   ],
   "metadata": {}
  },
  {
   "cell_type": "markdown",
   "source": [
    "### 4.2.a What are the parameters used?\r\n",
    "Most of the parameters are left to the default values as shown in 4.1.a, but a parameter search was conducted for the hidden layer size and alpha. The optimal parameters found from the grid search were an alpha value of 0.0001 and a hidden layer size of 10 neurons. "
   ],
   "metadata": {}
  },
  {
   "cell_type": "code",
   "execution_count": 32,
   "source": [
    "print(model_nn_cv.best_params_)"
   ],
   "outputs": [
    {
     "output_type": "stream",
     "name": "stdout",
     "text": [
      "{'alpha': 0.0001, 'hidden_layer_sizes': (10,)}\n"
     ]
    }
   ],
   "metadata": {}
  },
  {
   "cell_type": "markdown",
   "source": [
    "### 4.2.b What is the classification accuracy on the training and testing sets?"
   ],
   "metadata": {}
  },
  {
   "cell_type": "code",
   "execution_count": 33,
   "source": [
    "print(\"Train accuracy:\", model_nn_cv.score(X_train_log, y_train_log))\n",
    "print(\"Test accuracy:\", model_nn_cv.score(X_test_log, y_test_log))\n",
    "\n",
    "\n",
    "y_pred = model_nn_cv.predict(X_test_log)\n",
    "print(classification_report(y_test_log, y_pred))"
   ],
   "outputs": [
    {
     "output_type": "stream",
     "name": "stdout",
     "text": [
      "Train accuracy: 0.8563638972592912\n",
      "Test accuracy: 0.8530789825970548\n",
      "              precision    recall  f1-score   support\n",
      "\n",
      "           0       0.86      0.97      0.91      2379\n",
      "           1       0.78      0.39      0.52       609\n",
      "\n",
      "    accuracy                           0.85      2988\n",
      "   macro avg       0.82      0.68      0.72      2988\n",
      "weighted avg       0.84      0.85      0.83      2988\n",
      "\n"
     ]
    }
   ],
   "metadata": {}
  },
  {
   "cell_type": "markdown",
   "source": [
    "### 4.2.c Comments on the training process\n",
    "\n",
    "The model had a negligible difference in performance between the training set and the testing set. As a result, there is no indication of overfitting as it seems the model has learned to generalise to new data quite well."
   ],
   "metadata": {}
  },
  {
   "cell_type": "markdown",
   "source": [
    "## 4.3 Using RFE for feature selection"
   ],
   "metadata": {}
  },
  {
   "cell_type": "code",
   "execution_count": 46,
   "source": [
    "# transform log \n",
    "X_train_rfe = rfe.transform(X_train)\n",
    "X_test_rfe = rfe.transform(X_test)\n",
    "\n",
    "print(\"Number of features after elimination\", X_train_rfe.shape[1])\n",
    "\n",
    "params = {'hidden_layer_sizes': [(x,) for x in range(1, 11, 1)],\n",
    "'alpha': [0.01,0.001, 0.0001, 0.00001]}\n",
    "\n",
    "model_rfe_nn = GridSearchCV(param_grid=params, estimator=\n",
    "                  MLPClassifier(random_state=rs, max_iter=3000), cv=10, n_jobs=-1)\n",
    "model_rfe_nn.fit(X_train_rfe, y_train)\n",
    "\n",
    "print(\"Train accuracy:\", model_rfe_nn.score(X_train_rfe, y_train))\n",
    "print(\"Test accuracy:\", model_rfe_nn.score(X_test_rfe, y_test))\n",
    "\n",
    "y_pred = model_rfe_nn.predict(X_test_rfe)\n",
    "print(classification_report(y_test, y_pred))\n",
    "\n",
    "print(model_rfe_nn.best_params_)"
   ],
   "outputs": [
    {
     "output_type": "stream",
     "name": "stdout",
     "text": [
      "Number of features after elimination 8\n",
      "Train accuracy: 0.8565073898694218\n",
      "Test accuracy: 0.857429718875502\n",
      "              precision    recall  f1-score   support\n",
      "\n",
      "           0       0.87      0.97      0.92      2379\n",
      "           1       0.78      0.42      0.54       609\n",
      "\n",
      "    accuracy                           0.86      2988\n",
      "   macro avg       0.82      0.69      0.73      2988\n",
      "weighted avg       0.85      0.86      0.84      2988\n",
      "\n",
      "{'alpha': 0.001, 'hidden_layer_sizes': (7,)}\n"
     ]
    }
   ],
   "metadata": {}
  },
  {
   "cell_type": "code",
   "execution_count": 35,
   "source": [
    "from sklearn.feature_selection import SelectFromModel\n",
    "\n",
    "selectmodel = SelectFromModel(model_tree_cv.best_estimator_, prefit=True)\n",
    "X_train_sel_model = selectmodel.transform(X_train)\n",
    "X_test_sel_model = selectmodel.transform(X_test)\n",
    "\n",
    "print(\"Number of features after elimination\", X_train_sel_model.shape[1])\n",
    "\n",
    "params = {'hidden_layer_sizes': [(x,) for x in range(1, 11, 1)],\n",
    "'alpha': [0.01,0.001, 0.0001, 0.00001]}\n",
    "\n",
    "model_tree_nn = GridSearchCV(param_grid=params, estimator=\n",
    "                  MLPClassifier(random_state=rs, max_iter=1000), cv=10, n_jobs=-1)\n",
    "model_tree_nn.fit(X_train_sel_model, y_train)\n",
    "\n",
    "print(\"Train accuracy:\", model_tree_nn.score(X_train_sel_model, y_train))\n",
    "print(\"Test accuracy:\", model_tree_nn.score(X_test_sel_model, y_test))\n",
    "\n",
    "y_pred = model_tree_nn.predict(X_test_sel_model)\n",
    "print(classification_report(y_test, y_pred))\n",
    "\n",
    "print(model_tree_nn.best_params_)"
   ],
   "outputs": [
    {
     "output_type": "stream",
     "name": "stdout",
     "text": [
      "Number of features after elimination 3\n",
      "Train accuracy: 0.8552159563782465\n",
      "Test accuracy: 0.856425702811245\n",
      "              precision    recall  f1-score   support\n",
      "\n",
      "           0       0.86      0.97      0.92      2379\n",
      "           1       0.79      0.41      0.54       609\n",
      "\n",
      "    accuracy                           0.86      2988\n",
      "   macro avg       0.83      0.69      0.73      2988\n",
      "weighted avg       0.85      0.86      0.84      2988\n",
      "\n",
      "{'alpha': 0.001, 'hidden_layer_sizes': (10,)}\n"
     ]
    }
   ],
   "metadata": {}
  },
  {
   "cell_type": "markdown",
   "source": [
    "### 4.3.a Did feature selection help here? Which method of feature selection produced the best result? Any change in the network architecture? What inputs are being used as the network input?\n",
    "\n",
    "Both feature selection methods resulted in better predictive results on the testing set when compared to using the full dataset. In particular, using the logistic regression for RFE resulted in a testing accuracy of 0.8574, while using the decision tree resulted in an accuracy of 0.8564. These are both better than the grid search score of 0.8531 and default parameter score of 0.8548. It seems that the logistic regression method resulted in the best model as it had the highest accuracy while also showing no signs of overfitting (the model performed better on the test set than it did on the training set). From redoing a grid search on the new parameters, the network architecture has slightly changed. For the random forest model, only the `alpha` value is different from the grid search on the full dataset, with the RFE grid search finding an `alpha` value of 0.001 and the grid search on the full dataset finding an `alpha` value of 0.0001. For the decision tree RFE, the hidden layer size was unchanged. For the logistic regression RFE, the `alpha` was the same as the `alpha` for the decision tree RFE `0.001` but it also found a different optimal `hidden_layer_size` of 7. 8 variables used for the logistic regression RFE, these were `CreditScore`, `Age`, `Tenure`, `Balance`, `NumOfProducts`, `IsActiveMember`, `Gender_Female`, and `Gender_Male`. For the decision tree RFE, only 3 variables were selected, these were `Age`, `NumOfProducts`, and `IsActiveMember`."
   ],
   "metadata": {}
  },
  {
   "cell_type": "code",
   "execution_count": 36,
   "source": [
    "# Logistic regression RFE variables\n",
    "df.drop(\"Exited\", axis=1).columns[rfe.get_support()]"
   ],
   "outputs": [
    {
     "output_type": "execute_result",
     "data": {
      "text/plain": [
       "Index(['CreditScore', 'Age', 'Tenure', 'Balance', 'NumOfProducts',\n",
       "       'IsActiveMember', 'Gender_Female', 'Gender_Male'],\n",
       "      dtype='object')"
      ]
     },
     "metadata": {},
     "execution_count": 36
    }
   ],
   "metadata": {}
  },
  {
   "cell_type": "code",
   "execution_count": 37,
   "source": [
    "# Decision tree RFE variables\n",
    "df.drop(\"Exited\", axis=1).columns[selectmodel.get_support()]"
   ],
   "outputs": [
    {
     "output_type": "execute_result",
     "data": {
      "text/plain": [
       "Index(['Age', 'NumOfProducts', 'IsActiveMember'], dtype='object')"
      ]
     },
     "metadata": {},
     "execution_count": 37
    }
   ],
   "metadata": {}
  },
  {
   "cell_type": "markdown",
   "source": [
    "### 4.3.b What is classification accuracy on training and test datasets? Is there any improvement in the outcome?\r\n",
    "For the logistic regression RFE, the training accuracy was 0.8565 and the testing accuracy was 0.8574. For the decision tree RFE, the training accuracy was 0.8552 and the testing accuracy was 0.8564. These scores are both improvements over the normal grid search training score of 0.8564 and testing score of 0.8531 and the default parameter training score of 0.8716 and testing accuracy of 0.8548."
   ],
   "metadata": {}
  },
  {
   "cell_type": "markdown",
   "source": [
    "### 4.3.c How many iterations are now needed to train this network?\r\n",
    "The model converged after 150 iterations for the tree RFE model and after 168 iterations for the logistic regression based RFE model. Both of these values are lower than the max number of iterations which was 500, so they did converge onto a local optima."
   ],
   "metadata": {}
  },
  {
   "cell_type": "code",
   "execution_count": 38,
   "source": [
    "# Finding number of iterations to find a solution\n",
    "print(f\"Tree based RFE number of iterations to converge: {model_tree_nn.best_estimator_.n_iter_}\")\n",
    "print(f\"Logistic regression RFE number of iterations to converge: {model_rfe_nn.best_estimator_.n_iter_}\")"
   ],
   "outputs": [
    {
     "output_type": "stream",
     "name": "stdout",
     "text": [
      "Tree based RFE number of iterations to converge: 150\n",
      "Logistic regression RFE number of iterations to converge: 168\n"
     ]
    }
   ],
   "metadata": {}
  },
  {
   "cell_type": "markdown",
   "source": [
    "### 4.3.d Comment on the training process concerning underfitting, overfitting or good fitting\n",
    "\n",
    "The models trained using RFE to select features don't exhibit any signs of overfitting. Both models performed better on the testing set than they did on the training set, so, they were able to generalize to unseen data quite well. The accuracy is also quite high so it doesn't seem that it was underfitting. Overall, the model fit seems quite good."
   ],
   "metadata": {}
  },
  {
   "cell_type": "markdown",
   "source": [
    "## 4.4 Using the comparison statistics, which of the Neural Network models appears to be better?\r\n",
    "To compare the models, we can look at the accuracy. As there is some imbalance in the response variable, we can also look at a metric that takes this into account. For this analysis, we will use AUC."
   ],
   "metadata": {}
  },
  {
   "cell_type": "code",
   "execution_count": 39,
   "source": [
    "# Getting the accuracies\n",
    "y_pred_nn_default = model_nn.predict(X_test_log)\n",
    "y_pred_nn_cv = model_nn_cv.best_estimator_.predict(X_test_log)\n",
    "y_pred_nn_refcv = model_rfe_nn.best_estimator_.predict(X_test_rfe)\n",
    "y_pred_nn_treecv = model_tree_nn.best_estimator_.predict(X_test_sel_model)\n",
    "\n",
    "print(\"Accuracy score on test for NN default:\", accuracy_score(y_test, y_pred_nn_default))\n",
    "print(\"Accuracy score on test for NN CV:\", accuracy_score(y_test, y_pred_nn_cv))\n",
    "print(\"Accuracy score on test for NN RFECV:\", accuracy_score(y_pred_nn_refcv, y_test))\n",
    "print(\"Accuracy score on test for NN TREECV:\", accuracy_score(y_test, y_pred_nn_treecv))"
   ],
   "outputs": [
    {
     "output_type": "stream",
     "name": "stdout",
     "text": [
      "Accuracy score on test for NN default: 0.8547523427041499\n",
      "Accuracy score on test for NN CV: 0.8530789825970548\n",
      "Accuracy score on test for NN RFECV: 0.857429718875502\n",
      "Accuracy score on test for NN TREECV: 0.856425702811245\n"
     ]
    }
   ],
   "metadata": {}
  },
  {
   "cell_type": "code",
   "execution_count": 40,
   "source": [
    "from sklearn.metrics import roc_auc_score\n",
    "\n",
    "# Getting the AUCs\n",
    "y_pred_proba_nn = model_nn.predict_proba(X_test_log)\n",
    "y_pred_proba_grid_search = model_nn_cv.best_estimator_.predict_proba(X_test_log)\n",
    "y_pred_proba_nn_logreg_rfe = model_rfe_nn.best_estimator_.predict_proba(rfe.transform(X_test_log))\n",
    "y_pred_proba_nn_tree_rfe = model_tree_nn.best_estimator_.predict_proba(X_test_sel_model)\n",
    "\n",
    "roc_index_nn = roc_auc_score(y_test, y_pred_proba_nn[:, 1])\n",
    "roc_index_grid_search = roc_auc_score(y_test, y_pred_proba_grid_search[:, 1])\n",
    "roc_index_nn_logreg_rfe = roc_auc_score(y_test, y_pred_proba_nn_logreg_rfe[:, 1])\n",
    "roc_index_nn_tree_rfe = roc_auc_score(y_test, y_pred_proba_nn_tree_rfe[:, 1])\n",
    "\n",
    "print(\"AUC score on test for NN default:\", roc_index_nn)\n",
    "print(\"AUC score on test for NN CV:\", roc_index_grid_search)\n",
    "print(\"AUC score on test for NN RFECV:\", roc_index_nn_logreg_rfe)\n",
    "print(\"AUC score on test for NN TREECV:\", roc_index_nn_tree_rfe)"
   ],
   "outputs": [
    {
     "output_type": "stream",
     "name": "stdout",
     "text": [
      "AUC score on test for NN default: 0.8405527014910847\n",
      "AUC score on test for NN CV: 0.8502061345475703\n",
      "AUC score on test for NN RFECV: 0.8500225357206702\n",
      "AUC score on test for NN TREECV: 0.8412543112938817\n"
     ]
    }
   ],
   "metadata": {}
  },
  {
   "cell_type": "markdown",
   "source": [
    "When looking at the accuracy, it seems like the neural network trained on the RFE is the best model. But, when taking into account the class imbalance of the response variables, it seems that the model trained on the full dataset using grid search was the best model as it had the highest AUC value. However, this increase in AUC is only slightly higher than the model trained with the logistic regression RFE, a difference of about 0.00018 between them, while the accuracy of the RFE model was higher by about 0.004. Overall, it seems the the model trained on the logistic regression RFE was the best model, with the grid search on the full dataset is slightly worse as the second best. The model trained using RFE on the decision tree, had the second highest accuracy but it's AUC was much lower than the top 2 models. It seems to be overpredicting the majority class too much when compared to the other models. The model just trained on the default parameters seems to be the worse on the AUC by a decent margin though, and it was second worst on the accuracy so that is our worst model."
   ],
   "metadata": {}
  },
  {
   "cell_type": "markdown",
   "source": [
    "## 4.5 From the better model, can you provide a descriptive summary of customers that most likely exit and stop using the banking services?\n",
    "\n",
    "One of the major disadvantages of Predictive Modeling using Neural   Networks is that it is hard to interpret. From the feature selection by using RFE with decision tree, we could know `Age`, `NumOfProducts` and `IsActiveMember` are variables that play important role to determine customer churn."
   ],
   "metadata": {}
  },
  {
   "cell_type": "markdown",
   "source": [
    "# Task 5 - Comparing predictive models\n",
    "## 5.1 Use the comparison statistics to compare the best decision tree model, the best regression model, and the best neural network model.\n",
    "### 5.1.a Discuss the findings led by ROC chart and index, and accuracy table."
   ],
   "metadata": {}
  },
  {
   "cell_type": "code",
   "execution_count": 41,
   "source": [
    "X_train, X_test, y_train, y_test = train_test_split(X_mat, y, \n",
    "                                                    test_size=0.3, \n",
    "                                                    stratify=y, \n",
    "                                                    random_state=rs)\n",
    "\n",
    "# The best models\n",
    "best_nn = model_rfe_nn.best_estimator_\n",
    "best_lr = model_lr_rfe_cv.best_estimator_\n",
    "best_tree = model_tree_cv.best_estimator_\n",
    "\n",
    "# Getting accuracies\n",
    "y_pred_tree = best_tree.predict(X_test)\n",
    "y_pred_lr = best_lr.predict(rfe.transform(X_test_log))\n",
    "y_pred_nn = best_nn.predict(X_test_rfe)\n",
    "\n",
    "# Printing results\n",
    "print(\"Accuracy score on test for DT:\", accuracy_score(y_test, y_pred_tree))\n",
    "print(\"Accuracy score on test for logistic regression:\", accuracy_score(y_test, y_pred_lr))\n",
    "print(\"Accuracy score on test for NN:\", accuracy_score(y_test, y_pred_nn))"
   ],
   "outputs": [
    {
     "output_type": "stream",
     "name": "stdout",
     "text": [
      "Accuracy score on test for DT: 0.857095046854083\n",
      "Accuracy score on test for logistic regression: 0.8149263721552878\n",
      "Accuracy score on test for NN: 0.857429718875502\n"
     ]
    }
   ],
   "metadata": {}
  },
  {
   "cell_type": "code",
   "execution_count": 42,
   "source": [
    "y_pred_proba_dt = best_tree.predict_proba(X_test)\n",
    "y_pred_proba_log_reg = best_lr.predict_proba(rfe.transform(X_test_log))\n",
    "y_pred_proba_nn = best_nn.predict_proba(X_test_rfe)\n",
    "\n",
    "roc_index_dt = roc_auc_score(y_test, y_pred_proba_dt[:, 1])\n",
    "roc_index_log_reg = roc_auc_score(y_test, y_pred_proba_log_reg[:, 1])\n",
    "roc_index_nn = roc_auc_score(y_test, y_pred_proba_nn[:, 1])\n",
    "\n",
    "print(\"ROC index on test for DT:\", roc_index_dt)\n",
    "print(\"ROC index on test for logistic regression:\", roc_index_log_reg)\n",
    "print(\"ROC index on test for NN:\", roc_index_nn)"
   ],
   "outputs": [
    {
     "output_type": "stream",
     "name": "stdout",
     "text": [
      "ROC index on test for DT: 0.8316661041364264\n",
      "ROC index on test for logistic regression: 0.7683334817308815\n",
      "ROC index on test for NN: 0.853920904797106\n"
     ]
    }
   ],
   "metadata": {}
  },
  {
   "cell_type": "code",
   "execution_count": 43,
   "source": [
    "from sklearn.metrics import roc_curve\n",
    "\n",
    "fpr_dt, tpr_dt, thresholds_dt = roc_curve(y_test, y_pred_proba_dt[:,1])\n",
    "fpr_log_reg, tpr_log_reg, thresholds_log_reg = roc_curve(y_test, y_pred_proba_log_reg[:,1])\n",
    "fpr_nn, tpr_nn, thresholds_nn = roc_curve(y_test, y_pred_proba_nn[:,1])\n",
    "\n",
    "plt.plot(fpr_dt, tpr_dt, label='ROC Curve for DT {:.3f}'.format(roc_index_dt), \n",
    "         color='red', lw=0.5)\n",
    "plt.plot(fpr_log_reg, tpr_log_reg, \n",
    "         label='ROC Curve for Log reg {:.3f}'.format(roc_index_log_reg), \n",
    "         color='green', lw=0.5)\n",
    "plt.plot(fpr_nn, tpr_nn, label='ROC Curve for NN {:.3f}'.format(roc_index_nn), \n",
    "         color='darkorange', lw=0.5)\n",
    "\n",
    "# plt.plot(fpr[2], tpr[2], color='darkorange',\n",
    "#          lw=lw, label='ROC curve (area = %0.2f)' % roc_auc[2])\n",
    "plt.plot([0, 1], [0, 1], color='navy', lw=0.5, linestyle='--')\n",
    "plt.xlim([0.0, 1.0])\n",
    "plt.ylim([0.0, 1.0])\n",
    "plt.xlabel('False Positive Rate')\n",
    "plt.ylabel('True Positive Rate')\n",
    "plt.title('ROC Chart')\n",
    "plt.legend(loc=\"lower right\")\n",
    "plt.show()"
   ],
   "outputs": [
    {
     "output_type": "display_data",
     "data": {
      "text/plain": [
       "<Figure size 432x288 with 1 Axes>"
      ],
      "image/svg+xml": "<?xml version=\"1.0\" encoding=\"utf-8\" standalone=\"no\"?>\n<!DOCTYPE svg PUBLIC \"-//W3C//DTD SVG 1.1//EN\"\n  \"http://www.w3.org/Graphics/SVG/1.1/DTD/svg11.dtd\">\n<!-- Created with matplotlib (https://matplotlib.org/) -->\n<svg height=\"277.314375pt\" version=\"1.1\" viewBox=\"0 0 393.732813 277.314375\" width=\"393.732813pt\" xmlns=\"http://www.w3.org/2000/svg\" xmlns:xlink=\"http://www.w3.org/1999/xlink\">\n <defs>\n  <style type=\"text/css\">\n*{stroke-linecap:butt;stroke-linejoin:round;}\n  </style>\n </defs>\n <g id=\"figure_1\">\n  <g id=\"patch_1\">\n   <path d=\"M 0 277.314375 \nL 393.732813 277.314375 \nL 393.732813 0 \nL 0 0 \nz\n\" style=\"fill:none;\"/>\n  </g>\n  <g id=\"axes_1\">\n   <g id=\"patch_2\">\n    <path d=\"M 43.78125 239.758125 \nL 378.58125 239.758125 \nL 378.58125 22.318125 \nL 43.78125 22.318125 \nz\n\" style=\"fill:#ffffff;\"/>\n   </g>\n   <g id=\"matplotlib.axis_1\">\n    <g id=\"xtick_1\">\n     <g id=\"line2d_1\">\n      <defs>\n       <path d=\"M 0 0 \nL 0 3.5 \n\" id=\"mdde95e8de7\" style=\"stroke:#000000;stroke-width:0.8;\"/>\n      </defs>\n      <g>\n       <use style=\"stroke:#000000;stroke-width:0.8;\" x=\"43.78125\" xlink:href=\"#mdde95e8de7\" y=\"239.758125\"/>\n      </g>\n     </g>\n     <g id=\"text_1\">\n      <!-- 0.0 -->\n      <defs>\n       <path d=\"M 31.78125 66.40625 \nQ 24.171875 66.40625 20.328125 58.90625 \nQ 16.5 51.421875 16.5 36.375 \nQ 16.5 21.390625 20.328125 13.890625 \nQ 24.171875 6.390625 31.78125 6.390625 \nQ 39.453125 6.390625 43.28125 13.890625 \nQ 47.125 21.390625 47.125 36.375 \nQ 47.125 51.421875 43.28125 58.90625 \nQ 39.453125 66.40625 31.78125 66.40625 \nz\nM 31.78125 74.21875 \nQ 44.046875 74.21875 50.515625 64.515625 \nQ 56.984375 54.828125 56.984375 36.375 \nQ 56.984375 17.96875 50.515625 8.265625 \nQ 44.046875 -1.421875 31.78125 -1.421875 \nQ 19.53125 -1.421875 13.0625 8.265625 \nQ 6.59375 17.96875 6.59375 36.375 \nQ 6.59375 54.828125 13.0625 64.515625 \nQ 19.53125 74.21875 31.78125 74.21875 \nz\n\" id=\"DejaVuSans-48\"/>\n       <path d=\"M 10.6875 12.40625 \nL 21 12.40625 \nL 21 0 \nL 10.6875 0 \nz\n\" id=\"DejaVuSans-46\"/>\n      </defs>\n      <g transform=\"translate(35.829688 254.356562)scale(0.1 -0.1)\">\n       <use xlink:href=\"#DejaVuSans-48\"/>\n       <use x=\"63.623047\" xlink:href=\"#DejaVuSans-46\"/>\n       <use x=\"95.410156\" xlink:href=\"#DejaVuSans-48\"/>\n      </g>\n     </g>\n    </g>\n    <g id=\"xtick_2\">\n     <g id=\"line2d_2\">\n      <g>\n       <use style=\"stroke:#000000;stroke-width:0.8;\" x=\"110.74125\" xlink:href=\"#mdde95e8de7\" y=\"239.758125\"/>\n      </g>\n     </g>\n     <g id=\"text_2\">\n      <!-- 0.2 -->\n      <defs>\n       <path d=\"M 19.1875 8.296875 \nL 53.609375 8.296875 \nL 53.609375 0 \nL 7.328125 0 \nL 7.328125 8.296875 \nQ 12.9375 14.109375 22.625 23.890625 \nQ 32.328125 33.6875 34.8125 36.53125 \nQ 39.546875 41.84375 41.421875 45.53125 \nQ 43.3125 49.21875 43.3125 52.78125 \nQ 43.3125 58.59375 39.234375 62.25 \nQ 35.15625 65.921875 28.609375 65.921875 \nQ 23.96875 65.921875 18.8125 64.3125 \nQ 13.671875 62.703125 7.8125 59.421875 \nL 7.8125 69.390625 \nQ 13.765625 71.78125 18.9375 73 \nQ 24.125 74.21875 28.421875 74.21875 \nQ 39.75 74.21875 46.484375 68.546875 \nQ 53.21875 62.890625 53.21875 53.421875 \nQ 53.21875 48.921875 51.53125 44.890625 \nQ 49.859375 40.875 45.40625 35.40625 \nQ 44.1875 33.984375 37.640625 27.21875 \nQ 31.109375 20.453125 19.1875 8.296875 \nz\n\" id=\"DejaVuSans-50\"/>\n      </defs>\n      <g transform=\"translate(102.789688 254.356562)scale(0.1 -0.1)\">\n       <use xlink:href=\"#DejaVuSans-48\"/>\n       <use x=\"63.623047\" xlink:href=\"#DejaVuSans-46\"/>\n       <use x=\"95.410156\" xlink:href=\"#DejaVuSans-50\"/>\n      </g>\n     </g>\n    </g>\n    <g id=\"xtick_3\">\n     <g id=\"line2d_3\">\n      <g>\n       <use style=\"stroke:#000000;stroke-width:0.8;\" x=\"177.70125\" xlink:href=\"#mdde95e8de7\" y=\"239.758125\"/>\n      </g>\n     </g>\n     <g id=\"text_3\">\n      <!-- 0.4 -->\n      <defs>\n       <path d=\"M 37.796875 64.3125 \nL 12.890625 25.390625 \nL 37.796875 25.390625 \nz\nM 35.203125 72.90625 \nL 47.609375 72.90625 \nL 47.609375 25.390625 \nL 58.015625 25.390625 \nL 58.015625 17.1875 \nL 47.609375 17.1875 \nL 47.609375 0 \nL 37.796875 0 \nL 37.796875 17.1875 \nL 4.890625 17.1875 \nL 4.890625 26.703125 \nz\n\" id=\"DejaVuSans-52\"/>\n      </defs>\n      <g transform=\"translate(169.749688 254.356562)scale(0.1 -0.1)\">\n       <use xlink:href=\"#DejaVuSans-48\"/>\n       <use x=\"63.623047\" xlink:href=\"#DejaVuSans-46\"/>\n       <use x=\"95.410156\" xlink:href=\"#DejaVuSans-52\"/>\n      </g>\n     </g>\n    </g>\n    <g id=\"xtick_4\">\n     <g id=\"line2d_4\">\n      <g>\n       <use style=\"stroke:#000000;stroke-width:0.8;\" x=\"244.66125\" xlink:href=\"#mdde95e8de7\" y=\"239.758125\"/>\n      </g>\n     </g>\n     <g id=\"text_4\">\n      <!-- 0.6 -->\n      <defs>\n       <path d=\"M 33.015625 40.375 \nQ 26.375 40.375 22.484375 35.828125 \nQ 18.609375 31.296875 18.609375 23.390625 \nQ 18.609375 15.53125 22.484375 10.953125 \nQ 26.375 6.390625 33.015625 6.390625 \nQ 39.65625 6.390625 43.53125 10.953125 \nQ 47.40625 15.53125 47.40625 23.390625 \nQ 47.40625 31.296875 43.53125 35.828125 \nQ 39.65625 40.375 33.015625 40.375 \nz\nM 52.59375 71.296875 \nL 52.59375 62.3125 \nQ 48.875 64.0625 45.09375 64.984375 \nQ 41.3125 65.921875 37.59375 65.921875 \nQ 27.828125 65.921875 22.671875 59.328125 \nQ 17.53125 52.734375 16.796875 39.40625 \nQ 19.671875 43.65625 24.015625 45.921875 \nQ 28.375 48.1875 33.59375 48.1875 \nQ 44.578125 48.1875 50.953125 41.515625 \nQ 57.328125 34.859375 57.328125 23.390625 \nQ 57.328125 12.15625 50.6875 5.359375 \nQ 44.046875 -1.421875 33.015625 -1.421875 \nQ 20.359375 -1.421875 13.671875 8.265625 \nQ 6.984375 17.96875 6.984375 36.375 \nQ 6.984375 53.65625 15.1875 63.9375 \nQ 23.390625 74.21875 37.203125 74.21875 \nQ 40.921875 74.21875 44.703125 73.484375 \nQ 48.484375 72.75 52.59375 71.296875 \nz\n\" id=\"DejaVuSans-54\"/>\n      </defs>\n      <g transform=\"translate(236.709688 254.356562)scale(0.1 -0.1)\">\n       <use xlink:href=\"#DejaVuSans-48\"/>\n       <use x=\"63.623047\" xlink:href=\"#DejaVuSans-46\"/>\n       <use x=\"95.410156\" xlink:href=\"#DejaVuSans-54\"/>\n      </g>\n     </g>\n    </g>\n    <g id=\"xtick_5\">\n     <g id=\"line2d_5\">\n      <g>\n       <use style=\"stroke:#000000;stroke-width:0.8;\" x=\"311.62125\" xlink:href=\"#mdde95e8de7\" y=\"239.758125\"/>\n      </g>\n     </g>\n     <g id=\"text_5\">\n      <!-- 0.8 -->\n      <defs>\n       <path d=\"M 31.78125 34.625 \nQ 24.75 34.625 20.71875 30.859375 \nQ 16.703125 27.09375 16.703125 20.515625 \nQ 16.703125 13.921875 20.71875 10.15625 \nQ 24.75 6.390625 31.78125 6.390625 \nQ 38.8125 6.390625 42.859375 10.171875 \nQ 46.921875 13.96875 46.921875 20.515625 \nQ 46.921875 27.09375 42.890625 30.859375 \nQ 38.875 34.625 31.78125 34.625 \nz\nM 21.921875 38.8125 \nQ 15.578125 40.375 12.03125 44.71875 \nQ 8.5 49.078125 8.5 55.328125 \nQ 8.5 64.0625 14.71875 69.140625 \nQ 20.953125 74.21875 31.78125 74.21875 \nQ 42.671875 74.21875 48.875 69.140625 \nQ 55.078125 64.0625 55.078125 55.328125 \nQ 55.078125 49.078125 51.53125 44.71875 \nQ 48 40.375 41.703125 38.8125 \nQ 48.828125 37.15625 52.796875 32.3125 \nQ 56.78125 27.484375 56.78125 20.515625 \nQ 56.78125 9.90625 50.3125 4.234375 \nQ 43.84375 -1.421875 31.78125 -1.421875 \nQ 19.734375 -1.421875 13.25 4.234375 \nQ 6.78125 9.90625 6.78125 20.515625 \nQ 6.78125 27.484375 10.78125 32.3125 \nQ 14.796875 37.15625 21.921875 38.8125 \nz\nM 18.3125 54.390625 \nQ 18.3125 48.734375 21.84375 45.5625 \nQ 25.390625 42.390625 31.78125 42.390625 \nQ 38.140625 42.390625 41.71875 45.5625 \nQ 45.3125 48.734375 45.3125 54.390625 \nQ 45.3125 60.0625 41.71875 63.234375 \nQ 38.140625 66.40625 31.78125 66.40625 \nQ 25.390625 66.40625 21.84375 63.234375 \nQ 18.3125 60.0625 18.3125 54.390625 \nz\n\" id=\"DejaVuSans-56\"/>\n      </defs>\n      <g transform=\"translate(303.669688 254.356562)scale(0.1 -0.1)\">\n       <use xlink:href=\"#DejaVuSans-48\"/>\n       <use x=\"63.623047\" xlink:href=\"#DejaVuSans-46\"/>\n       <use x=\"95.410156\" xlink:href=\"#DejaVuSans-56\"/>\n      </g>\n     </g>\n    </g>\n    <g id=\"xtick_6\">\n     <g id=\"line2d_6\">\n      <g>\n       <use style=\"stroke:#000000;stroke-width:0.8;\" x=\"378.58125\" xlink:href=\"#mdde95e8de7\" y=\"239.758125\"/>\n      </g>\n     </g>\n     <g id=\"text_6\">\n      <!-- 1.0 -->\n      <defs>\n       <path d=\"M 12.40625 8.296875 \nL 28.515625 8.296875 \nL 28.515625 63.921875 \nL 10.984375 60.40625 \nL 10.984375 69.390625 \nL 28.421875 72.90625 \nL 38.28125 72.90625 \nL 38.28125 8.296875 \nL 54.390625 8.296875 \nL 54.390625 0 \nL 12.40625 0 \nz\n\" id=\"DejaVuSans-49\"/>\n      </defs>\n      <g transform=\"translate(370.629687 254.356562)scale(0.1 -0.1)\">\n       <use xlink:href=\"#DejaVuSans-49\"/>\n       <use x=\"63.623047\" xlink:href=\"#DejaVuSans-46\"/>\n       <use x=\"95.410156\" xlink:href=\"#DejaVuSans-48\"/>\n      </g>\n     </g>\n    </g>\n    <g id=\"text_7\">\n     <!-- False Positive Rate -->\n     <defs>\n      <path d=\"M 9.8125 72.90625 \nL 51.703125 72.90625 \nL 51.703125 64.59375 \nL 19.671875 64.59375 \nL 19.671875 43.109375 \nL 48.578125 43.109375 \nL 48.578125 34.8125 \nL 19.671875 34.8125 \nL 19.671875 0 \nL 9.8125 0 \nz\n\" id=\"DejaVuSans-70\"/>\n      <path d=\"M 34.28125 27.484375 \nQ 23.390625 27.484375 19.1875 25 \nQ 14.984375 22.515625 14.984375 16.5 \nQ 14.984375 11.71875 18.140625 8.90625 \nQ 21.296875 6.109375 26.703125 6.109375 \nQ 34.1875 6.109375 38.703125 11.40625 \nQ 43.21875 16.703125 43.21875 25.484375 \nL 43.21875 27.484375 \nz\nM 52.203125 31.203125 \nL 52.203125 0 \nL 43.21875 0 \nL 43.21875 8.296875 \nQ 40.140625 3.328125 35.546875 0.953125 \nQ 30.953125 -1.421875 24.3125 -1.421875 \nQ 15.921875 -1.421875 10.953125 3.296875 \nQ 6 8.015625 6 15.921875 \nQ 6 25.140625 12.171875 29.828125 \nQ 18.359375 34.515625 30.609375 34.515625 \nL 43.21875 34.515625 \nL 43.21875 35.40625 \nQ 43.21875 41.609375 39.140625 45 \nQ 35.0625 48.390625 27.6875 48.390625 \nQ 23 48.390625 18.546875 47.265625 \nQ 14.109375 46.140625 10.015625 43.890625 \nL 10.015625 52.203125 \nQ 14.9375 54.109375 19.578125 55.046875 \nQ 24.21875 56 28.609375 56 \nQ 40.484375 56 46.34375 49.84375 \nQ 52.203125 43.703125 52.203125 31.203125 \nz\n\" id=\"DejaVuSans-97\"/>\n      <path d=\"M 9.421875 75.984375 \nL 18.40625 75.984375 \nL 18.40625 0 \nL 9.421875 0 \nz\n\" id=\"DejaVuSans-108\"/>\n      <path d=\"M 44.28125 53.078125 \nL 44.28125 44.578125 \nQ 40.484375 46.53125 36.375 47.5 \nQ 32.28125 48.484375 27.875 48.484375 \nQ 21.1875 48.484375 17.84375 46.4375 \nQ 14.5 44.390625 14.5 40.28125 \nQ 14.5 37.15625 16.890625 35.375 \nQ 19.28125 33.59375 26.515625 31.984375 \nL 29.59375 31.296875 \nQ 39.15625 29.25 43.1875 25.515625 \nQ 47.21875 21.78125 47.21875 15.09375 \nQ 47.21875 7.46875 41.1875 3.015625 \nQ 35.15625 -1.421875 24.609375 -1.421875 \nQ 20.21875 -1.421875 15.453125 -0.5625 \nQ 10.6875 0.296875 5.421875 2 \nL 5.421875 11.28125 \nQ 10.40625 8.6875 15.234375 7.390625 \nQ 20.0625 6.109375 24.8125 6.109375 \nQ 31.15625 6.109375 34.5625 8.28125 \nQ 37.984375 10.453125 37.984375 14.40625 \nQ 37.984375 18.0625 35.515625 20.015625 \nQ 33.0625 21.96875 24.703125 23.78125 \nL 21.578125 24.515625 \nQ 13.234375 26.265625 9.515625 29.90625 \nQ 5.8125 33.546875 5.8125 39.890625 \nQ 5.8125 47.609375 11.28125 51.796875 \nQ 16.75 56 26.8125 56 \nQ 31.78125 56 36.171875 55.265625 \nQ 40.578125 54.546875 44.28125 53.078125 \nz\n\" id=\"DejaVuSans-115\"/>\n      <path d=\"M 56.203125 29.59375 \nL 56.203125 25.203125 \nL 14.890625 25.203125 \nQ 15.484375 15.921875 20.484375 11.0625 \nQ 25.484375 6.203125 34.421875 6.203125 \nQ 39.59375 6.203125 44.453125 7.46875 \nQ 49.3125 8.734375 54.109375 11.28125 \nL 54.109375 2.78125 \nQ 49.265625 0.734375 44.1875 -0.34375 \nQ 39.109375 -1.421875 33.890625 -1.421875 \nQ 20.796875 -1.421875 13.15625 6.1875 \nQ 5.515625 13.8125 5.515625 26.8125 \nQ 5.515625 40.234375 12.765625 48.109375 \nQ 20.015625 56 32.328125 56 \nQ 43.359375 56 49.78125 48.890625 \nQ 56.203125 41.796875 56.203125 29.59375 \nz\nM 47.21875 32.234375 \nQ 47.125 39.59375 43.09375 43.984375 \nQ 39.0625 48.390625 32.421875 48.390625 \nQ 24.90625 48.390625 20.390625 44.140625 \nQ 15.875 39.890625 15.1875 32.171875 \nz\n\" id=\"DejaVuSans-101\"/>\n      <path id=\"DejaVuSans-32\"/>\n      <path d=\"M 19.671875 64.796875 \nL 19.671875 37.40625 \nL 32.078125 37.40625 \nQ 38.96875 37.40625 42.71875 40.96875 \nQ 46.484375 44.53125 46.484375 51.125 \nQ 46.484375 57.671875 42.71875 61.234375 \nQ 38.96875 64.796875 32.078125 64.796875 \nz\nM 9.8125 72.90625 \nL 32.078125 72.90625 \nQ 44.34375 72.90625 50.609375 67.359375 \nQ 56.890625 61.8125 56.890625 51.125 \nQ 56.890625 40.328125 50.609375 34.8125 \nQ 44.34375 29.296875 32.078125 29.296875 \nL 19.671875 29.296875 \nL 19.671875 0 \nL 9.8125 0 \nz\n\" id=\"DejaVuSans-80\"/>\n      <path d=\"M 30.609375 48.390625 \nQ 23.390625 48.390625 19.1875 42.75 \nQ 14.984375 37.109375 14.984375 27.296875 \nQ 14.984375 17.484375 19.15625 11.84375 \nQ 23.34375 6.203125 30.609375 6.203125 \nQ 37.796875 6.203125 41.984375 11.859375 \nQ 46.1875 17.53125 46.1875 27.296875 \nQ 46.1875 37.015625 41.984375 42.703125 \nQ 37.796875 48.390625 30.609375 48.390625 \nz\nM 30.609375 56 \nQ 42.328125 56 49.015625 48.375 \nQ 55.71875 40.765625 55.71875 27.296875 \nQ 55.71875 13.875 49.015625 6.21875 \nQ 42.328125 -1.421875 30.609375 -1.421875 \nQ 18.84375 -1.421875 12.171875 6.21875 \nQ 5.515625 13.875 5.515625 27.296875 \nQ 5.515625 40.765625 12.171875 48.375 \nQ 18.84375 56 30.609375 56 \nz\n\" id=\"DejaVuSans-111\"/>\n      <path d=\"M 9.421875 54.6875 \nL 18.40625 54.6875 \nL 18.40625 0 \nL 9.421875 0 \nz\nM 9.421875 75.984375 \nL 18.40625 75.984375 \nL 18.40625 64.59375 \nL 9.421875 64.59375 \nz\n\" id=\"DejaVuSans-105\"/>\n      <path d=\"M 18.3125 70.21875 \nL 18.3125 54.6875 \nL 36.8125 54.6875 \nL 36.8125 47.703125 \nL 18.3125 47.703125 \nL 18.3125 18.015625 \nQ 18.3125 11.328125 20.140625 9.421875 \nQ 21.96875 7.515625 27.59375 7.515625 \nL 36.8125 7.515625 \nL 36.8125 0 \nL 27.59375 0 \nQ 17.1875 0 13.234375 3.875 \nQ 9.28125 7.765625 9.28125 18.015625 \nL 9.28125 47.703125 \nL 2.6875 47.703125 \nL 2.6875 54.6875 \nL 9.28125 54.6875 \nL 9.28125 70.21875 \nz\n\" id=\"DejaVuSans-116\"/>\n      <path d=\"M 2.984375 54.6875 \nL 12.5 54.6875 \nL 29.59375 8.796875 \nL 46.6875 54.6875 \nL 56.203125 54.6875 \nL 35.6875 0 \nL 23.484375 0 \nz\n\" id=\"DejaVuSans-118\"/>\n      <path d=\"M 44.390625 34.1875 \nQ 47.5625 33.109375 50.5625 29.59375 \nQ 53.5625 26.078125 56.59375 19.921875 \nL 66.609375 0 \nL 56 0 \nL 46.6875 18.703125 \nQ 43.0625 26.03125 39.671875 28.421875 \nQ 36.28125 30.8125 30.421875 30.8125 \nL 19.671875 30.8125 \nL 19.671875 0 \nL 9.8125 0 \nL 9.8125 72.90625 \nL 32.078125 72.90625 \nQ 44.578125 72.90625 50.734375 67.671875 \nQ 56.890625 62.453125 56.890625 51.90625 \nQ 56.890625 45.015625 53.6875 40.46875 \nQ 50.484375 35.9375 44.390625 34.1875 \nz\nM 19.671875 64.796875 \nL 19.671875 38.921875 \nL 32.078125 38.921875 \nQ 39.203125 38.921875 42.84375 42.21875 \nQ 46.484375 45.515625 46.484375 51.90625 \nQ 46.484375 58.296875 42.84375 61.546875 \nQ 39.203125 64.796875 32.078125 64.796875 \nz\n\" id=\"DejaVuSans-82\"/>\n     </defs>\n     <g transform=\"translate(163.975781 268.034687)scale(0.1 -0.1)\">\n      <use xlink:href=\"#DejaVuSans-70\"/>\n      <use x=\"57.378906\" xlink:href=\"#DejaVuSans-97\"/>\n      <use x=\"118.658203\" xlink:href=\"#DejaVuSans-108\"/>\n      <use x=\"146.441406\" xlink:href=\"#DejaVuSans-115\"/>\n      <use x=\"198.541016\" xlink:href=\"#DejaVuSans-101\"/>\n      <use x=\"260.064453\" xlink:href=\"#DejaVuSans-32\"/>\n      <use x=\"291.851562\" xlink:href=\"#DejaVuSans-80\"/>\n      <use x=\"352.107422\" xlink:href=\"#DejaVuSans-111\"/>\n      <use x=\"413.289062\" xlink:href=\"#DejaVuSans-115\"/>\n      <use x=\"465.388672\" xlink:href=\"#DejaVuSans-105\"/>\n      <use x=\"493.171875\" xlink:href=\"#DejaVuSans-116\"/>\n      <use x=\"532.380859\" xlink:href=\"#DejaVuSans-105\"/>\n      <use x=\"560.164062\" xlink:href=\"#DejaVuSans-118\"/>\n      <use x=\"619.34375\" xlink:href=\"#DejaVuSans-101\"/>\n      <use x=\"680.867188\" xlink:href=\"#DejaVuSans-32\"/>\n      <use x=\"712.654297\" xlink:href=\"#DejaVuSans-82\"/>\n      <use x=\"782.105469\" xlink:href=\"#DejaVuSans-97\"/>\n      <use x=\"843.384766\" xlink:href=\"#DejaVuSans-116\"/>\n      <use x=\"882.59375\" xlink:href=\"#DejaVuSans-101\"/>\n     </g>\n    </g>\n   </g>\n   <g id=\"matplotlib.axis_2\">\n    <g id=\"ytick_1\">\n     <g id=\"line2d_7\">\n      <defs>\n       <path d=\"M 0 0 \nL -3.5 0 \n\" id=\"m62fd041d5f\" style=\"stroke:#000000;stroke-width:0.8;\"/>\n      </defs>\n      <g>\n       <use style=\"stroke:#000000;stroke-width:0.8;\" x=\"43.78125\" xlink:href=\"#m62fd041d5f\" y=\"239.758125\"/>\n      </g>\n     </g>\n     <g id=\"text_8\">\n      <!-- 0.0 -->\n      <g transform=\"translate(20.878125 243.557344)scale(0.1 -0.1)\">\n       <use xlink:href=\"#DejaVuSans-48\"/>\n       <use x=\"63.623047\" xlink:href=\"#DejaVuSans-46\"/>\n       <use x=\"95.410156\" xlink:href=\"#DejaVuSans-48\"/>\n      </g>\n     </g>\n    </g>\n    <g id=\"ytick_2\">\n     <g id=\"line2d_8\">\n      <g>\n       <use style=\"stroke:#000000;stroke-width:0.8;\" x=\"43.78125\" xlink:href=\"#m62fd041d5f\" y=\"196.270125\"/>\n      </g>\n     </g>\n     <g id=\"text_9\">\n      <!-- 0.2 -->\n      <g transform=\"translate(20.878125 200.069344)scale(0.1 -0.1)\">\n       <use xlink:href=\"#DejaVuSans-48\"/>\n       <use x=\"63.623047\" xlink:href=\"#DejaVuSans-46\"/>\n       <use x=\"95.410156\" xlink:href=\"#DejaVuSans-50\"/>\n      </g>\n     </g>\n    </g>\n    <g id=\"ytick_3\">\n     <g id=\"line2d_9\">\n      <g>\n       <use style=\"stroke:#000000;stroke-width:0.8;\" x=\"43.78125\" xlink:href=\"#m62fd041d5f\" y=\"152.782125\"/>\n      </g>\n     </g>\n     <g id=\"text_10\">\n      <!-- 0.4 -->\n      <g transform=\"translate(20.878125 156.581344)scale(0.1 -0.1)\">\n       <use xlink:href=\"#DejaVuSans-48\"/>\n       <use x=\"63.623047\" xlink:href=\"#DejaVuSans-46\"/>\n       <use x=\"95.410156\" xlink:href=\"#DejaVuSans-52\"/>\n      </g>\n     </g>\n    </g>\n    <g id=\"ytick_4\">\n     <g id=\"line2d_10\">\n      <g>\n       <use style=\"stroke:#000000;stroke-width:0.8;\" x=\"43.78125\" xlink:href=\"#m62fd041d5f\" y=\"109.294125\"/>\n      </g>\n     </g>\n     <g id=\"text_11\">\n      <!-- 0.6 -->\n      <g transform=\"translate(20.878125 113.093344)scale(0.1 -0.1)\">\n       <use xlink:href=\"#DejaVuSans-48\"/>\n       <use x=\"63.623047\" xlink:href=\"#DejaVuSans-46\"/>\n       <use x=\"95.410156\" xlink:href=\"#DejaVuSans-54\"/>\n      </g>\n     </g>\n    </g>\n    <g id=\"ytick_5\">\n     <g id=\"line2d_11\">\n      <g>\n       <use style=\"stroke:#000000;stroke-width:0.8;\" x=\"43.78125\" xlink:href=\"#m62fd041d5f\" y=\"65.806125\"/>\n      </g>\n     </g>\n     <g id=\"text_12\">\n      <!-- 0.8 -->\n      <g transform=\"translate(20.878125 69.605344)scale(0.1 -0.1)\">\n       <use xlink:href=\"#DejaVuSans-48\"/>\n       <use x=\"63.623047\" xlink:href=\"#DejaVuSans-46\"/>\n       <use x=\"95.410156\" xlink:href=\"#DejaVuSans-56\"/>\n      </g>\n     </g>\n    </g>\n    <g id=\"ytick_6\">\n     <g id=\"line2d_12\">\n      <g>\n       <use style=\"stroke:#000000;stroke-width:0.8;\" x=\"43.78125\" xlink:href=\"#m62fd041d5f\" y=\"22.318125\"/>\n      </g>\n     </g>\n     <g id=\"text_13\">\n      <!-- 1.0 -->\n      <g transform=\"translate(20.878125 26.117344)scale(0.1 -0.1)\">\n       <use xlink:href=\"#DejaVuSans-49\"/>\n       <use x=\"63.623047\" xlink:href=\"#DejaVuSans-46\"/>\n       <use x=\"95.410156\" xlink:href=\"#DejaVuSans-48\"/>\n      </g>\n     </g>\n    </g>\n    <g id=\"text_14\">\n     <!-- True Positive Rate -->\n     <defs>\n      <path d=\"M -0.296875 72.90625 \nL 61.375 72.90625 \nL 61.375 64.59375 \nL 35.5 64.59375 \nL 35.5 0 \nL 25.59375 0 \nL 25.59375 64.59375 \nL -0.296875 64.59375 \nz\n\" id=\"DejaVuSans-84\"/>\n      <path d=\"M 41.109375 46.296875 \nQ 39.59375 47.171875 37.8125 47.578125 \nQ 36.03125 48 33.890625 48 \nQ 26.265625 48 22.1875 43.046875 \nQ 18.109375 38.09375 18.109375 28.8125 \nL 18.109375 0 \nL 9.078125 0 \nL 9.078125 54.6875 \nL 18.109375 54.6875 \nL 18.109375 46.1875 \nQ 20.953125 51.171875 25.484375 53.578125 \nQ 30.03125 56 36.53125 56 \nQ 37.453125 56 38.578125 55.875 \nQ 39.703125 55.765625 41.0625 55.515625 \nz\n\" id=\"DejaVuSans-114\"/>\n      <path d=\"M 8.5 21.578125 \nL 8.5 54.6875 \nL 17.484375 54.6875 \nL 17.484375 21.921875 \nQ 17.484375 14.15625 20.5 10.265625 \nQ 23.53125 6.390625 29.59375 6.390625 \nQ 36.859375 6.390625 41.078125 11.03125 \nQ 45.3125 15.671875 45.3125 23.6875 \nL 45.3125 54.6875 \nL 54.296875 54.6875 \nL 54.296875 0 \nL 45.3125 0 \nL 45.3125 8.40625 \nQ 42.046875 3.421875 37.71875 1 \nQ 33.40625 -1.421875 27.6875 -1.421875 \nQ 18.265625 -1.421875 13.375 4.4375 \nQ 8.5 10.296875 8.5 21.578125 \nz\nM 31.109375 56 \nz\n\" id=\"DejaVuSans-117\"/>\n     </defs>\n     <g transform=\"translate(14.798438 176.584219)rotate(-90)scale(0.1 -0.1)\">\n      <use xlink:href=\"#DejaVuSans-84\"/>\n      <use x=\"60.865234\" xlink:href=\"#DejaVuSans-114\"/>\n      <use x=\"101.978516\" xlink:href=\"#DejaVuSans-117\"/>\n      <use x=\"165.357422\" xlink:href=\"#DejaVuSans-101\"/>\n      <use x=\"226.880859\" xlink:href=\"#DejaVuSans-32\"/>\n      <use x=\"258.667969\" xlink:href=\"#DejaVuSans-80\"/>\n      <use x=\"318.923828\" xlink:href=\"#DejaVuSans-111\"/>\n      <use x=\"380.105469\" xlink:href=\"#DejaVuSans-115\"/>\n      <use x=\"432.205078\" xlink:href=\"#DejaVuSans-105\"/>\n      <use x=\"459.988281\" xlink:href=\"#DejaVuSans-116\"/>\n      <use x=\"499.197266\" xlink:href=\"#DejaVuSans-105\"/>\n      <use x=\"526.980469\" xlink:href=\"#DejaVuSans-118\"/>\n      <use x=\"586.160156\" xlink:href=\"#DejaVuSans-101\"/>\n      <use x=\"647.683594\" xlink:href=\"#DejaVuSans-32\"/>\n      <use x=\"679.470703\" xlink:href=\"#DejaVuSans-82\"/>\n      <use x=\"748.921875\" xlink:href=\"#DejaVuSans-97\"/>\n      <use x=\"810.201172\" xlink:href=\"#DejaVuSans-116\"/>\n      <use x=\"849.410156\" xlink:href=\"#DejaVuSans-101\"/>\n     </g>\n    </g>\n   </g>\n   <g id=\"line2d_13\">\n    <path clip-path=\"url(#p82093c5bee)\" d=\"M 43.78125 239.758125 \nL 44.062713 224.405219 \nL 44.625638 219.406598 \nL 44.76637 217.978421 \nL 46.032952 191.200095 \nL 46.173684 189.771918 \nL 46.877341 181.202854 \nL 46.877341 178.346499 \nL 47.158804 176.204233 \nL 52.084403 156.209751 \nL 52.365865 152.996352 \nL 62.92072 133.715958 \nL 74.319964 114.078519 \nL 75.586546 111.579209 \nL 77.134592 110.86512 \nL 84.03043 105.152411 \nL 91.629926 100.510834 \nL 103.873558 95.869258 \nL 116.398652 84.800884 \nL 165.936105 57.30847 \nL 171.706092 55.523248 \nL 226.872801 42.312608 \nL 265.292473 33.386499 \nL 276.973179 30.887189 \nL 378.58125 22.318125 \n\" style=\"fill:none;stroke:#ff0000;stroke-linecap:square;stroke-width:0.5;\"/>\n   </g>\n   <g id=\"line2d_14\">\n    <path clip-path=\"url(#p82093c5bee)\" d=\"M 43.78125 239.758125 \nL 43.78125 237.258815 \nL 43.921981 237.258815 \nL 43.921981 233.331327 \nL 44.062713 233.331327 \nL 44.062713 232.617238 \nL 44.203444 232.617238 \nL 44.203444 232.260194 \nL 44.344176 232.260194 \nL 44.344176 230.832017 \nL 44.484907 230.832017 \nL 44.484907 229.046795 \nL 44.76637 229.046795 \nL 44.76637 224.048174 \nL 44.907101 224.048174 \nL 44.907101 222.262953 \nL 45.047833 222.262953 \nL 45.047833 221.905908 \nL 45.470027 221.905908 \nL 45.470027 220.477731 \nL 45.610758 220.477731 \nL 45.610758 219.049554 \nL 45.892221 219.049554 \nL 45.892221 217.978421 \nL 46.173684 217.978421 \nL 46.173684 216.550243 \nL 46.595878 216.550243 \nL 46.595878 216.193199 \nL 46.877341 216.193199 \nL 46.877341 215.47911 \nL 47.018072 215.47911 \nL 47.018072 214.765022 \nL 47.158804 214.765022 \nL 47.158804 214.050933 \nL 47.299535 214.050933 \nL 47.299535 213.336844 \nL 47.580998 213.336844 \nL 47.580998 212.9798 \nL 48.003192 212.9798 \nL 48.003192 211.908667 \nL 48.284655 211.908667 \nL 48.284655 211.551623 \nL 48.566118 211.551623 \nL 48.566118 210.837534 \nL 48.84758 210.837534 \nL 48.84758 207.624135 \nL 49.269775 207.624135 \nL 49.269775 207.267091 \nL 49.551237 207.267091 \nL 49.551237 206.910046 \nL 49.8327 206.910046 \nL 49.8327 205.481869 \nL 50.114163 205.481869 \nL 50.114163 205.124825 \nL 50.395626 205.124825 \nL 50.395626 204.76778 \nL 50.536357 204.76778 \nL 50.536357 204.053692 \nL 50.81782 204.053692 \nL 50.81782 202.982558 \nL 50.958551 202.982558 \nL 50.958551 202.26847 \nL 51.099283 202.26847 \nL 51.099283 201.554381 \nL 51.240014 201.554381 \nL 51.240014 201.197337 \nL 51.943671 201.197337 \nL 51.943671 200.840292 \nL 52.084403 200.840292 \nL 52.084403 200.483248 \nL 52.365865 200.483248 \nL 52.365865 199.055071 \nL 52.647328 199.055071 \nL 52.647328 198.698026 \nL 52.928791 198.698026 \nL 52.928791 198.340982 \nL 53.210254 198.340982 \nL 53.210254 196.55576 \nL 53.491717 196.55576 \nL 53.491717 196.198716 \nL 53.632448 196.198716 \nL 53.632448 195.841672 \nL 53.913911 195.841672 \nL 53.913911 194.05645 \nL 54.054642 194.05645 \nL 54.054642 193.699406 \nL 54.195374 193.699406 \nL 54.195374 193.342361 \nL 54.336105 193.342361 \nL 54.336105 192.628273 \nL 54.476836 192.628273 \nL 54.476836 191.914184 \nL 54.758299 191.914184 \nL 54.758299 191.200095 \nL 54.899031 191.200095 \nL 54.899031 190.843051 \nL 55.321225 190.843051 \nL 55.321225 189.771918 \nL 55.461956 189.771918 \nL 55.461956 189.414874 \nL 55.743419 189.414874 \nL 55.743419 188.343741 \nL 56.024882 188.343741 \nL 56.024882 187.986696 \nL 56.165613 187.986696 \nL 56.165613 187.629652 \nL 56.587807 187.629652 \nL 56.587807 186.558519 \nL 56.86927 186.558519 \nL 56.86927 185.130342 \nL 57.432196 185.130342 \nL 57.432196 184.416253 \nL 58.135853 184.416253 \nL 58.135853 184.059209 \nL 58.276584 184.059209 \nL 58.276584 183.34512 \nL 58.558047 183.34512 \nL 58.558047 182.988076 \nL 58.83951 182.988076 \nL 58.83951 180.84581 \nL 59.120973 180.84581 \nL 59.120973 180.131721 \nL 59.402435 180.131721 \nL 59.402435 179.774677 \nL 59.683898 179.774677 \nL 59.683898 179.417632 \nL 60.106092 179.417632 \nL 60.106092 179.060588 \nL 60.387555 179.060588 \nL 60.387555 178.703544 \nL 60.950481 178.703544 \nL 60.950481 177.989455 \nL 61.372675 177.989455 \nL 61.372675 177.632411 \nL 62.076332 177.632411 \nL 62.076332 176.204233 \nL 62.217063 176.204233 \nL 62.217063 175.847189 \nL 62.498526 175.847189 \nL 62.498526 175.490145 \nL 62.779989 175.490145 \nL 62.779989 174.419012 \nL 63.202183 174.419012 \nL 63.202183 174.061967 \nL 63.342915 174.061967 \nL 63.342915 173.347879 \nL 63.765109 173.347879 \nL 63.765109 172.63379 \nL 64.046572 172.63379 \nL 64.046572 172.276746 \nL 64.187303 172.276746 \nL 64.187303 171.919701 \nL 64.468766 171.919701 \nL 64.468766 171.562657 \nL 64.750229 171.562657 \nL 64.750229 170.848568 \nL 65.172423 170.848568 \nL 65.172423 170.13448 \nL 65.453886 170.13448 \nL 65.453886 169.420391 \nL 65.594617 169.420391 \nL 65.594617 169.063347 \nL 66.157543 169.063347 \nL 66.157543 168.349258 \nL 66.298274 168.349258 \nL 66.298274 167.992214 \nL 66.439005 167.992214 \nL 66.439005 167.635169 \nL 66.579737 167.635169 \nL 66.579737 167.278125 \nL 66.720468 167.278125 \nL 66.720468 166.564036 \nL 66.8612 166.564036 \nL 66.8612 165.849948 \nL 67.283394 165.849948 \nL 67.283394 165.492903 \nL 68.268514 165.492903 \nL 68.268514 164.778815 \nL 68.831439 164.778815 \nL 68.831439 163.350637 \nL 69.112902 163.350637 \nL 69.112902 162.279504 \nL 69.253633 162.279504 \nL 69.253633 161.565416 \nL 69.95729 161.565416 \nL 69.95729 161.208371 \nL 70.098022 161.208371 \nL 70.098022 160.494283 \nL 70.238753 160.494283 \nL 70.238753 160.137238 \nL 70.379485 160.137238 \nL 70.379485 159.42315 \nL 70.94241 159.42315 \nL 70.94241 158.352017 \nL 71.223873 158.352017 \nL 71.223873 157.280884 \nL 71.505336 157.280884 \nL 71.505336 156.923839 \nL 71.646067 156.923839 \nL 71.646067 156.566795 \nL 71.786799 156.566795 \nL 71.786799 155.852706 \nL 71.92753 155.852706 \nL 71.92753 155.495662 \nL 72.91265 155.495662 \nL 72.91265 154.781573 \nL 73.334844 154.781573 \nL 73.334844 154.424529 \nL 73.616307 154.424529 \nL 73.616307 154.067485 \nL 73.757038 154.067485 \nL 73.757038 153.71044 \nL 74.460695 153.71044 \nL 74.460695 152.996352 \nL 75.023621 152.996352 \nL 75.023621 152.639307 \nL 75.164352 152.639307 \nL 75.164352 151.925219 \nL 75.305084 151.925219 \nL 75.305084 151.568174 \nL 75.445815 151.568174 \nL 75.445815 151.21113 \nL 75.868009 151.21113 \nL 75.868009 150.854086 \nL 76.290203 150.854086 \nL 76.290203 150.497041 \nL 76.853129 150.497041 \nL 76.853129 149.425908 \nL 77.134592 149.425908 \nL 77.134592 148.71182 \nL 77.556786 148.71182 \nL 77.556786 148.354775 \nL 78.119712 148.354775 \nL 78.119712 147.997731 \nL 78.823369 147.997731 \nL 78.823369 147.283642 \nL 79.386294 147.283642 \nL 79.386294 146.926598 \nL 80.230683 146.926598 \nL 80.230683 146.569554 \nL 80.512145 146.569554 \nL 80.512145 145.855465 \nL 81.215802 145.855465 \nL 81.215802 145.498421 \nL 81.497265 145.498421 \nL 81.497265 145.141376 \nL 82.341654 145.141376 \nL 82.341654 144.070243 \nL 82.623116 144.070243 \nL 82.623116 143.713199 \nL 82.763848 143.713199 \nL 82.763848 142.99911 \nL 83.467505 142.99911 \nL 83.467505 142.285022 \nL 83.608236 142.285022 \nL 83.608236 141.927977 \nL 84.311893 141.927977 \nL 84.311893 141.213889 \nL 85.156282 141.213889 \nL 85.156282 140.856844 \nL 86.282133 140.856844 \nL 86.282133 139.428667 \nL 87.548715 139.428667 \nL 87.548715 139.071623 \nL 87.689447 139.071623 \nL 87.689447 138.714578 \nL 88.111641 138.714578 \nL 88.111641 138.357534 \nL 89.096761 138.357534 \nL 89.096761 138.00049 \nL 89.378224 138.00049 \nL 89.378224 137.643445 \nL 89.518955 137.643445 \nL 89.518955 136.929357 \nL 90.222612 136.929357 \nL 90.222612 135.858224 \nL 90.504075 135.858224 \nL 90.504075 135.144135 \nL 90.926269 135.144135 \nL 90.926269 134.787091 \nL 91.489195 134.787091 \nL 91.489195 134.430046 \nL 92.05212 134.430046 \nL 92.05212 133.715958 \nL 93.740897 133.715958 \nL 93.740897 133.358913 \nL 94.163091 133.358913 \nL 94.163091 133.001869 \nL 94.444554 133.001869 \nL 94.444554 132.644825 \nL 94.585285 132.644825 \nL 94.585285 132.28778 \nL 95.00748 132.28778 \nL 95.00748 131.930736 \nL 95.570405 131.930736 \nL 95.570405 131.216647 \nL 96.133331 131.216647 \nL 96.133331 130.859603 \nL 96.414794 130.859603 \nL 96.414794 130.145514 \nL 96.696256 130.145514 \nL 96.696256 129.78847 \nL 96.977719 129.78847 \nL 96.977719 129.431425 \nL 97.118451 129.431425 \nL 97.118451 128.360292 \nL 97.822108 128.360292 \nL 97.822108 128.003248 \nL 97.962839 128.003248 \nL 97.962839 127.289159 \nL 98.244302 127.289159 \nL 98.244302 126.932115 \nL 99.370153 126.932115 \nL 99.370153 126.218026 \nL 99.651616 126.218026 \nL 99.651616 125.860982 \nL 99.933078 125.860982 \nL 99.933078 125.503938 \nL 100.636735 125.503938 \nL 100.636735 125.146893 \nL 100.918198 125.146893 \nL 100.918198 124.789849 \nL 101.903318 124.789849 \nL 101.903318 124.432805 \nL 102.044049 124.432805 \nL 102.044049 124.07576 \nL 102.325512 124.07576 \nL 102.325512 123.361672 \nL 102.466244 123.361672 \nL 102.466244 123.004627 \nL 102.747706 123.004627 \nL 102.747706 122.647583 \nL 103.029169 122.647583 \nL 103.029169 121.933494 \nL 103.873558 121.933494 \nL 103.873558 121.57645 \nL 104.014289 121.57645 \nL 104.014289 120.862361 \nL 104.15502 120.862361 \nL 104.15502 119.791228 \nL 104.858677 119.791228 \nL 104.858677 119.434184 \nL 105.14014 119.434184 \nL 105.14014 118.720095 \nL 105.843797 118.720095 \nL 105.843797 118.363051 \nL 106.406723 118.363051 \nL 106.406723 117.648962 \nL 107.391843 117.648962 \nL 107.391843 117.291918 \nL 107.532574 117.291918 \nL 107.532574 116.934874 \nL 107.814037 116.934874 \nL 107.814037 115.506696 \nL 108.376962 115.506696 \nL 108.376962 114.792608 \nL 109.502814 114.792608 \nL 109.502814 114.435563 \nL 111.050859 114.435563 \nL 111.050859 113.36443 \nL 112.598904 113.36443 \nL 112.598904 113.007386 \nL 113.724756 113.007386 \nL 113.724756 112.650342 \nL 114.006218 112.650342 \nL 114.006218 112.293297 \nL 115.554264 112.293297 \nL 115.554264 111.936253 \nL 115.694995 111.936253 \nL 115.694995 111.579209 \nL 116.961578 111.579209 \nL 116.961578 111.222164 \nL 117.102309 111.222164 \nL 117.102309 110.86512 \nL 117.946698 110.86512 \nL 117.946698 109.436943 \nL 118.087429 109.436943 \nL 118.087429 109.079898 \nL 118.368892 109.079898 \nL 118.368892 108.722854 \nL 119.494743 108.722854 \nL 119.494743 108.36581 \nL 119.916937 108.36581 \nL 119.916937 108.008765 \nL 121.042788 108.008765 \nL 121.042788 107.294677 \nL 121.18352 107.294677 \nL 121.18352 106.937632 \nL 121.464983 106.937632 \nL 121.464983 106.223544 \nL 121.605714 106.223544 \nL 121.605714 105.866499 \nL 121.746445 105.866499 \nL 121.746445 105.152411 \nL 122.590834 105.152411 \nL 122.590834 104.795366 \nL 122.731565 104.795366 \nL 122.731565 104.438322 \nL 123.153759 104.438322 \nL 123.153759 104.081278 \nL 123.857416 104.081278 \nL 123.857416 103.724233 \nL 124.420342 103.724233 \nL 124.420342 103.367189 \nL 124.561073 103.367189 \nL 124.561073 102.6531 \nL 125.26473 102.6531 \nL 125.26473 101.939012 \nL 125.405462 101.939012 \nL 125.405462 101.224923 \nL 125.686925 101.224923 \nL 125.686925 100.867879 \nL 126.531313 100.867879 \nL 126.531313 100.510834 \nL 127.375701 100.510834 \nL 127.375701 99.796746 \nL 127.938627 99.796746 \nL 127.938627 99.439701 \nL 130.753255 99.439701 \nL 130.753255 99.082657 \nL 131.034718 99.082657 \nL 131.034718 98.725613 \nL 131.316181 98.725613 \nL 131.316181 98.368568 \nL 133.708614 98.368568 \nL 133.708614 97.297435 \nL 134.412271 97.297435 \nL 134.412271 96.940391 \nL 134.693734 96.940391 \nL 134.693734 96.226302 \nL 134.975197 96.226302 \nL 134.975197 95.512214 \nL 136.663974 95.512214 \nL 136.663974 95.155169 \nL 136.804705 95.155169 \nL 136.804705 94.798125 \nL 138.212019 94.798125 \nL 138.212019 94.084036 \nL 141.026647 94.084036 \nL 141.026647 93.369948 \nL 141.30811 93.369948 \nL 141.30811 93.012903 \nL 141.448841 93.012903 \nL 141.448841 92.298815 \nL 142.152498 92.298815 \nL 142.152498 91.94177 \nL 142.433961 91.94177 \nL 142.433961 91.584726 \nL 143.137618 91.584726 \nL 143.137618 90.870637 \nL 143.27835 90.870637 \nL 143.27835 90.513593 \nL 143.559812 90.513593 \nL 143.559812 90.156549 \nL 144.122738 90.156549 \nL 144.122738 89.085416 \nL 144.263469 89.085416 \nL 144.263469 88.728371 \nL 144.685664 88.728371 \nL 144.685664 88.371327 \nL 145.389321 88.371327 \nL 145.389321 87.657238 \nL 146.092978 87.657238 \nL 146.092978 86.586105 \nL 146.515172 86.586105 \nL 146.515172 85.157928 \nL 147.35956 85.157928 \nL 147.35956 84.800884 \nL 148.063217 84.800884 \nL 148.063217 84.443839 \nL 148.626143 84.443839 \nL 148.626143 84.086795 \nL 150.174188 84.086795 \nL 150.174188 83.729751 \nL 150.31492 83.729751 \nL 150.31492 83.372706 \nL 152.144428 83.372706 \nL 152.144428 83.015662 \nL 152.988816 83.015662 \nL 152.988816 81.944529 \nL 153.833205 81.944529 \nL 153.833205 81.587485 \nL 154.114667 81.587485 \nL 154.114667 81.23044 \nL 154.255399 81.23044 \nL 154.255399 80.873396 \nL 154.818324 80.873396 \nL 154.818324 80.516352 \nL 155.38125 80.516352 \nL 155.38125 80.159307 \nL 156.36637 80.159307 \nL 156.36637 79.802263 \nL 159.462461 79.802263 \nL 159.462461 79.445219 \nL 159.884655 79.445219 \nL 159.884655 79.088174 \nL 161.291969 79.088174 \nL 161.291969 78.73113 \nL 162.41782 78.73113 \nL 162.41782 78.374086 \nL 163.40294 78.374086 \nL 163.40294 78.017041 \nL 164.247328 78.017041 \nL 164.247328 77.659997 \nL 165.232448 77.659997 \nL 165.232448 76.23182 \nL 165.654642 76.23182 \nL 165.654642 75.874775 \nL 166.358299 75.874775 \nL 166.358299 75.160687 \nL 166.639762 75.160687 \nL 166.639762 74.803642 \nL 166.780493 74.803642 \nL 166.780493 74.446598 \nL 166.921225 74.446598 \nL 166.921225 74.089554 \nL 168.187807 74.089554 \nL 168.187807 73.732509 \nL 168.750733 73.732509 \nL 168.750733 73.375465 \nL 169.032196 73.375465 \nL 169.032196 72.661376 \nL 169.45439 72.661376 \nL 169.45439 72.304332 \nL 170.158047 72.304332 \nL 170.158047 71.947288 \nL 170.720973 71.947288 \nL 170.720973 71.590243 \nL 170.861704 71.590243 \nL 170.861704 71.233199 \nL 171.565361 71.233199 \nL 171.565361 70.876155 \nL 172.409749 70.876155 \nL 172.409749 69.447977 \nL 172.831944 69.447977 \nL 172.831944 69.090933 \nL 172.972675 69.090933 \nL 172.972675 68.733889 \nL 175.646572 68.733889 \nL 175.646572 68.376844 \nL 176.350229 68.376844 \nL 176.350229 68.0198 \nL 176.49096 68.0198 \nL 176.49096 67.662756 \nL 177.898274 67.662756 \nL 177.898274 66.948667 \nL 178.742662 66.948667 \nL 178.742662 66.591623 \nL 179.024125 66.591623 \nL 179.024125 66.234578 \nL 180.290708 66.234578 \nL 180.290708 65.877534 \nL 181.416559 65.877534 \nL 181.416559 65.52049 \nL 181.979485 65.52049 \nL 181.979485 64.092312 \nL 183.386799 64.092312 \nL 183.386799 63.735268 \nL 184.371918 63.735268 \nL 184.371918 63.378224 \nL 185.357038 63.378224 \nL 185.357038 63.021179 \nL 185.638501 63.021179 \nL 185.638501 62.664135 \nL 186.342158 62.664135 \nL 186.342158 62.307091 \nL 186.764352 62.307091 \nL 186.764352 61.950046 \nL 187.045815 61.950046 \nL 187.045815 61.593002 \nL 187.749472 61.593002 \nL 187.749472 61.235958 \nL 188.312398 61.235958 \nL 188.312398 60.878913 \nL 192.252877 60.878913 \nL 192.252877 60.164825 \nL 193.097265 60.164825 \nL 193.097265 59.80778 \nL 194.223116 59.80778 \nL 194.223116 59.450736 \nL 194.645311 59.450736 \nL 194.645311 59.093692 \nL 197.178476 59.093692 \nL 197.178476 58.736647 \nL 197.741401 58.736647 \nL 197.741401 58.379603 \nL 198.163596 58.379603 \nL 198.163596 58.022558 \nL 198.58579 58.022558 \nL 198.58579 57.665514 \nL 200.133835 57.665514 \nL 200.133835 57.30847 \nL 201.963343 57.30847 \nL 201.963343 56.951425 \nL 202.667 56.951425 \nL 202.667 56.594381 \nL 203.089195 56.594381 \nL 203.089195 56.237337 \nL 204.215046 56.237337 \nL 204.215046 55.880292 \nL 205.62236 55.880292 \nL 205.62236 55.523248 \nL 207.733331 55.523248 \nL 207.733331 55.166204 \nL 210.829422 55.166204 \nL 210.829422 54.809159 \nL 211.67381 54.809159 \nL 211.67381 54.452115 \nL 212.236735 54.452115 \nL 212.236735 53.380982 \nL 212.65893 53.380982 \nL 212.65893 52.666893 \nL 213.221855 52.666893 \nL 213.221855 52.309849 \nL 213.644049 52.309849 \nL 213.644049 51.952805 \nL 215.192095 51.952805 \nL 215.192095 51.59576 \nL 216.177215 51.59576 \nL 216.177215 51.238716 \nL 216.880872 51.238716 \nL 216.880872 50.881672 \nL 217.303066 50.881672 \nL 217.303066 50.524627 \nL 219.132574 50.524627 \nL 219.132574 50.167583 \nL 222.087933 50.167583 \nL 222.087933 49.810539 \nL 226.028413 49.810539 \nL 226.028413 49.453494 \nL 227.576458 49.453494 \nL 227.576458 49.09645 \nL 227.857921 49.09645 \nL 227.857921 48.739406 \nL 229.687429 48.739406 \nL 229.687429 48.382361 \nL 230.250355 48.382361 \nL 230.250355 48.025317 \nL 230.391086 48.025317 \nL 230.391086 47.668273 \nL 235.457416 47.668273 \nL 235.457416 47.311228 \nL 240.242284 47.311228 \nL 240.242284 46.954184 \nL 240.383015 46.954184 \nL 240.383015 46.59714 \nL 240.664478 46.59714 \nL 240.664478 46.240095 \nL 240.80521 46.240095 \nL 240.80521 45.883051 \nL 241.790329 45.883051 \nL 241.790329 45.526007 \nL 242.493986 45.526007 \nL 242.493986 45.168962 \nL 242.775449 45.168962 \nL 242.775449 44.811918 \nL 244.182763 44.811918 \nL 244.182763 44.454874 \nL 247.278854 44.454874 \nL 247.278854 44.097829 \nL 247.560317 44.097829 \nL 247.560317 43.740785 \nL 247.701048 43.740785 \nL 247.701048 43.383741 \nL 248.123242 43.383741 \nL 248.123242 43.026696 \nL 250.797139 43.026696 \nL 250.797139 42.669652 \nL 252.063722 42.669652 \nL 252.063722 42.312608 \nL 254.87835 42.312608 \nL 254.87835 41.955563 \nL 257.97444 41.955563 \nL 257.97444 41.598519 \nL 259.381754 41.598519 \nL 259.381754 41.241475 \nL 261.070531 41.241475 \nL 261.070531 40.88443 \nL 262.055651 40.88443 \nL 262.055651 40.527386 \nL 264.307353 40.527386 \nL 264.307353 40.170342 \nL 264.448085 40.170342 \nL 264.448085 39.813297 \nL 265.714667 39.813297 \nL 265.714667 39.456253 \nL 268.670027 39.456253 \nL 268.670027 39.099209 \nL 271.484655 39.099209 \nL 271.484655 38.742164 \nL 272.188312 38.742164 \nL 272.188312 37.671031 \nL 272.469775 37.671031 \nL 272.469775 37.313987 \nL 272.891969 37.313987 \nL 272.891969 36.956943 \nL 275.425134 36.956943 \nL 275.425134 36.599898 \nL 276.832448 36.599898 \nL 276.832448 36.242854 \nL 276.973179 36.242854 \nL 276.973179 35.88581 \nL 277.958299 35.88581 \nL 277.958299 35.528765 \nL 280.632196 35.528765 \nL 280.632196 35.171721 \nL 281.758047 35.171721 \nL 281.758047 34.814677 \nL 286.261452 34.814677 \nL 286.261452 34.457632 \nL 286.683646 34.457632 \nL 286.683646 34.100588 \nL 287.387303 34.100588 \nL 287.387303 33.743544 \nL 288.794617 33.743544 \nL 288.794617 33.386499 \nL 289.07608 33.386499 \nL 289.07608 33.029455 \nL 289.498274 33.029455 \nL 289.498274 32.672411 \nL 291.046319 32.672411 \nL 291.046319 32.315366 \nL 294.001679 32.315366 \nL 294.001679 31.958322 \nL 295.690456 31.958322 \nL 295.690456 31.601278 \nL 296.957038 31.601278 \nL 296.957038 30.887189 \nL 298.082889 30.887189 \nL 298.082889 30.530145 \nL 302.023369 30.530145 \nL 302.023369 30.1731 \nL 306.667505 30.1731 \nL 306.667505 29.816056 \nL 311.311641 29.816056 \nL 311.311641 29.459012 \nL 311.452372 29.459012 \nL 311.452372 29.101967 \nL 322.147959 29.101967 \nL 322.147959 28.744923 \nL 323.555273 28.744923 \nL 323.555273 28.387879 \nL 326.369901 28.387879 \nL 326.369901 27.67379 \nL 327.214289 27.67379 \nL 327.214289 27.316746 \nL 337.909875 27.316746 \nL 337.909875 26.959701 \nL 338.894995 26.959701 \nL 338.894995 26.602657 \nL 339.317189 26.602657 \nL 339.317189 25.888568 \nL 340.443041 25.888568 \nL 340.443041 25.17448 \nL 342.976206 25.17448 \nL 342.976206 24.817435 \nL 352.264478 24.817435 \nL 352.264478 24.460391 \nL 358.175197 24.460391 \nL 358.175197 24.103347 \nL 360.989825 24.103347 \nL 360.989825 23.746302 \nL 361.271288 23.746302 \nL 361.271288 23.389258 \nL 369.011515 23.389258 \nL 369.011515 23.032214 \nL 373.092725 23.032214 \nL 373.092725 22.675169 \nL 375.344428 22.675169 \nL 375.344428 22.318125 \nL 378.58125 22.318125 \nL 378.58125 22.318125 \n\" style=\"fill:none;stroke:#008000;stroke-linecap:square;stroke-width:0.5;\"/>\n   </g>\n   <g id=\"line2d_15\">\n    <path clip-path=\"url(#p82093c5bee)\" d=\"M 43.78125 239.758125 \nL 43.78125 226.19044 \nL 43.921981 226.19044 \nL 43.921981 209.052312 \nL 44.062713 209.052312 \nL 44.062713 205.124825 \nL 44.203444 205.124825 \nL 44.203444 196.55576 \nL 44.344176 196.55576 \nL 44.344176 195.484627 \nL 44.484907 195.484627 \nL 44.484907 191.55714 \nL 44.625638 191.55714 \nL 44.625638 191.200095 \nL 44.76637 191.200095 \nL 44.76637 190.843051 \nL 44.907101 190.843051 \nL 44.907101 190.128962 \nL 45.047833 190.128962 \nL 45.047833 189.771918 \nL 45.188564 189.771918 \nL 45.188564 189.057829 \nL 45.329295 189.057829 \nL 45.329295 188.343741 \nL 45.470027 188.343741 \nL 45.470027 186.915563 \nL 45.610758 186.915563 \nL 45.610758 185.130342 \nL 45.75149 185.130342 \nL 45.75149 184.059209 \nL 45.892221 184.059209 \nL 45.892221 181.202854 \nL 46.032952 181.202854 \nL 46.032952 179.417632 \nL 46.173684 179.417632 \nL 46.173684 177.275366 \nL 46.455147 177.275366 \nL 46.455147 176.561278 \nL 46.595878 176.561278 \nL 46.595878 175.490145 \nL 46.736609 175.490145 \nL 46.736609 175.1331 \nL 46.877341 175.1331 \nL 46.877341 174.419012 \nL 47.018072 174.419012 \nL 47.018072 174.061967 \nL 47.440266 174.061967 \nL 47.440266 173.704923 \nL 47.580998 173.704923 \nL 47.580998 172.990834 \nL 47.721729 172.990834 \nL 47.721729 171.919701 \nL 47.862461 171.919701 \nL 47.862461 171.205613 \nL 48.003192 171.205613 \nL 48.003192 170.491524 \nL 48.143923 170.491524 \nL 48.143923 169.420391 \nL 48.284655 169.420391 \nL 48.284655 168.349258 \nL 48.706849 168.349258 \nL 48.706849 167.992214 \nL 48.84758 167.992214 \nL 48.84758 167.635169 \nL 48.988312 167.635169 \nL 48.988312 167.278125 \nL 49.129043 167.278125 \nL 49.129043 164.064726 \nL 49.410506 164.064726 \nL 49.410506 162.993593 \nL 49.691969 162.993593 \nL 49.691969 161.92246 \nL 49.8327 161.92246 \nL 49.8327 160.494283 \nL 50.114163 160.494283 \nL 50.114163 160.137238 \nL 50.254894 160.137238 \nL 50.254894 159.780194 \nL 50.395626 159.780194 \nL 50.395626 159.066105 \nL 50.536357 159.066105 \nL 50.536357 156.923839 \nL 50.81782 156.923839 \nL 50.81782 156.566795 \nL 51.099283 156.566795 \nL 51.099283 155.495662 \nL 51.521477 155.495662 \nL 51.521477 154.781573 \nL 51.943671 154.781573 \nL 51.943671 153.353396 \nL 52.225134 153.353396 \nL 52.225134 152.996352 \nL 52.647328 152.996352 \nL 52.647328 152.639307 \nL 52.78806 152.639307 \nL 52.78806 151.21113 \nL 53.069522 151.21113 \nL 53.069522 150.139997 \nL 53.210254 150.139997 \nL 53.210254 149.782953 \nL 53.632448 149.782953 \nL 53.632448 148.71182 \nL 53.913911 148.71182 \nL 53.913911 147.997731 \nL 54.054642 147.997731 \nL 54.054642 146.212509 \nL 54.336105 146.212509 \nL 54.336105 145.855465 \nL 54.617568 145.855465 \nL 54.617568 145.498421 \nL 55.039762 145.498421 \nL 55.039762 144.070243 \nL 55.461956 144.070243 \nL 55.461956 143.356155 \nL 55.743419 143.356155 \nL 55.743419 142.99911 \nL 56.165613 142.99911 \nL 56.165613 142.642066 \nL 56.447076 142.642066 \nL 56.447076 141.213889 \nL 56.728539 141.213889 \nL 56.728539 140.856844 \nL 56.86927 140.856844 \nL 56.86927 140.4998 \nL 57.010002 140.4998 \nL 57.010002 139.785711 \nL 57.995121 139.785711 \nL 57.995121 139.428667 \nL 58.276584 139.428667 \nL 58.276584 139.071623 \nL 58.417316 139.071623 \nL 58.417316 138.714578 \nL 58.558047 138.714578 \nL 58.558047 138.357534 \nL 58.698778 138.357534 \nL 58.698778 138.00049 \nL 58.980241 138.00049 \nL 58.980241 137.643445 \nL 59.402435 137.643445 \nL 59.402435 137.286401 \nL 59.683898 137.286401 \nL 59.683898 136.215268 \nL 59.965361 136.215268 \nL 59.965361 135.858224 \nL 60.246824 135.858224 \nL 60.246824 135.501179 \nL 60.387555 135.501179 \nL 60.387555 135.144135 \nL 60.950481 135.144135 \nL 60.950481 134.073002 \nL 61.091212 134.073002 \nL 61.091212 133.715958 \nL 61.513406 133.715958 \nL 61.513406 133.358913 \nL 62.076332 133.358913 \nL 62.076332 132.28778 \nL 62.217063 132.28778 \nL 62.217063 131.216647 \nL 62.92072 131.216647 \nL 62.92072 130.145514 \nL 63.202183 130.145514 \nL 63.202183 129.78847 \nL 63.342915 129.78847 \nL 63.342915 129.431425 \nL 63.624377 129.431425 \nL 63.624377 128.003248 \nL 63.765109 128.003248 \nL 63.765109 127.646204 \nL 63.90584 127.646204 \nL 63.90584 126.932115 \nL 64.468766 126.932115 \nL 64.468766 126.575071 \nL 65.172423 126.575071 \nL 65.172423 125.860982 \nL 65.594617 125.860982 \nL 65.594617 125.146893 \nL 65.87608 125.146893 \nL 65.87608 124.432805 \nL 66.8612 124.432805 \nL 66.8612 124.07576 \nL 67.001931 124.07576 \nL 67.001931 123.718716 \nL 67.424125 123.718716 \nL 67.424125 123.361672 \nL 67.705588 123.361672 \nL 67.705588 121.933494 \nL 67.846319 121.933494 \nL 67.846319 121.57645 \nL 67.987051 121.57645 \nL 67.987051 120.862361 \nL 68.127782 120.862361 \nL 68.127782 120.148273 \nL 69.112902 120.148273 \nL 69.112902 119.791228 \nL 69.675828 119.791228 \nL 69.675828 119.434184 \nL 69.95729 119.434184 \nL 69.95729 119.07714 \nL 70.238753 119.07714 \nL 70.238753 118.720095 \nL 70.520216 118.720095 \nL 70.520216 118.363051 \nL 70.801679 118.363051 \nL 70.801679 116.934874 \nL 70.94241 116.934874 \nL 70.94241 116.577829 \nL 71.083142 116.577829 \nL 71.083142 115.863741 \nL 71.364604 115.863741 \nL 71.364604 115.506696 \nL 71.92753 115.506696 \nL 71.92753 115.149652 \nL 72.208993 115.149652 \nL 72.208993 114.792608 \nL 72.490456 114.792608 \nL 72.490456 114.435563 \nL 72.771918 114.435563 \nL 72.771918 114.078519 \nL 73.194113 114.078519 \nL 73.194113 113.721475 \nL 73.334844 113.721475 \nL 73.334844 113.007386 \nL 73.475575 113.007386 \nL 73.475575 112.650342 \nL 73.616307 112.650342 \nL 73.616307 112.293297 \nL 74.038501 112.293297 \nL 74.038501 111.579209 \nL 74.179232 111.579209 \nL 74.179232 111.222164 \nL 74.319964 111.222164 \nL 74.319964 110.86512 \nL 74.742158 110.86512 \nL 74.742158 110.508076 \nL 74.882889 110.508076 \nL 74.882889 110.151031 \nL 75.445815 110.151031 \nL 75.445815 109.793987 \nL 75.868009 109.793987 \nL 75.868009 109.079898 \nL 76.008741 109.079898 \nL 76.008741 108.722854 \nL 76.149472 108.722854 \nL 76.149472 107.651721 \nL 76.290203 107.651721 \nL 76.290203 107.294677 \nL 76.571666 107.294677 \nL 76.571666 106.937632 \nL 76.712398 106.937632 \nL 76.712398 106.580588 \nL 76.853129 106.580588 \nL 76.853129 105.152411 \nL 77.134592 105.152411 \nL 77.134592 104.081278 \nL 77.838249 104.081278 \nL 77.838249 103.724233 \nL 78.260443 103.724233 \nL 78.260443 103.010145 \nL 78.401174 103.010145 \nL 78.401174 102.6531 \nL 78.9641 102.6531 \nL 78.9641 102.296056 \nL 80.089951 102.296056 \nL 80.089951 101.939012 \nL 80.652877 101.939012 \nL 80.652877 101.224923 \nL 81.497265 101.224923 \nL 81.497265 100.867879 \nL 82.623116 100.867879 \nL 82.623116 100.510834 \nL 83.748968 100.510834 \nL 83.748968 100.15379 \nL 84.311893 100.15379 \nL 84.311893 99.796746 \nL 84.734087 99.796746 \nL 84.734087 98.725613 \nL 85.01555 98.725613 \nL 85.01555 98.368568 \nL 85.578476 98.368568 \nL 85.578476 98.011524 \nL 86.563596 98.011524 \nL 86.563596 97.65448 \nL 86.845058 97.65448 \nL 86.845058 97.297435 \nL 87.267253 97.297435 \nL 87.267253 96.226302 \nL 88.815298 96.226302 \nL 88.815298 95.512214 \nL 89.518955 95.512214 \nL 89.518955 94.798125 \nL 90.504075 94.798125 \nL 90.504075 94.441081 \nL 90.644806 94.441081 \nL 90.644806 94.084036 \nL 90.785538 94.084036 \nL 90.785538 93.369948 \nL 91.067 93.369948 \nL 91.067 93.012903 \nL 91.489195 93.012903 \nL 91.489195 92.655859 \nL 91.911389 92.655859 \nL 91.911389 92.298815 \nL 92.192852 92.298815 \nL 92.192852 91.227682 \nL 92.333583 91.227682 \nL 92.333583 90.870637 \nL 93.177971 90.870637 \nL 93.177971 90.513593 \nL 93.459434 90.513593 \nL 93.459434 90.156549 \nL 94.726017 90.156549 \nL 94.726017 89.44246 \nL 95.148211 89.44246 \nL 95.148211 89.085416 \nL 96.414794 89.085416 \nL 96.414794 88.728371 \nL 96.555525 88.728371 \nL 96.555525 88.371327 \nL 96.696256 88.371327 \nL 96.696256 88.014283 \nL 96.977719 88.014283 \nL 96.977719 87.657238 \nL 97.540645 87.657238 \nL 97.540645 87.300194 \nL 97.822108 87.300194 \nL 97.822108 86.94315 \nL 101.199661 86.94315 \nL 101.199661 86.586105 \nL 101.481124 86.586105 \nL 101.481124 85.514972 \nL 102.747706 85.514972 \nL 102.747706 85.157928 \nL 103.029169 85.157928 \nL 103.029169 84.800884 \nL 103.310632 84.800884 \nL 103.310632 84.086795 \nL 107.251111 84.086795 \nL 107.251111 83.729751 \nL 107.391843 83.729751 \nL 107.391843 83.372706 \nL 107.673305 83.372706 \nL 107.673305 82.658618 \nL 108.376962 82.658618 \nL 108.376962 82.301573 \nL 108.799157 82.301573 \nL 108.799157 81.944529 \nL 109.362082 81.944529 \nL 109.362082 81.587485 \nL 109.925008 81.587485 \nL 109.925008 81.23044 \nL 111.050859 81.23044 \nL 111.050859 80.873396 \nL 111.473053 80.873396 \nL 111.473053 80.516352 \nL 111.613785 80.516352 \nL 111.613785 80.159307 \nL 112.458173 80.159307 \nL 112.458173 79.802263 \nL 113.443293 79.802263 \nL 113.443293 79.445219 \nL 114.428413 79.445219 \nL 114.428413 79.088174 \nL 115.976458 79.088174 \nL 115.976458 78.73113 \nL 116.680115 78.73113 \nL 116.680115 78.374086 \nL 118.22816 78.374086 \nL 118.22816 78.017041 \nL 118.509623 78.017041 \nL 118.509623 77.659997 \nL 119.494743 77.659997 \nL 119.494743 77.302953 \nL 120.339131 77.302953 \nL 120.339131 76.945908 \nL 120.479863 76.945908 \nL 120.479863 75.874775 \nL 121.746445 75.874775 \nL 121.746445 75.517731 \nL 123.294491 75.517731 \nL 123.294491 75.160687 \nL 123.857416 75.160687 \nL 123.857416 74.803642 \nL 124.138879 74.803642 \nL 124.138879 74.446598 \nL 125.546193 74.446598 \nL 125.546193 74.089554 \nL 127.094239 74.089554 \nL 127.094239 73.732509 \nL 127.797896 73.732509 \nL 127.797896 73.375465 \nL 129.627404 73.375465 \nL 129.627404 72.661376 \nL 130.190329 72.661376 \nL 130.190329 72.304332 \nL 131.316181 72.304332 \nL 131.316181 71.590243 \nL 131.456912 71.590243 \nL 131.456912 70.876155 \nL 132.582763 70.876155 \nL 132.582763 70.51911 \nL 132.864226 70.51911 \nL 132.864226 69.805022 \nL 133.708614 69.805022 \nL 133.708614 69.447977 \nL 134.693734 69.447977 \nL 134.693734 69.090933 \nL 134.834466 69.090933 \nL 134.834466 68.376844 \nL 136.523242 68.376844 \nL 136.523242 68.0198 \nL 136.663974 68.0198 \nL 136.663974 67.662756 \nL 136.804705 67.662756 \nL 136.804705 67.305711 \nL 137.367631 67.305711 \nL 137.367631 66.591623 \nL 137.930556 66.591623 \nL 137.930556 66.234578 \nL 139.197139 66.234578 \nL 139.197139 65.877534 \nL 140.041527 65.877534 \nL 140.041527 65.52049 \nL 140.182259 65.52049 \nL 140.182259 65.163445 \nL 142.433961 65.163445 \nL 142.433961 64.806401 \nL 142.574693 64.806401 \nL 142.574693 64.449357 \nL 142.996887 64.449357 \nL 142.996887 64.092312 \nL 143.27835 64.092312 \nL 143.27835 63.735268 \nL 143.700544 63.735268 \nL 143.700544 63.378224 \nL 144.122738 63.378224 \nL 144.122738 63.021179 \nL 144.685664 63.021179 \nL 144.685664 62.664135 \nL 145.389321 62.664135 \nL 145.389321 62.307091 \nL 145.670783 62.307091 \nL 145.670783 61.950046 \nL 145.811515 61.950046 \nL 145.811515 61.593002 \nL 146.37444 61.593002 \nL 146.37444 61.235958 \nL 146.937366 61.235958 \nL 146.937366 60.878913 \nL 147.218829 60.878913 \nL 147.218829 60.164825 \nL 147.922486 60.164825 \nL 147.922486 59.80778 \nL 148.485411 59.80778 \nL 148.485411 59.450736 \nL 148.907606 59.450736 \nL 148.907606 59.093692 \nL 149.611263 59.093692 \nL 149.611263 58.736647 \nL 151.300039 58.736647 \nL 151.300039 58.379603 \nL 151.581502 58.379603 \nL 151.581502 58.022558 \nL 152.003696 58.022558 \nL 152.003696 57.665514 \nL 152.425891 57.665514 \nL 152.425891 57.30847 \nL 154.818324 57.30847 \nL 154.818324 56.951425 \nL 154.959056 56.951425 \nL 154.959056 56.594381 \nL 156.084907 56.594381 \nL 156.084907 56.237337 \nL 156.36637 56.237337 \nL 156.36637 55.880292 \nL 157.773684 55.880292 \nL 157.773684 55.523248 \nL 157.914415 55.523248 \nL 157.914415 55.166204 \nL 160.166118 55.166204 \nL 160.166118 54.809159 \nL 160.869775 54.809159 \nL 160.869775 54.452115 \nL 161.573432 54.452115 \nL 161.573432 54.095071 \nL 163.262208 54.095071 \nL 163.262208 53.738026 \nL 164.106597 53.738026 \nL 164.106597 53.380982 \nL 164.528791 53.380982 \nL 164.528791 53.023938 \nL 165.513911 53.023938 \nL 165.513911 52.666893 \nL 167.48415 52.666893 \nL 167.48415 52.309849 \nL 167.765613 52.309849 \nL 167.765613 51.59576 \nL 168.187807 51.59576 \nL 168.187807 51.238716 \nL 168.328539 51.238716 \nL 168.328539 50.881672 \nL 168.46927 50.881672 \nL 168.46927 50.524627 \nL 169.172927 50.524627 \nL 169.172927 50.167583 \nL 170.298778 50.167583 \nL 170.298778 49.810539 \nL 171.706092 49.810539 \nL 171.706092 49.453494 \nL 173.676332 49.453494 \nL 173.676332 49.09645 \nL 175.365109 49.09645 \nL 175.365109 48.739406 \nL 179.305588 48.739406 \nL 179.305588 48.382361 \nL 180.009245 48.382361 \nL 180.009245 48.025317 \nL 180.853633 48.025317 \nL 180.853633 47.668273 \nL 181.275828 47.668273 \nL 181.275828 47.311228 \nL 182.823873 47.311228 \nL 182.823873 46.954184 \nL 183.668261 46.954184 \nL 183.668261 46.59714 \nL 184.51265 46.59714 \nL 184.51265 46.240095 \nL 184.934844 46.240095 \nL 184.934844 45.883051 \nL 185.919964 45.883051 \nL 185.919964 45.526007 \nL 186.060695 45.526007 \nL 186.060695 45.168962 \nL 187.186546 45.168962 \nL 187.186546 44.811918 \nL 188.453129 44.811918 \nL 188.453129 44.097829 \nL 191.971414 44.097829 \nL 191.971414 43.740785 \nL 194.786042 43.740785 \nL 194.786042 43.026696 \nL 195.067505 43.026696 \nL 195.067505 41.955563 \nL 198.867253 41.955563 \nL 198.867253 41.598519 \nL 200.133835 41.598519 \nL 200.133835 41.241475 \nL 204.496509 41.241475 \nL 204.496509 40.88443 \nL 204.777971 40.88443 \nL 204.777971 40.527386 \nL 205.763091 40.527386 \nL 205.763091 40.170342 \nL 206.326017 40.170342 \nL 206.326017 39.813297 \nL 206.888942 39.813297 \nL 206.888942 39.456253 \nL 207.592599 39.456253 \nL 207.592599 39.099209 \nL 209.422108 39.099209 \nL 209.422108 38.742164 \nL 210.407227 38.742164 \nL 210.407227 38.38512 \nL 211.110884 38.38512 \nL 211.110884 38.028076 \nL 214.629169 38.028076 \nL 214.629169 37.671031 \nL 215.473558 37.671031 \nL 215.473558 37.313987 \nL 215.75502 37.313987 \nL 215.75502 36.956943 \nL 218.288186 36.956943 \nL 218.288186 36.599898 \nL 218.991843 36.599898 \nL 218.991843 36.242854 \nL 220.962082 36.242854 \nL 220.962082 35.88581 \nL 222.228665 35.88581 \nL 222.228665 35.171721 \nL 227.717189 35.171721 \nL 227.717189 34.457632 \nL 228.561578 34.457632 \nL 228.561578 34.100588 \nL 228.702309 34.100588 \nL 228.702309 33.743544 \nL 230.954012 33.743544 \nL 230.954012 33.386499 \nL 231.094743 33.386499 \nL 231.094743 33.029455 \nL 236.723999 33.029455 \nL 236.723999 32.672411 \nL 248.967631 32.672411 \nL 248.967631 32.315366 \nL 249.108362 32.315366 \nL 249.108362 31.601278 \nL 252.485916 31.601278 \nL 252.485916 31.244233 \nL 254.596887 31.244233 \nL 254.596887 30.530145 \nL 255.159812 30.530145 \nL 255.159812 30.1731 \nL 264.166622 30.1731 \nL 264.166622 29.816056 \nL 268.388564 29.816056 \nL 268.388564 29.459012 \nL 268.810758 29.459012 \nL 268.810758 29.101967 \nL 270.640266 29.101967 \nL 270.640266 28.744923 \nL 273.314163 28.744923 \nL 273.314163 28.387879 \nL 273.454894 28.387879 \nL 273.454894 28.030834 \nL 280.913659 28.030834 \nL 280.913659 27.67379 \nL 283.165361 27.67379 \nL 283.165361 27.316746 \nL 289.216811 27.316746 \nL 289.216811 26.959701 \nL 299.630935 26.959701 \nL 299.630935 26.602657 \nL 301.741906 26.602657 \nL 301.741906 26.245613 \nL 306.808236 26.245613 \nL 306.808236 25.888568 \nL 311.874567 25.888568 \nL 311.874567 25.531524 \nL 312.859686 25.531524 \nL 312.859686 25.17448 \nL 315.111389 25.17448 \nL 315.111389 24.817435 \nL 322.28869 24.817435 \nL 322.28869 24.460391 \nL 327.073558 24.460391 \nL 327.073558 24.103347 \nL 331.858425 24.103347 \nL 331.858425 23.746302 \nL 355.079106 23.746302 \nL 355.079106 23.389258 \nL 357.190077 23.389258 \nL 357.190077 23.032214 \nL 368.730052 23.032214 \nL 368.730052 22.675169 \nL 369.715172 22.675169 \nL 369.715172 22.318125 \nL 378.58125 22.318125 \nL 378.58125 22.318125 \n\" style=\"fill:none;stroke:#ff8c00;stroke-linecap:square;stroke-width:0.5;\"/>\n   </g>\n   <g id=\"line2d_16\">\n    <path clip-path=\"url(#p82093c5bee)\" d=\"M 43.78125 239.758125 \nL 378.58125 22.318125 \n\" style=\"fill:none;stroke:#000080;stroke-dasharray:1.85,0.8;stroke-dashoffset:0;stroke-width:0.5;\"/>\n   </g>\n   <g id=\"patch_3\">\n    <path d=\"M 43.78125 239.758125 \nL 43.78125 22.318125 \n\" style=\"fill:none;stroke:#000000;stroke-linecap:square;stroke-linejoin:miter;stroke-width:0.8;\"/>\n   </g>\n   <g id=\"patch_4\">\n    <path d=\"M 378.58125 239.758125 \nL 378.58125 22.318125 \n\" style=\"fill:none;stroke:#000000;stroke-linecap:square;stroke-linejoin:miter;stroke-width:0.8;\"/>\n   </g>\n   <g id=\"patch_5\">\n    <path d=\"M 43.78125 239.758125 \nL 378.58125 239.758125 \n\" style=\"fill:none;stroke:#000000;stroke-linecap:square;stroke-linejoin:miter;stroke-width:0.8;\"/>\n   </g>\n   <g id=\"patch_6\">\n    <path d=\"M 43.78125 22.318125 \nL 378.58125 22.318125 \n\" style=\"fill:none;stroke:#000000;stroke-linecap:square;stroke-linejoin:miter;stroke-width:0.8;\"/>\n   </g>\n   <g id=\"text_15\">\n    <!-- ROC Chart -->\n    <defs>\n     <path d=\"M 39.40625 66.21875 \nQ 28.65625 66.21875 22.328125 58.203125 \nQ 16.015625 50.203125 16.015625 36.375 \nQ 16.015625 22.609375 22.328125 14.59375 \nQ 28.65625 6.59375 39.40625 6.59375 \nQ 50.140625 6.59375 56.421875 14.59375 \nQ 62.703125 22.609375 62.703125 36.375 \nQ 62.703125 50.203125 56.421875 58.203125 \nQ 50.140625 66.21875 39.40625 66.21875 \nz\nM 39.40625 74.21875 \nQ 54.734375 74.21875 63.90625 63.9375 \nQ 73.09375 53.65625 73.09375 36.375 \nQ 73.09375 19.140625 63.90625 8.859375 \nQ 54.734375 -1.421875 39.40625 -1.421875 \nQ 24.03125 -1.421875 14.8125 8.828125 \nQ 5.609375 19.09375 5.609375 36.375 \nQ 5.609375 53.65625 14.8125 63.9375 \nQ 24.03125 74.21875 39.40625 74.21875 \nz\n\" id=\"DejaVuSans-79\"/>\n     <path d=\"M 64.40625 67.28125 \nL 64.40625 56.890625 \nQ 59.421875 61.53125 53.78125 63.8125 \nQ 48.140625 66.109375 41.796875 66.109375 \nQ 29.296875 66.109375 22.65625 58.46875 \nQ 16.015625 50.828125 16.015625 36.375 \nQ 16.015625 21.96875 22.65625 14.328125 \nQ 29.296875 6.6875 41.796875 6.6875 \nQ 48.140625 6.6875 53.78125 8.984375 \nQ 59.421875 11.28125 64.40625 15.921875 \nL 64.40625 5.609375 \nQ 59.234375 2.09375 53.4375 0.328125 \nQ 47.65625 -1.421875 41.21875 -1.421875 \nQ 24.65625 -1.421875 15.125 8.703125 \nQ 5.609375 18.84375 5.609375 36.375 \nQ 5.609375 53.953125 15.125 64.078125 \nQ 24.65625 74.21875 41.21875 74.21875 \nQ 47.75 74.21875 53.53125 72.484375 \nQ 59.328125 70.75 64.40625 67.28125 \nz\n\" id=\"DejaVuSans-67\"/>\n     <path d=\"M 54.890625 33.015625 \nL 54.890625 0 \nL 45.90625 0 \nL 45.90625 32.71875 \nQ 45.90625 40.484375 42.875 44.328125 \nQ 39.84375 48.1875 33.796875 48.1875 \nQ 26.515625 48.1875 22.3125 43.546875 \nQ 18.109375 38.921875 18.109375 30.90625 \nL 18.109375 0 \nL 9.078125 0 \nL 9.078125 75.984375 \nL 18.109375 75.984375 \nL 18.109375 46.1875 \nQ 21.34375 51.125 25.703125 53.5625 \nQ 30.078125 56 35.796875 56 \nQ 45.21875 56 50.046875 50.171875 \nQ 54.890625 44.34375 54.890625 33.015625 \nz\n\" id=\"DejaVuSans-104\"/>\n    </defs>\n    <g transform=\"translate(179.704688 16.318125)scale(0.12 -0.12)\">\n     <use xlink:href=\"#DejaVuSans-82\"/>\n     <use x=\"69.482422\" xlink:href=\"#DejaVuSans-79\"/>\n     <use x=\"148.193359\" xlink:href=\"#DejaVuSans-67\"/>\n     <use x=\"218.017578\" xlink:href=\"#DejaVuSans-32\"/>\n     <use x=\"249.804688\" xlink:href=\"#DejaVuSans-67\"/>\n     <use x=\"319.628906\" xlink:href=\"#DejaVuSans-104\"/>\n     <use x=\"383.007812\" xlink:href=\"#DejaVuSans-97\"/>\n     <use x=\"444.287109\" xlink:href=\"#DejaVuSans-114\"/>\n     <use x=\"485.400391\" xlink:href=\"#DejaVuSans-116\"/>\n    </g>\n   </g>\n   <g id=\"legend_1\">\n    <g id=\"patch_7\">\n     <path d=\"M 195.359375 234.758125 \nL 371.58125 234.758125 \nQ 373.58125 234.758125 373.58125 232.758125 \nL 373.58125 189.72375 \nQ 373.58125 187.72375 371.58125 187.72375 \nL 195.359375 187.72375 \nQ 193.359375 187.72375 193.359375 189.72375 \nL 193.359375 232.758125 \nQ 193.359375 234.758125 195.359375 234.758125 \nz\n\" style=\"fill:#ffffff;opacity:0.8;stroke:#cccccc;stroke-linejoin:miter;\"/>\n    </g>\n    <g id=\"line2d_17\">\n     <path d=\"M 197.359375 195.822187 \nL 217.359375 195.822187 \n\" style=\"fill:none;stroke:#ff0000;stroke-linecap:square;stroke-width:0.5;\"/>\n    </g>\n    <g id=\"line2d_18\"/>\n    <g id=\"text_16\">\n     <!-- ROC Curve for DT 0.832 -->\n     <defs>\n      <path d=\"M 37.109375 75.984375 \nL 37.109375 68.5 \nL 28.515625 68.5 \nQ 23.6875 68.5 21.796875 66.546875 \nQ 19.921875 64.59375 19.921875 59.515625 \nL 19.921875 54.6875 \nL 34.71875 54.6875 \nL 34.71875 47.703125 \nL 19.921875 47.703125 \nL 19.921875 0 \nL 10.890625 0 \nL 10.890625 47.703125 \nL 2.296875 47.703125 \nL 2.296875 54.6875 \nL 10.890625 54.6875 \nL 10.890625 58.5 \nQ 10.890625 67.625 15.140625 71.796875 \nQ 19.390625 75.984375 28.609375 75.984375 \nz\n\" id=\"DejaVuSans-102\"/>\n      <path d=\"M 19.671875 64.796875 \nL 19.671875 8.109375 \nL 31.59375 8.109375 \nQ 46.6875 8.109375 53.6875 14.9375 \nQ 60.6875 21.78125 60.6875 36.53125 \nQ 60.6875 51.171875 53.6875 57.984375 \nQ 46.6875 64.796875 31.59375 64.796875 \nz\nM 9.8125 72.90625 \nL 30.078125 72.90625 \nQ 51.265625 72.90625 61.171875 64.09375 \nQ 71.09375 55.28125 71.09375 36.53125 \nQ 71.09375 17.671875 61.125 8.828125 \nQ 51.171875 0 30.078125 0 \nL 9.8125 0 \nz\n\" id=\"DejaVuSans-68\"/>\n      <path d=\"M 40.578125 39.3125 \nQ 47.65625 37.796875 51.625 33 \nQ 55.609375 28.21875 55.609375 21.1875 \nQ 55.609375 10.40625 48.1875 4.484375 \nQ 40.765625 -1.421875 27.09375 -1.421875 \nQ 22.515625 -1.421875 17.65625 -0.515625 \nQ 12.796875 0.390625 7.625 2.203125 \nL 7.625 11.71875 \nQ 11.71875 9.328125 16.59375 8.109375 \nQ 21.484375 6.890625 26.8125 6.890625 \nQ 36.078125 6.890625 40.9375 10.546875 \nQ 45.796875 14.203125 45.796875 21.1875 \nQ 45.796875 27.640625 41.28125 31.265625 \nQ 36.765625 34.90625 28.71875 34.90625 \nL 20.21875 34.90625 \nL 20.21875 43.015625 \nL 29.109375 43.015625 \nQ 36.375 43.015625 40.234375 45.921875 \nQ 44.09375 48.828125 44.09375 54.296875 \nQ 44.09375 59.90625 40.109375 62.90625 \nQ 36.140625 65.921875 28.71875 65.921875 \nQ 24.65625 65.921875 20.015625 65.03125 \nQ 15.375 64.15625 9.8125 62.3125 \nL 9.8125 71.09375 \nQ 15.4375 72.65625 20.34375 73.4375 \nQ 25.25 74.21875 29.59375 74.21875 \nQ 40.828125 74.21875 47.359375 69.109375 \nQ 53.90625 64.015625 53.90625 55.328125 \nQ 53.90625 49.265625 50.4375 45.09375 \nQ 46.96875 40.921875 40.578125 39.3125 \nz\n\" id=\"DejaVuSans-51\"/>\n     </defs>\n     <g transform=\"translate(225.359375 199.322187)scale(0.1 -0.1)\">\n      <use xlink:href=\"#DejaVuSans-82\"/>\n      <use x=\"69.482422\" xlink:href=\"#DejaVuSans-79\"/>\n      <use x=\"148.193359\" xlink:href=\"#DejaVuSans-67\"/>\n      <use x=\"218.017578\" xlink:href=\"#DejaVuSans-32\"/>\n      <use x=\"249.804688\" xlink:href=\"#DejaVuSans-67\"/>\n      <use x=\"319.628906\" xlink:href=\"#DejaVuSans-117\"/>\n      <use x=\"383.007812\" xlink:href=\"#DejaVuSans-114\"/>\n      <use x=\"424.121094\" xlink:href=\"#DejaVuSans-118\"/>\n      <use x=\"483.300781\" xlink:href=\"#DejaVuSans-101\"/>\n      <use x=\"544.824219\" xlink:href=\"#DejaVuSans-32\"/>\n      <use x=\"576.611328\" xlink:href=\"#DejaVuSans-102\"/>\n      <use x=\"611.816406\" xlink:href=\"#DejaVuSans-111\"/>\n      <use x=\"672.998047\" xlink:href=\"#DejaVuSans-114\"/>\n      <use x=\"714.111328\" xlink:href=\"#DejaVuSans-32\"/>\n      <use x=\"745.898438\" xlink:href=\"#DejaVuSans-68\"/>\n      <use x=\"822.900391\" xlink:href=\"#DejaVuSans-84\"/>\n      <use x=\"883.984375\" xlink:href=\"#DejaVuSans-32\"/>\n      <use x=\"915.771484\" xlink:href=\"#DejaVuSans-48\"/>\n      <use x=\"979.394531\" xlink:href=\"#DejaVuSans-46\"/>\n      <use x=\"1011.181641\" xlink:href=\"#DejaVuSans-56\"/>\n      <use x=\"1074.804688\" xlink:href=\"#DejaVuSans-51\"/>\n      <use x=\"1138.427734\" xlink:href=\"#DejaVuSans-50\"/>\n     </g>\n    </g>\n    <g id=\"line2d_19\">\n     <path d=\"M 197.359375 210.500312 \nL 217.359375 210.500312 \n\" style=\"fill:none;stroke:#008000;stroke-linecap:square;stroke-width:0.5;\"/>\n    </g>\n    <g id=\"line2d_20\"/>\n    <g id=\"text_17\">\n     <!-- ROC Curve for Log reg 0.768 -->\n     <defs>\n      <path d=\"M 9.8125 72.90625 \nL 19.671875 72.90625 \nL 19.671875 8.296875 \nL 55.171875 8.296875 \nL 55.171875 0 \nL 9.8125 0 \nz\n\" id=\"DejaVuSans-76\"/>\n      <path d=\"M 45.40625 27.984375 \nQ 45.40625 37.75 41.375 43.109375 \nQ 37.359375 48.484375 30.078125 48.484375 \nQ 22.859375 48.484375 18.828125 43.109375 \nQ 14.796875 37.75 14.796875 27.984375 \nQ 14.796875 18.265625 18.828125 12.890625 \nQ 22.859375 7.515625 30.078125 7.515625 \nQ 37.359375 7.515625 41.375 12.890625 \nQ 45.40625 18.265625 45.40625 27.984375 \nz\nM 54.390625 6.78125 \nQ 54.390625 -7.171875 48.1875 -13.984375 \nQ 42 -20.796875 29.203125 -20.796875 \nQ 24.46875 -20.796875 20.265625 -20.09375 \nQ 16.0625 -19.390625 12.109375 -17.921875 \nL 12.109375 -9.1875 \nQ 16.0625 -11.328125 19.921875 -12.34375 \nQ 23.78125 -13.375 27.78125 -13.375 \nQ 36.625 -13.375 41.015625 -8.765625 \nQ 45.40625 -4.15625 45.40625 5.171875 \nL 45.40625 9.625 \nQ 42.625 4.78125 38.28125 2.390625 \nQ 33.9375 0 27.875 0 \nQ 17.828125 0 11.671875 7.65625 \nQ 5.515625 15.328125 5.515625 27.984375 \nQ 5.515625 40.671875 11.671875 48.328125 \nQ 17.828125 56 27.875 56 \nQ 33.9375 56 38.28125 53.609375 \nQ 42.625 51.21875 45.40625 46.390625 \nL 45.40625 54.6875 \nL 54.390625 54.6875 \nz\n\" id=\"DejaVuSans-103\"/>\n      <path d=\"M 8.203125 72.90625 \nL 55.078125 72.90625 \nL 55.078125 68.703125 \nL 28.609375 0 \nL 18.3125 0 \nL 43.21875 64.59375 \nL 8.203125 64.59375 \nz\n\" id=\"DejaVuSans-55\"/>\n     </defs>\n     <g transform=\"translate(225.359375 214.000312)scale(0.1 -0.1)\">\n      <use xlink:href=\"#DejaVuSans-82\"/>\n      <use x=\"69.482422\" xlink:href=\"#DejaVuSans-79\"/>\n      <use x=\"148.193359\" xlink:href=\"#DejaVuSans-67\"/>\n      <use x=\"218.017578\" xlink:href=\"#DejaVuSans-32\"/>\n      <use x=\"249.804688\" xlink:href=\"#DejaVuSans-67\"/>\n      <use x=\"319.628906\" xlink:href=\"#DejaVuSans-117\"/>\n      <use x=\"383.007812\" xlink:href=\"#DejaVuSans-114\"/>\n      <use x=\"424.121094\" xlink:href=\"#DejaVuSans-118\"/>\n      <use x=\"483.300781\" xlink:href=\"#DejaVuSans-101\"/>\n      <use x=\"544.824219\" xlink:href=\"#DejaVuSans-32\"/>\n      <use x=\"576.611328\" xlink:href=\"#DejaVuSans-102\"/>\n      <use x=\"611.816406\" xlink:href=\"#DejaVuSans-111\"/>\n      <use x=\"672.998047\" xlink:href=\"#DejaVuSans-114\"/>\n      <use x=\"714.111328\" xlink:href=\"#DejaVuSans-32\"/>\n      <use x=\"745.898438\" xlink:href=\"#DejaVuSans-76\"/>\n      <use x=\"801.595703\" xlink:href=\"#DejaVuSans-111\"/>\n      <use x=\"862.777344\" xlink:href=\"#DejaVuSans-103\"/>\n      <use x=\"926.253906\" xlink:href=\"#DejaVuSans-32\"/>\n      <use x=\"958.041016\" xlink:href=\"#DejaVuSans-114\"/>\n      <use x=\"999.123047\" xlink:href=\"#DejaVuSans-101\"/>\n      <use x=\"1060.646484\" xlink:href=\"#DejaVuSans-103\"/>\n      <use x=\"1124.123047\" xlink:href=\"#DejaVuSans-32\"/>\n      <use x=\"1155.910156\" xlink:href=\"#DejaVuSans-48\"/>\n      <use x=\"1219.533203\" xlink:href=\"#DejaVuSans-46\"/>\n      <use x=\"1251.320312\" xlink:href=\"#DejaVuSans-55\"/>\n      <use x=\"1314.943359\" xlink:href=\"#DejaVuSans-54\"/>\n      <use x=\"1378.566406\" xlink:href=\"#DejaVuSans-56\"/>\n     </g>\n    </g>\n    <g id=\"line2d_21\">\n     <path d=\"M 197.359375 225.178437 \nL 217.359375 225.178437 \n\" style=\"fill:none;stroke:#ff8c00;stroke-linecap:square;stroke-width:0.5;\"/>\n    </g>\n    <g id=\"line2d_22\"/>\n    <g id=\"text_18\">\n     <!-- ROC Curve for NN 0.854 -->\n     <defs>\n      <path d=\"M 9.8125 72.90625 \nL 23.09375 72.90625 \nL 55.421875 11.921875 \nL 55.421875 72.90625 \nL 64.984375 72.90625 \nL 64.984375 0 \nL 51.703125 0 \nL 19.390625 60.984375 \nL 19.390625 0 \nL 9.8125 0 \nz\n\" id=\"DejaVuSans-78\"/>\n      <path d=\"M 10.796875 72.90625 \nL 49.515625 72.90625 \nL 49.515625 64.59375 \nL 19.828125 64.59375 \nL 19.828125 46.734375 \nQ 21.96875 47.46875 24.109375 47.828125 \nQ 26.265625 48.1875 28.421875 48.1875 \nQ 40.625 48.1875 47.75 41.5 \nQ 54.890625 34.8125 54.890625 23.390625 \nQ 54.890625 11.625 47.5625 5.09375 \nQ 40.234375 -1.421875 26.90625 -1.421875 \nQ 22.3125 -1.421875 17.546875 -0.640625 \nQ 12.796875 0.140625 7.71875 1.703125 \nL 7.71875 11.625 \nQ 12.109375 9.234375 16.796875 8.0625 \nQ 21.484375 6.890625 26.703125 6.890625 \nQ 35.15625 6.890625 40.078125 11.328125 \nQ 45.015625 15.765625 45.015625 23.390625 \nQ 45.015625 31 40.078125 35.4375 \nQ 35.15625 39.890625 26.703125 39.890625 \nQ 22.75 39.890625 18.8125 39.015625 \nQ 14.890625 38.140625 10.796875 36.28125 \nz\n\" id=\"DejaVuSans-53\"/>\n     </defs>\n     <g transform=\"translate(225.359375 228.678437)scale(0.1 -0.1)\">\n      <use xlink:href=\"#DejaVuSans-82\"/>\n      <use x=\"69.482422\" xlink:href=\"#DejaVuSans-79\"/>\n      <use x=\"148.193359\" xlink:href=\"#DejaVuSans-67\"/>\n      <use x=\"218.017578\" xlink:href=\"#DejaVuSans-32\"/>\n      <use x=\"249.804688\" xlink:href=\"#DejaVuSans-67\"/>\n      <use x=\"319.628906\" xlink:href=\"#DejaVuSans-117\"/>\n      <use x=\"383.007812\" xlink:href=\"#DejaVuSans-114\"/>\n      <use x=\"424.121094\" xlink:href=\"#DejaVuSans-118\"/>\n      <use x=\"483.300781\" xlink:href=\"#DejaVuSans-101\"/>\n      <use x=\"544.824219\" xlink:href=\"#DejaVuSans-32\"/>\n      <use x=\"576.611328\" xlink:href=\"#DejaVuSans-102\"/>\n      <use x=\"611.816406\" xlink:href=\"#DejaVuSans-111\"/>\n      <use x=\"672.998047\" xlink:href=\"#DejaVuSans-114\"/>\n      <use x=\"714.111328\" xlink:href=\"#DejaVuSans-32\"/>\n      <use x=\"745.898438\" xlink:href=\"#DejaVuSans-78\"/>\n      <use x=\"820.703125\" xlink:href=\"#DejaVuSans-78\"/>\n      <use x=\"895.507812\" xlink:href=\"#DejaVuSans-32\"/>\n      <use x=\"927.294922\" xlink:href=\"#DejaVuSans-48\"/>\n      <use x=\"990.917969\" xlink:href=\"#DejaVuSans-46\"/>\n      <use x=\"1022.705078\" xlink:href=\"#DejaVuSans-56\"/>\n      <use x=\"1086.328125\" xlink:href=\"#DejaVuSans-53\"/>\n      <use x=\"1149.951172\" xlink:href=\"#DejaVuSans-52\"/>\n     </g>\n    </g>\n   </g>\n  </g>\n </g>\n <defs>\n  <clipPath id=\"p82093c5bee\">\n   <rect height=\"217.44\" width=\"334.8\" x=\"43.78125\" y=\"22.318125\"/>\n  </clipPath>\n </defs>\n</svg>\n",
      "image/png": "[encoded data removed]"
     },
     "metadata": {
      "needs_background": "light"
     }
    }
   ],
   "metadata": {}
  },
  {
   "cell_type": "markdown",
   "source": [
    "From looking at the accuracies, the order of models seems to be best neural network > best decision tree > best logistic regression. For the accuracies, the NN is only slightly better than the decision tree, but both were significantly better than the logistic regression. However, when it comes to the AUC, the difference between the models becomes more pronounced with the NN having a much better AUC than the decision tree and the logistic regression having a terrible AUC. From the ROC chart, it seems that the neural network is always as good or better than all of the other models. As the AUC of the logistic regression is so much worse than its accuracy, it seems that the logistic regression is severely overpredicting the majority class. For the decision tree, the AUC is 0.02 worse than the accuracy so it is also overpredicting the majority class a decent amount but nowhere near as much as the logistic regression. It seems that the neural network found the best representation of the data as the AUC is only 0.004 worse than it's accuracy, so it is adequately predicting both the majority and minority classes."
   ],
   "metadata": {}
  },
  {
   "cell_type": "markdown",
   "source": [
    "### 5.1.b Which model would you use in deployment based on these findings? Discuss why?\n",
    "From the problem statement in the task; \"Results inferred by these models should inform decision-makers of the (characteristics of) customers who have a high risk of churn. This information can be utilized in multiple ways to assist various stakeholders.\". For the purposes of understanding the characteristics of customers who have a high risk of churn, the neural network isn't very useful. This is because the neural network is a very hard model to interpret when compared to logistic regression or decision tree models. For this purpose, the best model would be the decision tree because the performance was only slightly worse than the neural network but it is still easy to understand what is happening in the decision tree by looking at the tree.\n",
    "\n",
    "However, if the firm wants to use the model to make predictions about new customers, maybe something covered under \"This information can be utilized in multiple ways to assist various stakeholders.\", then the neural network would be the best model to choose for this purpose because of it's strong performance.\n",
    "\n",
    "## 5.2 Can you summarise the positives and negative aspects of each predictive modelling method based on this data analysis exercise?\n",
    "The neural network has the strongest predictive performance but is the least interpretable and takes the longest to train if you want good performance because of the number of parameters to tune. The default settings for this model seem to overfit so parameter tuning is essential for this model type. If you were to have more features than the difference in training time for the neural network versus the other models would become more pronounced.  \n",
    "\n",
    "The logistic regression has the worst predictive performances of all the models but is the quickest to train and very easy to interpret. There is only one parameter to tune so parameter searching is very quick for this model. Further, the default settings of this model type perform quite well and don't seem to overfit to the data as much as the other model types default settings. It also provides feature importances that we can use for RFE.  \n",
    "\n",
    "The decision tree is a middle ground between the other options. It is quicker to train than the neural network but is slower than the logistic regression. The default settings for this model also seem to overfit so parameter tuning is essential but it is still a quicker process than the neural network. The model provides feature importances so it can be used for RFE. The model is also very interpretable just like the logistic regression.\n",
    "\n",
    "## 5.3 Finally, can you build an ensemble model combining all models? Does it produce better/equal/worse performance and why?"
   ],
   "metadata": {}
  },
  {
   "cell_type": "code",
   "execution_count": 47,
   "source": [
    "# import the model\n",
    "from sklearn.ensemble import VotingClassifier\n",
    "\n",
    "# initialise the classifier with 3 different estimators\n",
    "voting = VotingClassifier(estimators=\n",
    "                          [('dt', best_tree), ('lr', best_lr), \n",
    "                           ('nn', best_nn)], voting='soft')\n",
    "\n",
    "# fit the voting classifier to training data\n",
    "voting.fit(X_train, y_train)\n",
    "\n",
    "# evaluate train and test accuracy\n",
    "print(\"Ensemble train accuracy:\", voting.score(X_train, y_train))\n",
    "print(\"Ensemble test accuracy:\", voting.score(X_test, y_test))\n",
    "\n",
    "# evaluate ROC auc score\n",
    "y_pred_proba_ensemble = voting.predict_proba(X_test)\n",
    "roc_index_ensemble = roc_auc_score(y_test, y_pred_proba_ensemble[:, 1])\n",
    "print(\"ROC score of voting classifier:\", roc_index_ensemble)"
   ],
   "outputs": [
    {
     "output_type": "stream",
     "name": "stdout",
     "text": [
      "Ensemble train accuracy: 0.8563638972592912\n",
      "Ensemble test accuracy: 0.857429718875502\n",
      "ROC score of voting classifier: 0.8502095856533392\n"
     ]
    }
   ],
   "metadata": {}
  },
  {
   "cell_type": "markdown",
   "source": [
    "The best model had an accuracy of 0.8574 and an AUC of 0.8539. The ensembled model had an accuracy of 0.8574 and an AUC of 0.8502. The ensembled model had pretty much the same accuracy as the best model but the AUC score was noticably lower. Overall, this model performed worse than the best individual model did. The accuracy hardly changed, so it could be that the models were all correctly predicting similar values. But the AUC dropped from the best model. This could be because the other models were overpredicting the majority class to some extent, so bringing in the predictions from these models into the predictions from the best model was just dragging down the predictions of the best model. "
   ],
   "metadata": {}
  }
 ],
 "metadata": {
  "orig_nbformat": 4,
  "language_info": {
   "name": "python",
   "version": "3.7.6",
   "mimetype": "text/x-python",
   "codemirror_mode": {
    "name": "ipython",
    "version": 3
   },
   "pygments_lexer": "ipython3",
   "nbconvert_exporter": "python",
   "file_extension": ".py"
  },
  "kernelspec": {
   "name": "python3",
   "display_name": "Python 3.7.6 64-bit ('base': conda)"
  },
  "interpreter": {
   "hash": "66d3555cc5e02b2b2a0dfd9a1dfdf9611e3875cbaf2d58bae4fdcf6b995959ba"
  }
 },
 "nbformat": 4,
 "nbformat_minor": 2
}
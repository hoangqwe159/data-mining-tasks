{
 "cells": [
  {
   "cell_type": "markdown",
   "metadata": {},
   "source": [
    "# Practical 9: Text Mining\n",
    "\n",
    "### In this practical\n",
    "1. [Loading text data](#load)\n",
    "2. [Data preprocessing](#prep)\n",
    "3. [Document analysis](#analyse)\n",
    "3. [Feature selection and transformation](#transform)\n",
    "\n",
    "---\n",
    "**Written by Richi Nayak (r.nayak@qut.edu.au). All rights reserved.**\n",
    "\n",
    "This practical introduces you to text document analysis and mining using Python.\n",
    "Python is a programming language that supports widely used text libraries such\n",
    "as NLTK and gensim for performing many common text mining tasks. You will learn how to preprocess text data, perform dimensionality reduction and cluster text documents based on their content. The text analysis problem covered in this\n",
    "tutorial is **unlabelled**, however, supervised/predictive text mining problems are just as common."
   ]
  },
  {
   "cell_type": "markdown",
   "metadata": {},
   "source": [
    "## 1. Loading Text Data<a name = \"load\"></a>\n",
    "\n",
    "The dataset for this practical is **Federalistpapers.json**, containing 85 news articles selected from a number of newspapers. The objective is to group these articles based on their content similarity. These clusters can then be further used for many purposes, such as recommending similar articles to readers according to query similarity.\n",
    "\n",
    "As the dataset is in `.json` format, instead of the usual `.csv`, load the dataset using `.load_json` function from pandas."
   ]
  },
  {
   "cell_type": "code",
   "execution_count": 23,
   "metadata": {},
   "outputs": [
    {
     "name": "stdout",
     "output_type": "stream",
     "text": [
      "<class 'pandas.core.frame.DataFrame'>\n",
      "Int64Index: 85 entries, 0 to 84\n",
      "Data columns (total 11 columns):\n",
      " #   Column       Non-Null Count  Dtype  \n",
      "---  ------       --------------  -----  \n",
      " 0   ID           85 non-null     float64\n",
      " 1   Title        85 non-null     object \n",
      " 2   Author       85 non-null     object \n",
      " 3   Attribution  85 non-null     object \n",
      " 4   Text         85 non-null     object \n",
      " 5   Target       73 non-null     float64\n",
      " 6   Truncated    85 non-null     float64\n",
      " 7   Name         85 non-null     object \n",
      " 8   Size         85 non-null     int64  \n",
      " 9   Filtered     85 non-null     object \n",
      " 10  Unfiltered   85 non-null     object \n",
      "dtypes: float64(3), int64(1), object(7)\n",
      "memory usage: 8.0+ KB\n"
     ]
    }
   ],
   "source": [
    "import pandas as pd\n",
    "\n",
    "# load the dataset\n",
    "df = pd.read_json('Federalistpapers.json')\n",
    "\n",
    "# random state\n",
    "rs = 42\n",
    "\n",
    "# as usual, explore the dataset\n",
    "df.info()"
   ]
  },
  {
   "cell_type": "markdown",
   "metadata": {},
   "source": [
    "There are a number of columns in this dataset, covering information like ID, author, name, etc. As our aim is to discern articles based on their content, we need to inspect the `Text` column, which contains full text of each news article.\n",
    "\n",
    "Get the text of the first document using `.get_value()` function and print out\n",
    "the first 200 characters (can change the character size to to your liking)."
   ]
  },
  {
   "cell_type": "code",
   "execution_count": 24,
   "metadata": {},
   "outputs": [
    {
     "name": "stdout",
     "output_type": "stream",
     "text": [
      "To the People of the State of New York: AFTER an unequivocal experience of the inefficiency of the subsisting federal government, you are called upon to deliberate on a new Constitution for the United\n"
     ]
    }
   ],
   "source": [
    "import warnings\n",
    "warnings.filterwarnings(\"ignore\")\n",
    "# print out the first 200 characters of the first row of text column\n",
    "print(df._get_value(index=0, col='Text')[:200])"
   ]
  },
  {
   "cell_type": "markdown",
   "metadata": {},
   "source": [
    "On average, the `Text` column contains more than 13,000 characters. In this practical, we will be working with only 85 documents. However, in most text mining projects, you will deal many more documents, resulting in very large dataset and a lot of noise. This is particularly challenging in the era of social media and big data."
   ]
  },
  {
   "cell_type": "code",
   "execution_count": 25,
   "metadata": {},
   "outputs": [
    {
     "name": "stdout",
     "output_type": "stream",
     "text": [
      "13279.30588235294\n"
     ]
    }
   ],
   "source": [
    "# average length of text column\n",
    "print(df['Text'].apply(lambda x: len(x)).mean())"
   ]
  },
  {
   "cell_type": "markdown",
   "metadata": {},
   "source": [
    "## 2. Data Prepocessing <a name = \"prep\"></a>"
   ]
  },
  {
   "cell_type": "markdown",
   "metadata": {},
   "source": [
    "Different from the structured tabular datasets that we have been working until\n",
    "this practical, text data is considered as unstructured data. Text data requires significant preprocessing and transformation to make it a suitable training data for machine learning algorithms. There are a number of different methods to represent text data depending on the need and objective of the data mining process, including **bag of words**, **word2vec** and **sequential labels**. This practical will focus on the bag of words representation.\n",
    "\n",
    "In the bag of words method, each individual document is split into tokens (a process called tokenisation). A token can be a single word, stemmed (or lemmatised) word, or multiple consecutive words (also called as N-gram). There are many preprocessing methods typically used in tokenisation, and we will be using the following techniques:\n",
    "1. **Lowercase**: cast each word into its lowercased version. Ensure differently capitalised words are treated as the same word.\n",
    "2. **Punctuation** removal: remove all punctuation marks. We are only interested at the words.\n",
    "3. **Part of speech** filtering: keep tokens with certain part-of-speech only. In particular, here we are interested in adjectives, adverbs, nouns and verbs.\n",
    "4. **Lemmatisation**: reducing words/tokens into their base form. \n",
    "\n",
    "> #### Lemmatisation vs stemming\n",
    ">   There are minor diffrences between Lemmatisation and **stemming** that was\n",
    ">   introduced in the lecture. Stemming usually refers to a heuristic process\n",
    ">   that chops off the ends of words to get the base forms of the words.\n",
    ">   Lemmatisation usually refers the process of doing similar things, but using\n",
    ">   additional information of how the word is used in the context (semantic\n",
    ">   information). Lemmatisation returns the dictionary form of a word, also\n",
    ">   known as lemma. Given the word \"ponies\" for example, stemming will return\n",
    ">   \"poni\" (incorrect), while lemmatisation will return \"pony\" (correct). The\n",
    ">   drawback of lemmatisation is it requires additional analysis to obtain the\n",
    ">   required semantic information.\n",
    ">   [Source](https://nlp.stanford.edu/IR-book/html/htmledition/stemming-and-lemmatization-1.html)\n",
    "\n",
    "The next step is to transform the extracted tokens into a matrix structure, with documents as rows and tokens as columns. Each cell is a statistical value of a token in the corresponding document. This statistical value can range from simply whether the token is present in the document (0/1, binary), the frequency of appearances, document frequency, or other more complex calculations (TF-IDF, BM25, etc). TF-IDF is explained in detail in the lecture.\n",
    "\n",
    "To perform all of these operations, we need the `nltk` library, which comes by default in Anaconda. Verify that it is indeed installed by opening your Anaconda prompt, running the iPython console and typing `import nltk` into the interpreter.\n",
    "\n",
    "In additional to the library, we will need to download a number of packages in `nltk`. If this is your first time doing this tutorial, you also need to download certain packages in nltk. Follow these steps:\n",
    "1. Open your anaconda prompt, type and run `ipython`.\n",
    "2. Import nltk by typing `import nltk`.\n",
    "3. Run `nltk.download()`.\n",
    "4. A graphical window interface will open. Go to `All Packages` tab and download `WordNet`, `punkt`, `averaged_perceptron` and `stopwords` package.\n",
    "\n",
    "Once you have done these steps, import the following modules from nltk."
   ]
  },
  {
   "cell_type": "code",
   "execution_count": 26,
   "metadata": {},
   "outputs": [],
   "source": [
    "import string\n",
    "\n",
    "from nltk.corpus import stopwords as sw\n",
    "from nltk.corpus import wordnet as wn\n",
    "from nltk import wordpunct_tokenize\n",
    "from nltk import WordNetLemmatizer\n",
    "from nltk import sent_tokenize\n",
    "from nltk import pos_tag"
   ]
  },
  {
   "cell_type": "markdown",
   "metadata": {},
   "source": [
    "Before implementing preprocessing steps discussed earlier, we need to initialise a number of different resources.\n",
    "1. **Lemmatizer**: Lemmatizers are pre-trained dictionaries that maps words and their semantic values into their lemma form. This practical will use WordNet lemmatizer, which takes English words and their part of speech tags as inputs. We will also implement the `lemmatize` function to help streamline the lemmatisation process.\n",
    "2. **Stopwords**: List of common words that does not add any value into the analytical process, hence they need to be filtered out from the dataset. Common stopwords including *a, an, and*, *the,* and *is*. Each dataset also includes its own common words that should be treated as stopwords. Both `nltk` and `sklearn` provide a list of common stopwords for English. Additionally, `Federaliststop.json` includes domain-specific stopwords that should be excluded in the analysis. Therefore, we will merge the default NLTK stopword list with the provided stopwords.\n",
    "3. **Punctuation**: List of string punctuations (\",\", \".\", etc) that are not useful for text content analysis."
   ]
  },
  {
   "cell_type": "code",
   "execution_count": 41,
   "metadata": {},
   "outputs": [],
   "source": [
    "# initialise WordNet lemmatizer and punctuation filter\n",
    "lemmatizer = WordNetLemmatizer()\n",
    "punct = set(string.punctuation)\n",
    "\n",
    "# load the provided stopwords\n",
    "df_stop = pd.read_json('Federaliststop.json')\n",
    "\n",
    "# join provided stopwords with the default NLTK English stopwords\n",
    "stopwords = set(df_stop['Term']).union(set(sw.words('english')))\n",
    "# print(len(stopwords))\n",
    "# stopwords = set([\"state\"]).union(stopwords)\n",
    "# print(len(stopwords))\n",
    "# print('state' in stopwords)\n",
    "\n",
    "\n",
    "\n",
    "def lemmatize(token, tag):\n",
    "    tag = {\n",
    "        'N': wn.NOUN,\n",
    "        'V': wn.VERB,\n",
    "        'R': wn.ADV,\n",
    "        'J': wn.ADJ\n",
    "    }.get(tag[0], wn.NOUN)\n",
    "\n",
    "    return lemmatizer.lemmatize(token, tag)"
   ]
  },
  {
   "cell_type": "markdown",
   "metadata": {},
   "source": [
    "After all resources are loaded, we will implement the preprocessing methods in the `cab_tokenizer` function. This function takes a document string, split it into tokens and preprocess them. Read the comments to understand the function of each part."
   ]
  },
  {
   "cell_type": "code",
   "execution_count": 42,
   "metadata": {},
   "outputs": [],
   "source": [
    "def cab_tokenizer(document):\n",
    "    # initialize token list\n",
    "    tokens = []\n",
    "    \n",
    "    # split the document into sentences\n",
    "    for sent in sent_tokenize(document):\n",
    "        # split the document into tokens and then create part of speech tag for each token\n",
    "        for token, tag in pos_tag(wordpunct_tokenize(sent)):\n",
    "            # preprocess and remove unnecessary characters\n",
    "            token = token.lower()\n",
    "            token = token.strip()\n",
    "            token = token.strip('_')\n",
    "            token = token.strip('*')\n",
    "\n",
    "            # If stopword, ignore token and continue\n",
    "            if token in stopwords:\n",
    "                continue\n",
    "\n",
    "            # If punctuation, ignore token and continue\n",
    "            if all(char in punct for char in token):\n",
    "                continue\n",
    "\n",
    "            # Lemmatize the token and add back to the tokens list\n",
    "            lemma = lemmatize(token, tag)\n",
    "            tokens.append(lemma)\n",
    "    \n",
    "    return tokens"
   ]
  },
  {
   "cell_type": "markdown",
   "metadata": {},
   "source": [
    "Once we have a tokenizer function, we need to *vectorise* or transform the\n",
    "tokens into matrices. `Sklearn` provides convenient vectoriser classes to\n",
    "perform vectorisation. There are two types of vectoriser in `sklearn`,\n",
    "**CountVectorizer** (produces a matrix of raw token count value) and\n",
    "**TfidfVectorizer** (produces the tf/idf matrix). This practical will focus on\n",
    "using **TfidfVectorizer**.\n",
    "\n",
    "During vectorisation, we will supply `ngram_range` parameter of (1,2) to the\n",
    "vectoriser to produce both unigram and bigram (two words) tokens. Bigram tokens allow us to capture information from two consecutive words (e.g., phrase), which could be more meaningful than individual words."
   ]
  },
  {
   "cell_type": "code",
   "execution_count": 29,
   "metadata": {},
   "outputs": [
    {
     "name": "stdout",
     "output_type": "stream",
     "text": [
      "55917\n"
     ]
    }
   ],
   "source": [
    "from sklearn.feature_extraction.text import TfidfVectorizer\n",
    "\n",
    "# tf idf vectoriser\n",
    "tfidf_vec = TfidfVectorizer(tokenizer=cab_tokenizer, ngram_range=(1,2))\n",
    "X = tfidf_vec.fit_transform(df['Text'])\n",
    "\n",
    "# see the number of unique tokens produced by the vectorizer. Lots of them...\n",
    "print(len(tfidf_vec.get_feature_names()))"
   ]
  },
  {
   "cell_type": "markdown",
   "metadata": {},
   "source": [
    "## 3. Initial Document Analysis <a name = \"analyse\"></a>\n",
    "\n",
    "With the tokens vectorised into the doc-term matrix, we are ready to perform\n",
    "text clustering. Similar to the “traditional data” clustering practical, we will use KMeans clustering. For demonstration purposes, we will set $K=7$ here, but you can investigate the \"optimal\" K value using the elbow method and silhouette score as discussed in the clustering practical.\n"
   ]
  },
  {
   "cell_type": "code",
   "execution_count": 30,
   "metadata": {},
   "outputs": [],
   "source": [
    "from sklearn.cluster import KMeans\n",
    "\n",
    "# K means clustering using the term vector\n",
    "kmeans = KMeans(n_clusters=7, random_state=rs).fit(X)"
   ]
  },
  {
   "cell_type": "markdown",
   "metadata": {},
   "source": [
    "Once the clustering model is fitted, it is important to analyse characteristics of documents in the clusters. Understanding these characteristics gives us insights on what topics are contained in each cluster. To do this analysis, we should look at terms closest to the centroid of each clusters. Use the following function to visualise the clusters."
   ]
  },
  {
   "cell_type": "code",
   "execution_count": 31,
   "metadata": {
    "scrolled": true
   },
   "outputs": [
    {
     "name": "stdout",
     "output_type": "stream",
     "text": [
      "Top terms for cluster 0: representative, election, may, year, government, \n",
      "Top terms for cluster 1: court, law, power, would, may, \n",
      "Top terms for cluster 2: would, nation, state, one, army, \n",
      "Top terms for cluster 3: department, would, legislative, power, may, \n",
      "Top terms for cluster 4: president, senate, would, treaty, power, \n",
      "Top terms for cluster 5: would, government, upon, national, power, \n",
      "Top terms for cluster 6: government, state, may, power, would, \n"
     ]
    }
   ],
   "source": [
    "# function to visualise text cluster. Useful for the assignment too :)\n",
    "def visualise_text_cluster(n_clusters, cluster_centers, terms, num_word = 5):\n",
    "    # -- Params --\n",
    "    # cluster_centers: cluster centers of fitted/trained KMeans/other centroid-based clustering\n",
    "    # terms: terms used for clustering\n",
    "    # num_word: number of terms to show per cluster. Change as you please.\n",
    "    \n",
    "    # find features/terms closest to centroids\n",
    "    ordered_centroids = cluster_centers.argsort()[:, ::-1]\n",
    "    \n",
    "    for cluster in range(n_clusters):\n",
    "        print(\"Top terms for cluster {}:\".format(cluster), end=\" \")\n",
    "        for term_idx in ordered_centroids[cluster, :num_word]:\n",
    "            print(terms[term_idx], end=', ')\n",
    "        print()\n",
    "        \n",
    "# call it\n",
    "visualise_text_cluster(kmeans.n_clusters, kmeans.cluster_centers_, tfidf_vec.get_feature_names())"
   ]
  },
  {
   "cell_type": "markdown",
   "metadata": {},
   "source": [
    "The output above shows the terms characterising each cluster. Unfortunately, this clustering solution does not give good grouping. Too many key terms are shared between clusters (e.g. state, court, government), making it hard to differentiate clusters. This problem can be caused by unimportant terms \"clouding\" the feature/term vector, thus we should perform feature selection to remove them."
   ]
  },
  {
   "cell_type": "markdown",
   "metadata": {},
   "source": [
    "## 4. Feature Selection and Transformation <a name = \"transform\"></a>\n",
    "\n",
    "### 4.1. Zipf's Law and Document Frequency Filtering\n",
    "\n",
    "Zipf's law is an empirical law based on distribution of phrases in many large collections of documents. It states that the frequency of a term will be inversely proportioned with its rank in the frequency table ([more info](https://en.wikipedia.org/wiki/Zipf%27s_law)). Zipf law can be observed when you plot document occurences vs term occurences from the vectorised terms."
   ]
  },
  {
   "cell_type": "code",
   "execution_count": 43,
   "metadata": {},
   "outputs": [],
   "source": [
    "import seaborn as sns\n",
    "import matplotlib.pyplot as plt\n",
    "\n",
    "# creating tf-idf terms - a bit slow, do it occasionaly\n",
    "def calculate_tf_idf_terms(document_col):\n",
    "    # Param - document_col: collection of raw document text that you want to analyse\n",
    "    from sklearn.feature_extraction.text import CountVectorizer\n",
    "\n",
    "    # use count vectorizer to find TF and DF of each term\n",
    "    count_vec = CountVectorizer(tokenizer=cab_tokenizer, ngram_range=(1,2))\n",
    "    X_count = count_vec.fit_transform(df['Text'])\n",
    "    \n",
    "    # create list of terms and their tf and df\n",
    "    terms = [{'term': t, 'idx': count_vec.vocabulary_[t],\n",
    "              'tf': X_count[:, count_vec.vocabulary_[t]].sum(),\n",
    "              'df': X_count[:, count_vec.vocabulary_[t]].count_nonzero()}\n",
    "             for t in count_vec.vocabulary_]\n",
    "    \n",
    "    return terms\n",
    "    \n",
    "terms = calculate_tf_idf_terms(df['Text'])"
   ]
  },
  {
   "cell_type": "code",
   "execution_count": 44,
   "metadata": {},
   "outputs": [
    {
     "name": "stdout",
     "output_type": "stream",
     "text": [
      "<class 'pandas.core.frame.DataFrame'>\n",
      "RangeIndex: 55892 entries, 0 to 55891\n",
      "Data columns (total 4 columns):\n",
      " #   Column  Non-Null Count  Dtype \n",
      "---  ------  --------------  ----- \n",
      " 0   term    55892 non-null  object\n",
      " 1   idx     55892 non-null  int64 \n",
      " 2   tf      55892 non-null  int64 \n",
      " 3   df      55892 non-null  int64 \n",
      "dtypes: int64(3), object(1)\n",
      "memory usage: 1.7+ MB\n",
      "None\n"
     ]
    }
   ],
   "source": [
    "term_df = pd.DataFrame(terms)\n",
    "\n",
    "print(term_df.info())\n",
    "term_df.head(10)\n",
    "term_df.to_csv('out.csv', index=False)  "
   ]
  },
  {
   "cell_type": "code",
   "execution_count": 45,
   "metadata": {},
   "outputs": [
    {
     "data": {
      "image/png": "[encoded data removed]",
      "text/plain": [
       "<Figure size 432x288 with 1 Axes>"
      ]
     },
     "metadata": {
      "needs_background": "light"
     },
     "output_type": "display_data"
    }
   ],
   "source": [
    "# visualisation of ZIPF law\n",
    "def visualise_zipf(terms, itr_step = 50):\n",
    "    from scipy.spatial.distance import euclidean\n",
    "    from math import sqrt\n",
    "    \n",
    "    # --- Param ---\n",
    "    # terms: collection of terms dictionary from calculate_tf_idf_terms function\n",
    "    # itr_step: used to control how many terms that you want to plot. Num of terms to plot = N terms / itr_step\n",
    "    \n",
    "    # sort terms by its frequency\n",
    "    terms.sort(key=lambda x: (x['tf'], x['df']), reverse=True)\n",
    "    \n",
    "    # select a few of the terms for plotting purpose\n",
    "    sel_terms = [terms[i] for i in range(0, len(terms), itr_step)]\n",
    "    labels = [term['term'] for term in sel_terms]\n",
    "    \n",
    "    # plot term frequency ranking vs its DF\n",
    "    plt.plot(range(len(sel_terms)), [x['df'] for x in sel_terms])\n",
    "    plt.xlabel('Term frequency ranking')\n",
    "    plt.ylabel('Document frequency')\n",
    "    \n",
    "    max_x = len(sel_terms)\n",
    "    max_y = max([x['df'] for x in sel_terms])\n",
    "    \n",
    "    # annotate the points\n",
    "    prev_x, prev_y = 0, 0\n",
    "    for label, x, y in zip(labels,range(len(sel_terms)), [x['df'] for x in sel_terms]):\n",
    "        # calculate the relative distance between labels to increase visibility\n",
    "        x_dist = (abs(x - prev_x) / float(max_x)) ** 2\n",
    "        y_dist = (abs(y - prev_y) / float(max_y)) ** 2\n",
    "        scaled_dist = sqrt(x_dist + y_dist)\n",
    "        \n",
    "        if (scaled_dist > 0.1):\n",
    "            plt.text(x+2, y+2, label, {'ha': 'left', 'va': 'bottom'}, rotation=30)\n",
    "            prev_x, prev_y = x, y\n",
    "    \n",
    "    plt.show()\n",
    "    \n",
    "visualise_zipf(terms)"
   ]
  },
  {
   "cell_type": "markdown",
   "metadata": {},
   "source": [
    "Zipf's law is applied in text mining during the feature selection process. Terms that occured on the left-top area of the diagram above (e.g. state and latter) are terms that are too frequent (high TF and DF). Meanwhile, terms on the right-bottom side of the diagram e.g. (\"state combination\" and \"good danger\") only appear in select number of documents. Both groups of terms do not add value, thus filtering the low and high end terms, and keeping only terms in the middle area will benefit a clustering solution. This filtering can easily be done through limiting the DF value of terms in vectoriser."
   ]
  },
  {
   "cell_type": "code",
   "execution_count": 34,
   "metadata": {},
   "outputs": [
    {
     "name": "stdout",
     "output_type": "stream",
     "text": [
      "8826\n"
     ]
    }
   ],
   "source": [
    "# another tf idf vectoriser\n",
    "# limit the terms produced to terms that occured in min of 2 documents and max 80% of all documents\n",
    "filter_vec = TfidfVectorizer(tokenizer=cab_tokenizer, ngram_range=(1,2), min_df=2, max_df=0.8)\n",
    "X_filter = filter_vec.fit_transform(df['Text'])\n",
    "\n",
    "# see the number of unique tokens produced by the vectorizer. Reduced!\n",
    "print(len(filter_vec.get_feature_names()))"
   ]
  },
  {
   "cell_type": "markdown",
   "metadata": {},
   "source": [
    "This process greatly reduced the number of terms in a feature set. Try to build another clustering solution and check if the clusters are more meaningful."
   ]
  },
  {
   "cell_type": "code",
   "execution_count": 35,
   "metadata": {},
   "outputs": [
    {
     "name": "stdout",
     "output_type": "stream",
     "text": [
      "Wall time: 116 ms\n"
     ]
    }
   ],
   "source": [
    "%%time\n",
    "# K means clustering using the new term vector, time it for comparison to SVD\n",
    "kmeans_fil = KMeans(n_clusters=7, random_state=rs).fit(X_filter)"
   ]
  },
  {
   "cell_type": "code",
   "execution_count": 36,
   "metadata": {},
   "outputs": [
    {
     "name": "stdout",
     "output_type": "stream",
     "text": [
      "Top terms for cluster 0: representative, election, senate, year, number, house, house representative, legislature, elect, representation, \n",
      "Top terms for cluster 1: court, law, jurisdiction, authority, national, upon, convention, trial, tribunal, cause, \n",
      "Top terms for cluster 2: nation, interest, trade, america, commercial, war, market, foreign, neighbor, policy, \n",
      "Top terms for cluster 3: department, legislative, interest, judiciary, party, upon, magistrate, office, member, man, \n",
      "Top terms for cluster 4: president, senate, treaty, appointment, upon, governor, office, nomination, make treaty, person, \n",
      "Top terms for cluster 5: national, member, authority, upon, land, city, law, kind, force, revenue, \n",
      "Top terms for cluster 6: army, upon, establishment, liberty, national, militia, right, authority, congress, form, \n"
     ]
    }
   ],
   "source": [
    "# visualisation\n",
    "visualise_text_cluster(kmeans_fil.n_clusters, kmeans_fil.cluster_centers_, filter_vec.get_feature_names(), 10)"
   ]
  },
  {
   "cell_type": "markdown",
   "metadata": {},
   "source": [
    "With much less terms in the feature vector, the clustering process managed to\n",
    "result in much more meaningful solution. The cluster topics can be distinctly\n",
    "recognized like justice department (\\#6), military (\\#2), parliament (\\#3), etc."
   ]
  },
  {
   "cell_type": "markdown",
   "metadata": {},
   "source": [
    "### 4.2. Singular Value Decomposition\n",
    "\n",
    "Singular value decomposition (SVD) is a dimensionality reduction method that\n",
    "works by factorizing a matrix. SVD is used widely in data mining through many techniques like Principal Component Analysis (PCA - a common dimensionality reduction method applied on traditional data to understand variables dependencies) and in text mining, Latent Semantic Analysis (LSA). LSA is\n",
    "applied to analyzing documents by finding the underlying meaning or concepts of words in these documents. LSA uses SVD to reduce the number of terms while\n",
    "preserving the similarity structure among documents.\n",
    "\n",
    "[More info](https://en.wikipedia.org/wiki/Latent_semantic_analysis)\n",
    "\n",
    "LSA is typically used to help comparing and finding similar documents (like in document clustering and classification) and also finding synonymous/polysemous relationships between words. LSA can help in increasing speed (less features) and accuracy (comparison is now based on document concept similary instead of word similarity) of the model.\n",
    "\n",
    "In the following code, we will reduce the original `X` into only 100 components."
   ]
  },
  {
   "cell_type": "code",
   "execution_count": 37,
   "metadata": {},
   "outputs": [],
   "source": [
    "from sklearn.decomposition import TruncatedSVD\n",
    "\n",
    "svd = TruncatedSVD(n_components=100, random_state=42)\n",
    "X_trans = svd.fit_transform(X_filter)"
   ]
  },
  {
   "cell_type": "markdown",
   "metadata": {},
   "source": [
    "Each of the components produced by SVD contain weights associated with each word. The larger the weight is, the more connected the word is to the component."
   ]
  },
  {
   "cell_type": "code",
   "execution_count": 38,
   "metadata": {
    "scrolled": true
   },
   "outputs": [
    {
     "name": "stdout",
     "output_type": "stream",
     "text": [
      "Top terms in component #0 upon, national, law, authority, representative, \n",
      "Top terms in component #1 senate, president, representative, legislative, department, \n",
      "Top terms in component #2 court, law, jurisdiction, judiciary, department, \n",
      "Top terms in component #3 president, senate, upon, treaty, appointment, \n",
      "Top terms in component #4 department, legislative, army, judiciary, republic, \n",
      "Top terms in component #5 court, treaty, cause, jurisdiction, nation, \n",
      "Top terms in component #6 army, confederation, congress, militia, article, \n",
      "Top terms in component #7 court, army, militia, election, upon, \n",
      "Top terms in component #8 nation, legislative, department, trade, treaty, \n",
      "Top terms in component #9 member, authority, city, province, militia, \n"
     ]
    }
   ],
   "source": [
    "# sort the components by largest weighted word\n",
    "sorted_comp = svd.components_.argsort()[:, ::-1]\n",
    "terms = filter_vec.get_feature_names()\n",
    "\n",
    "# visualise word - concept/component relationships\n",
    "for comp_num in range(10):\n",
    "    print(\"Top terms in component #{}\".format(comp_num), end=\" \")\n",
    "    for i in sorted_comp[comp_num, :5]:\n",
    "        print(terms[i], end=\", \")\n",
    "    print()"
   ]
  },
  {
   "cell_type": "markdown",
   "metadata": {},
   "source": [
    "The transformed `X` can now be used for clustering. Build a new clustering solution on the transformed `X`."
   ]
  },
  {
   "cell_type": "code",
   "execution_count": 39,
   "metadata": {
    "scrolled": true
   },
   "outputs": [
    {
     "name": "stdout",
     "output_type": "stream",
     "text": [
      "Wall time: 20.9 ms\n"
     ]
    }
   ],
   "source": [
    "%%time\n",
    "# K-means clustering using LSA-transformed X\n",
    "svd_kmeans = KMeans(n_clusters=7, random_state=rs).fit(X_trans)"
   ]
  },
  {
   "cell_type": "markdown",
   "metadata": {},
   "source": [
    "SVD transformed clustering is much much faster than the normal one (~50 ms vs ~800 ms). Let's see if the SVD transformation changes the clustering characteristics."
   ]
  },
  {
   "cell_type": "code",
   "execution_count": 40,
   "metadata": {},
   "outputs": [
    {
     "name": "stdout",
     "output_type": "stream",
     "text": [
      "Top terms for cluster 0: representative, election, senate, year, number, \n",
      "Top terms for cluster 1: court, law, jurisdiction, authority, national, \n",
      "Top terms for cluster 2: nation, interest, trade, america, commercial, \n",
      "Top terms for cluster 3: department, legislative, interest, judiciary, party, \n",
      "Top terms for cluster 4: president, senate, treaty, appointment, upon, \n",
      "Top terms for cluster 5: national, member, authority, upon, land, \n",
      "Top terms for cluster 6: army, upon, establishment, liberty, national, \n"
     ]
    }
   ],
   "source": [
    "# transform cluster centers back to original feature space for visualisation\n",
    "original_space_centroids = svd.inverse_transform(svd_kmeans.cluster_centers_)\n",
    "\n",
    "# visualisation\n",
    "visualise_text_cluster(svd_kmeans.n_clusters, original_space_centroids, filter_vec.get_feature_names())"
   ]
  },
  {
   "cell_type": "markdown",
   "metadata": {},
   "source": [
    "There is not much difference in the cluster topic terms between SVD-transformed feature vs normal feature. This means the original clustering solution has managed to capture the difference in concepts/topics in the document space. SVD is still beneficial due to reduced training time, which is extremely beneficial in large document clustering.\n",
    "\n",
    "## End Notes\n",
    "\n",
    "This practical gives you a tour to familiarize with text mining functions and libraries in Python, and how a data set appearing in the text format can be analyzed with data mining techniques such as clustering. You prepared the FEDPAPERS data set for finding the natural groupings of the text data. It particularly covered text pre-processing (such as stop-word removal, lemmatizing), dimensionality reduction (applying Zipf’s law and transformation of the text data with a factorization method (for feature selection) called as Singular Value Decomposition (SVD)), and finally performing clustering on the text data for finding similarity and understanding the common themes in the data set."
   ]
  }
 ],
 "metadata": {
  "anaconda-cloud": {},
  "interpreter": {
   "hash": "e3ea0e4d3c501299bcd86a3c7f9ae72c65cd8a24dc7e7fcbd1d10980e4f47bdb"
  },
  "kernelspec": {
   "display_name": "Python 3.8.8 64-bit ('base': conda)",
   "name": "python3"
  },
  "language_info": {
   "codemirror_mode": {
    "name": "ipython",
    "version": 3
   },
   "file_extension": ".py",
   "mimetype": "text/x-python",
   "name": "python",
   "nbconvert_exporter": "python",
   "pygments_lexer": "ipython3",
   "version": "3.8.8"
  }
 },
 "nbformat": 4,
 "nbformat_minor": 2
}
